{
 "cells": [
  {
   "cell_type": "markdown",
   "metadata": {},
   "source": [
    "# Exception Handling"
   ]
  },
  {
   "cell_type": "markdown",
   "metadata": {},
   "source": [
    "### Common ValueErrors"
   ]
  },
  {
   "cell_type": "code",
   "execution_count": 13,
   "metadata": {},
   "outputs": [
    {
     "ename": "ValueError",
     "evalue": "invalid literal for int() with base 10: 'one'",
     "output_type": "error",
     "traceback": [
      "\u001b[1;31m---------------------------------------------------------------------------\u001b[0m",
      "\u001b[1;31mValueError\u001b[0m                                Traceback (most recent call last)",
      "\u001b[1;32m<ipython-input-13-af90a16a38f9>\u001b[0m in \u001b[0;36m<module>\u001b[1;34m()\u001b[0m\n\u001b[1;32m----> 1\u001b[1;33m \u001b[0mint\u001b[0m\u001b[1;33m(\u001b[0m\u001b[1;34m\"one\"\u001b[0m\u001b[1;33m)\u001b[0m\u001b[1;33m\u001b[0m\u001b[0m\n\u001b[0m",
      "\u001b[1;31mValueError\u001b[0m: invalid literal for int() with base 10: 'one'"
     ]
    }
   ],
   "source": [
    "int(\"one\")"
   ]
  },
  {
   "cell_type": "code",
   "execution_count": null,
   "metadata": {
    "collapsed": true
   },
   "outputs": [],
   "source": [
    "try:\n",
    "    impossible_value = int(\"Not an integer\")\n",
    "except ValueError:\n",
    "    print(\"Cannot convert string to integer\")"
   ]
  },
  {
   "cell_type": "markdown",
   "metadata": {},
   "source": [
    "### Catching Different Types of Errors"
   ]
  },
  {
   "cell_type": "code",
   "execution_count": 15,
   "metadata": {},
   "outputs": [
    {
     "ename": "FileNotFoundError",
     "evalue": "[Errno 2] No such file or directory: 'data.txt'",
     "output_type": "error",
     "traceback": [
      "\u001b[1;31m---------------------------------------------------------------------------\u001b[0m",
      "\u001b[1;31mFileNotFoundError\u001b[0m                         Traceback (most recent call last)",
      "\u001b[1;32m<ipython-input-15-59ebaf344c86>\u001b[0m in \u001b[0;36m<module>\u001b[1;34m()\u001b[0m\n\u001b[1;32m----> 1\u001b[1;33m \u001b[0mf\u001b[0m \u001b[1;33m=\u001b[0m \u001b[0mopen\u001b[0m\u001b[1;33m(\u001b[0m\u001b[1;34m\"data.txt\"\u001b[0m\u001b[1;33m,\u001b[0m \u001b[1;34m\"r\"\u001b[0m\u001b[1;33m)\u001b[0m\u001b[1;33m\u001b[0m\u001b[0m\n\u001b[0m",
      "\u001b[1;31mFileNotFoundError\u001b[0m: [Errno 2] No such file or directory: 'data.txt'"
     ]
    }
   ],
   "source": [
    "f = open(\"data.txt\", \"r\")"
   ]
  },
  {
   "cell_type": "code",
   "execution_count": 16,
   "metadata": {},
   "outputs": [
    {
     "name": "stdout",
     "output_type": "stream",
     "text": [
      "Something else went wrong\n"
     ]
    }
   ],
   "source": [
    "try:\n",
    "    f = open(\"data.txt\", \"r\")\n",
    "    s = f.readline()\n",
    "    i = float(s)\n",
    "except ValueError:\n",
    "    print(\"Cannot convert data to floating point value\")\n",
    "except:\n",
    "    print(\"Something else went wrong\")"
   ]
  },
  {
   "cell_type": "markdown",
   "metadata": {},
   "source": [
    "# Example"
   ]
  },
  {
   "cell_type": "code",
   "execution_count": 3,
   "metadata": {
    "collapsed": true
   },
   "outputs": [],
   "source": [
    "chopsticks = [['19.55', '1', '180'],\n",
    " ['27.24', '2', '180'],\n",
    " ['28.76', '3', '180'],\n",
    " ['31.19', '4', '180'],\n",
    " ['21.91', '5', '180'],\n",
    " ['27.62', '6', '180'],\n",
    " ['29.46', '7', '180'],\n",
    " ['26.35', '8', '180'],\n",
    " ['26.69', '9', '180'],\n",
    " ['30.22', '10', '180'],\n",
    " ['27.81', '11', '180'],\n",
    " ['23.46', '12', '180'],\n",
    " ['23.64', '13', '180'],\n",
    " ['27.85', '14', '180'],\n",
    " ['20.62', '15', '180'],\n",
    " ['25.35', '16', '180'],\n",
    " ['28', '17', '180'],\n",
    " ['23.49', '18', '180'],\n",
    " ['27.77', '19', '180'],\n",
    " ['18.48', '20', '180'],\n",
    " ['23.01', '21', '180'],\n",
    " ['22.66', '22', '180'],\n",
    " ['23.24', '23', '180'],\n",
    " ['22.82', '24', '180'],\n",
    " ['17.94', '25', '180'],\n",
    " ['26.67', '26', '180'],\n",
    " ['28.98', '27', '180'],\n",
    " ['21.48', '28', '180'],\n",
    " ['14.47', '29', '180'],\n",
    " ['28.29', '30', '180'],\n",
    " ['27.97', '31', '180'],\n",
    " ['23.53', '1', '210'],\n",
    " ['26.39', '2', '210'],\n",
    " ['30.9', '3', '210'],\n",
    " ['26.05', '4', '210'],\n",
    " ['23.27', '5', '210'],\n",
    " ['29.17', '6', '210'],\n",
    " ['30.93', '7', '210'],\n",
    " ['17.55', '8', '210'],\n",
    " ['32.55', '9', '210'],\n",
    " ['28.87', '10', '210'],\n",
    " ['26.53', '11', '210'],\n",
    " ['25.26', '12', '210'],\n",
    " ['25.65', '13', '210'],\n",
    " ['29.39', '14', '210'],\n",
    " ['23.26', '15', '210'],\n",
    " ['24.77', '16', '210'],\n",
    " ['25.42', '17', '210'],\n",
    " ['23.65', '18', '210'],\n",
    " ['32.22', '19', '210'],\n",
    " ['18.86', '20', '210'],\n",
    " ['21.75', '21', '210'],\n",
    " ['23.07', '22', '210'],\n",
    " ['22.3', '23', '210'],\n",
    " ['27.04', '24', '210'],\n",
    " ['22.24', '25', '210'],\n",
    " ['24.87', '26', '210'],\n",
    " ['30.85', '27', '210'],\n",
    " ['21.15', '28', '210'],\n",
    " ['16.47', '29', '210'],\n",
    " ['29.05', '30', '210'],\n",
    " ['26.99', '31', '210'],\n",
    " ['21.34', '1', '240'],\n",
    " ['29.94', '2', '240'],\n",
    " ['32.95', '3', '240'],\n",
    " ['29.4', '4', '240'],\n",
    " ['22.32', '5', '240'],\n",
    " ['28.36', '6', '240'],\n",
    " ['28.49', '7', '240'],\n",
    " ['22.24', '8', '240'],\n",
    " ['36.15', '9', '240'],\n",
    " ['30.62', '10', '240'],\n",
    " ['26.53', '11', '240'],\n",
    " ['27.95', '12', '240'],\n",
    " ['31.49', '13', '240'],\n",
    " ['30.24', '14', '240'],\n",
    " ['24.8', '15', '240'],\n",
    " ['26.43', '16', '240'],\n",
    " ['29.35', '17', '240'],\n",
    " ['21.15', '18', '240'],\n",
    " ['29.18', '19', '240'],\n",
    " ['21.6', '20', '240'],\n",
    " ['25.39', '21', '240'],\n",
    " ['22.26', '22', '240'],\n",
    " ['24.85', '23', '240'],\n",
    " ['24.56', '24', '240'],\n",
    " ['16.35', '25', '240'],\n",
    " ['22.96', '26', '240'],\n",
    " ['25.82', '27', '240'],\n",
    " ['19.46', '28', '240'],\n",
    " ['23.6', '29', '240'],\n",
    " ['33.1', '30', '240'],\n",
    " ['27.13', '31', '240'],\n",
    " ['24.4', '1', '270'],\n",
    " ['25.88', '2', '270'],\n",
    " ['27.97', '3', '270'],\n",
    " ['24.54', '4', '270'],\n",
    " ['22.66', '5', '270'],\n",
    " ['28.94', '6', '270'],\n",
    " ['30.72', '7', '270'],\n",
    " ['16.7', '8', '270'],\n",
    " ['30.27', '9', '270'],\n",
    " ['26.29', '10', '270'],\n",
    " ['22.33', '11', '270'],\n",
    " ['24.85', '12', '270'],\n",
    " ['24.33', '13', '270'],\n",
    " ['24.5', '14', '270'],\n",
    " ['22.67', '15', '270'],\n",
    " ['22.28', '16', '270'],\n",
    " ['23.8', '17', '270'],\n",
    " ['25.36', '18', '270'],\n",
    " ['29.5', '19', '270'],\n",
    " ['20.19', '20', '270'],\n",
    " ['20.14', '21', '270'],\n",
    " ['21.09', '22', '270'],\n",
    " ['24.78', '23', '270'],\n",
    " ['24.74', '24', '270'],\n",
    " ['22.73', '25', '270'],\n",
    " ['21.08', '26', '270'],\n",
    " ['25.7', '27', '270'],\n",
    " ['19.79', '28', '270'],\n",
    " ['16.82', '29', '270'],\n",
    " ['31.15', '30', '270'],\n",
    " ['27.84', '31', '270'],\n",
    " ['22.5', '1', '300'],\n",
    " ['23.1', '2', '300'],\n",
    " ['28.26', '3', '300'],\n",
    " ['25.55', '4', '300'],\n",
    " ['16.71', '5', '300'],\n",
    " ['27.88', '6', '300'],\n",
    " ['31.07', '7', '300'],\n",
    " ['23.44', '8', '300'],\n",
    " ['28.82', '9', '300'],\n",
    " ['27.77', '10', '300'],\n",
    " ['24.54', '11', '300'],\n",
    " ['24.55', '12', '300'],\n",
    " ['27.78', '13', '300'],\n",
    " ['26.14', '14', '300'],\n",
    " ['23.44', '15', '300'],\n",
    " ['26.44', '16', '300'],\n",
    " ['27.47', '17', '300'],\n",
    " ['24.94', '18', '300'],\n",
    " ['29.68', '19', '300'],\n",
    " ['24.33', '20', '300'],\n",
    " ['25.42', '21', '300'],\n",
    " ['24.64', '22', '300'],\n",
    " ['22.78', '23', '300'],\n",
    " ['26.5', '24', '300'],\n",
    " ['18.71', '25', '300'],\n",
    " ['22.86', '26', '300'],\n",
    " ['25.09', '27', '300'],\n",
    " ['19.72', '28', '300'],\n",
    " ['17.05', '29', '300'],\n",
    " ['30.91', '30', '300'],\n",
    " ['25.92', '31', '300'],\n",
    " ['21.32', '1', '330'],\n",
    " ['26.18', '2', '330'],\n",
    " ['25.93', '3', '330'],\n",
    " ['28.61', '4', '330'],\n",
    " ['20.54', '5', '330'],\n",
    " ['26.44', '6', '330'],\n",
    " ['29.36', '7', '330'],\n",
    " ['19.77', '8', '330'],\n",
    " ['31.69', '9', '330'],\n",
    " ['24.64', '10', '330'],\n",
    " ['22.09', '11', '330'],\n",
    " ['23.42', '12', '330'],\n",
    " ['28.63', '13', '330'],\n",
    " ['26.3', '14', '330'],\n",
    " ['22.89', '15', '330'],\n",
    " ['22.68', '16', '330'],\n",
    " ['30.92', '17', '330'],\n",
    " ['20.74', '18', '330'],\n",
    " ['27.24', '19', '330'],\n",
    " ['17.12', '20', '330'],\n",
    " ['23.63', '21', '330'],\n",
    " ['20.91', '22', '330'],\n",
    " ['23.49', '23', '330'],\n",
    " ['24.86', '24', '330'],\n",
    " ['16.28', '25', '330'],\n",
    " ['21.52', '26', '330'],\n",
    " ['27.22', '27', '330'],\n",
    " ['17.41', '28', '330'],\n",
    " ['16.42', '29', '330'],\n",
    " ['28.22', '30', '330'],\n",
    " ['27.52', '31', '330']]"
   ]
  },
  {
   "cell_type": "code",
   "execution_count": 30,
   "metadata": {
    "collapsed": true
   },
   "outputs": [],
   "source": [
    "class Trial(object):\n",
    "    def __init__(self, data_row):\n",
    "        try:\n",
    "            self.efficiency = float(data_row[0])\n",
    "            self.individual = int(data_row[1])\n",
    "            self.chopstick_length = int(data_row[2])\n",
    "        except ValueError:\n",
    "            self.efficiency = -1.0\n",
    "            self.individual = -1\n",
    "            self.chopstick_length = -1\n",
    "\n",
    "class Chopstick(object):\n",
    "    def __init__(self, length):\n",
    "        self.length = length\n",
    "        self.trials = []\n",
    "        for row in chopsticks:\n",
    "            if int(row[2]) == self.length:\n",
    "                trial = Trial(row)\n",
    "                if trial.individual >= 0:\n",
    "                    self.trials.append(trial)\n",
    "    \n",
    "    # Total Number of Trials                \n",
    "    def num_trials(self):\n",
    "        return len(self.trials)\n",
    "    \n",
    "    # Calc Average Chopstick Efficiency from Trials\n",
    "    def avg_efficiency(self):\n",
    "        try:\n",
    "            efficiency_sum = 0\n",
    "            for trial in self.trials:\n",
    "                efficiency_sum += trial.efficiency\n",
    "            return efficiency_sum / self.num_trials()\n",
    "        except ZeroDivisionError:\n",
    "            return -1.0\n",
    "        \n",
    "    # Comparing Efficiencies\n",
    "    def __lt__(self, other):\n",
    "        return self.avg_efficiency() < other.avg_efficiency()\n",
    "    def __gt__(self, other):\n",
    "        return self.avg_efficiency() > other.avg_efficiency()\n",
    "    def __le__(self, other):\n",
    "        return self.avg_efficiency() <= other.avg_efficiency()\n",
    "    def __ge__(self, other):\n",
    "        return self.avg_efficiency() >= other.avg_efficiency()\n",
    "    def __eq__(self, other):\n",
    "        return self.avg_efficiency() == other.avg_efficiency()\n",
    "    def __ne__(self, other):\n",
    "        return self.avg_efficiency() != other.avg_efficiency()\n",
    "    \n",
    "    def __repr__(self):\n",
    "        return str(self.length)\n",
    "\n",
    "\n",
    "first_trial = Trial(chopsticks[0])\n",
    "mini_chopstick = Chopstick(100)\n",
    "medium_chopstick = Chopstick(240)\n",
    "avg_eff_210 = Chopstick(210).avg_efficiency()"
   ]
  },
  {
   "cell_type": "code",
   "execution_count": 31,
   "metadata": {
    "collapsed": true
   },
   "outputs": [],
   "source": [
    "chopstick_lengths = [180, 195, 210, 225, 240, 255, 270, 285, 300, 315, 330]\n",
    "\n",
    "chopstick_list = [Chopstick(length) for length in chopstick_lengths]\n",
    "most_efficient = max(chopstick_list)\n",
    "least_efficient = min(chopstick_list)\n",
    "\n",
    "ranking = sorted(chopstick_list)"
   ]
  },
  {
   "cell_type": "code",
   "execution_count": 34,
   "metadata": {},
   "outputs": [
    {
     "name": "stdout",
     "output_type": "stream",
     "text": [
      "240 195\n",
      "Worst [195, 225, 255, 285, 315, 330, 270, 180, 300, 210, 240] Best\n"
     ]
    }
   ],
   "source": [
    "print(most_efficient,least_efficient)\n",
    "print(\"Worst\",ranking,\"Best\")"
   ]
  }
 ],
 "metadata": {
  "kernelspec": {
   "display_name": "Python [conda root]",
   "language": "python",
   "name": "conda-root-py"
  },
  "language_info": {
   "codemirror_mode": {
    "name": "ipython",
    "version": 3
   },
   "file_extension": ".py",
   "mimetype": "text/x-python",
   "name": "python",
   "nbconvert_exporter": "python",
   "pygments_lexer": "ipython3",
   "version": "3.5.3"
  }
 },
 "nbformat": 4,
 "nbformat_minor": 2
}
