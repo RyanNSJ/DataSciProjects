{
 "cells": [
  {
   "cell_type": "markdown",
   "metadata": {},
   "source": [
    "# Computer Architecture"
   ]
  },
  {
   "cell_type": "markdown",
   "metadata": {},
   "source": [
    "### Memory Addresses"
   ]
  },
  {
   "cell_type": "code",
   "execution_count": 4,
   "metadata": {},
   "outputs": [],
   "source": [
    "a = 1\n",
    "b = \"two\"\n",
    "c = [\"three\"]\n",
    "d = {4:\"four\"}"
   ]
  },
  {
   "cell_type": "code",
   "execution_count": 5,
   "metadata": {},
   "outputs": [
    {
     "name": "stdout",
     "output_type": "stream",
     "text": [
      "1781867184 2627616847328 2627616245128 2627633829000\n"
     ]
    }
   ],
   "source": [
    "print(id(a),id(b),id(c),id(d))"
   ]
  },
  {
   "cell_type": "markdown",
   "metadata": {},
   "source": [
    "### Size in Bytes"
   ]
  },
  {
   "cell_type": "code",
   "execution_count": 9,
   "metadata": {},
   "outputs": [
    {
     "name": "stdout",
     "output_type": "stream",
     "text": [
      "28 52 72 288\n"
     ]
    }
   ],
   "source": [
    "import sys\n",
    "\n",
    "print(sys.getsizeof(a), sys.getsizeof(b), sys.getsizeof(c), sys.getsizeof(d))"
   ]
  },
  {
   "cell_type": "code",
   "execution_count": 49,
   "metadata": {},
   "outputs": [
    {
     "name": "stdout",
     "output_type": "stream",
     "text": [
      "24 28 32\n"
     ]
    }
   ],
   "source": [
    "a1 = 0\n",
    "a2 = 1\n",
    "a3 = 10000000000\n",
    "\n",
    "print(sys.getsizeof(a1), sys.getsizeof(a2), sys.getsizeof(a3))"
   ]
  },
  {
   "cell_type": "code",
   "execution_count": 50,
   "metadata": {},
   "outputs": [
    {
     "name": "stdout",
     "output_type": "stream",
     "text": [
      "50 51 52\n"
     ]
    }
   ],
   "source": [
    "b1 = \"t\"\n",
    "b2 = \"tw\"\n",
    "b3 = \"two\"\n",
    "\n",
    "print(sys.getsizeof(b1), sys.getsizeof(b2), sys.getsizeof(b3))"
   ]
  },
  {
   "cell_type": "code",
   "execution_count": 55,
   "metadata": {},
   "outputs": [
    {
     "name": "stdout",
     "output_type": "stream",
     "text": [
      "72 72 80 88\n"
     ]
    }
   ],
   "source": [
    "c0 = [\"t\"]\n",
    "c1 = [\"tt\"]\n",
    "c2 = [\"t\",\"h\"]\n",
    "c3 = [\"t\",\"h\",\"r\"]\n",
    "\n",
    "print(sys.getsizeof(c0), sys.getsizeof(c1), sys.getsizeof(c2), sys.getsizeof(c3))"
   ]
  },
  {
   "cell_type": "markdown",
   "metadata": {},
   "source": [
    "### Time Check"
   ]
  },
  {
   "cell_type": "code",
   "execution_count": 66,
   "metadata": {},
   "outputs": [
    {
     "name": "stdout",
     "output_type": "stream",
     "text": [
      "Times: 266.3135081 266.3139893 266.3257382 266.3258064\n",
      "Times Taken: 0.0004812000000242733 0.011748899999986406 6.819999998697313e-05\n"
     ]
    }
   ],
   "source": [
    "import time\n",
    "import csv\n",
    "\n",
    "t1 = time.clock()\n",
    "f = open(\"sentences_cia.csv\", \"r\")\n",
    "\n",
    "t2 = time.clock()\n",
    "list_from_file = list(csv.reader(f))\n",
    "\n",
    "t3 = time.clock()\n",
    "list_from_RAM = \"1,2,3,4,5,6,7,8,9,10\".split(\",\")\n",
    "\n",
    "t4 = time.clock()\n",
    "\n",
    "print(\"Times:\", t1,t2,t3,t4)\n",
    "print(\"Times Taken:\", t2-t1,t3-t2,t4-t3)"
   ]
  }
 ],
 "metadata": {
  "kernelspec": {
   "display_name": "Python [conda root]",
   "language": "python",
   "name": "conda-root-py"
  },
  "language_info": {
   "codemirror_mode": {
    "name": "ipython",
    "version": 3
   },
   "file_extension": ".py",
   "mimetype": "text/x-python",
   "name": "python",
   "nbconvert_exporter": "python",
   "pygments_lexer": "ipython3",
   "version": "3.5.3"
  }
 },
 "nbformat": 4,
 "nbformat_minor": 2
}
