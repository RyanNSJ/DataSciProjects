{
 "cells": [
  {
   "cell_type": "markdown",
   "metadata": {},
   "source": [
    "# Custom Classes"
   ]
  },
  {
   "cell_type": "code",
   "execution_count": 63,
   "metadata": {},
   "outputs": [
    {
     "name": "stdout",
     "output_type": "stream",
     "text": [
      "Reinhardt\n",
      "Reinhardt Wilhelm\n",
      "17\n",
      "Brigitte\n",
      "Brigitte Lindholm\n",
      "17\n",
      "Lúcio\n",
      "Lúcio Correia\n",
      "13\n"
     ]
    }
   ],
   "source": [
    "class Person(object):\n",
    "    \n",
    "    # Initialize Function\n",
    "    def __init__(self, first_name, last_name):\n",
    "        self.first_name = first_name\n",
    "        self.last_name = last_name\n",
    "        self.fullname = first_name + \" \" + last_name\n",
    "        \n",
    "    # Instance Methods\n",
    "    def name_length(self):\n",
    "        return len(self.fullname)\n",
    "    \n",
    "    # Class Methods\n",
    "    @classmethod\n",
    "    def longer_name(self, person1, person2):\n",
    "        if person1.name_length() > person2.name_length():\n",
    "            return person1.fullname\n",
    "        elif person1.name_length() == person2.name_length():\n",
    "            return \"Same Length\"\n",
    "        else:\n",
    "            return person2.fullname\n",
    "    \n",
    "    # Overloading (overwriting parent class behaviour)\n",
    "    def __lt__(self,other):\n",
    "        return self.first_name < other.first_name\n",
    "    def __gt__(self, other):\n",
    "        return self.first_name > other.first_name\n",
    "    def __le__(self, other):\n",
    "        return self.first_name <= other.first_name\n",
    "    def __ge__(self, other):\n",
    "        return self.first_name >= other.first_name\n",
    "    def __eq__(self, other):\n",
    "        return self.first_name == other.first_name\n",
    "    def __ne__(self, other):\n",
    "        return self.first_name != other.first_name\n",
    "    \n",
    "    def __str__(self):\n",
    "        return str(self.first_name)\n",
    "    \n",
    "    __repr__ = __str__\n",
    "    \n",
    "man = Person(\"Reinhardt\",\"Wilhelm\")\n",
    "print(man)\n",
    "print(man.first_name, man.last_name)\n",
    "print(man.name_length())\n",
    "\n",
    "woman = Person(\"Brigitte\",\"Lindholm\")\n",
    "print(woman)\n",
    "print(woman.first_name, woman.last_name)\n",
    "print(woman.name_length())\n",
    "\n",
    "frog = Person(\"Lúcio\",\"Correia\")\n",
    "print(frog)\n",
    "print(frog.first_name, frog.last_name)\n",
    "print(frog.name_length())"
   ]
  },
  {
   "cell_type": "code",
   "execution_count": 64,
   "metadata": {},
   "outputs": [
    {
     "data": {
      "text/plain": [
       "'Reinhardt Wilhelm'"
      ]
     },
     "execution_count": 64,
     "metadata": {},
     "output_type": "execute_result"
    }
   ],
   "source": [
    "Person.longer_name(frog,man)"
   ]
  },
  {
   "cell_type": "code",
   "execution_count": 65,
   "metadata": {},
   "outputs": [
    {
     "data": {
      "text/plain": [
       "False"
      ]
     },
     "execution_count": 65,
     "metadata": {},
     "output_type": "execute_result"
    }
   ],
   "source": [
    "man < frog # False since \"R\" should come after \"L\""
   ]
  },
  {
   "cell_type": "code",
   "execution_count": 66,
   "metadata": {},
   "outputs": [
    {
     "data": {
      "text/plain": [
       "False"
      ]
     },
     "execution_count": 66,
     "metadata": {},
     "output_type": "execute_result"
    }
   ],
   "source": [
    "\"R\" < \"L\""
   ]
  },
  {
   "cell_type": "code",
   "execution_count": 67,
   "metadata": {},
   "outputs": [
    {
     "data": {
      "text/plain": [
       "True"
      ]
     },
     "execution_count": 67,
     "metadata": {},
     "output_type": "execute_result"
    }
   ],
   "source": [
    "man == man"
   ]
  },
  {
   "cell_type": "code",
   "execution_count": 69,
   "metadata": {},
   "outputs": [
    {
     "name": "stdout",
     "output_type": "stream",
     "text": [
      "[Reinhardt, Brigitte, Lúcio]\n",
      "[Brigitte, Lúcio, Reinhardt]\n"
     ]
    }
   ],
   "source": [
    "people = [man,woman,frog]\n",
    "print(people)\n",
    "print(sorted(people))"
   ]
  }
 ],
 "metadata": {
  "kernelspec": {
   "display_name": "Python [conda root]",
   "language": "python",
   "name": "conda-root-py"
  },
  "language_info": {
   "codemirror_mode": {
    "name": "ipython",
    "version": 3
   },
   "file_extension": ".py",
   "mimetype": "text/x-python",
   "name": "python",
   "nbconvert_exporter": "python",
   "pygments_lexer": "ipython3",
   "version": "3.5.3"
  }
 },
 "nbformat": 4,
 "nbformat_minor": 2
}
