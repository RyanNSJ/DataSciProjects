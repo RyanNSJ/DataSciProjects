{
 "cells": [
  {
   "cell_type": "markdown",
   "metadata": {},
   "source": [
    "# Parallel Processing"
   ]
  },
  {
   "cell_type": "markdown",
   "metadata": {},
   "source": [
    "### Mutable vs Immutable Variables"
   ]
  },
  {
   "cell_type": "code",
   "execution_count": 4,
   "metadata": {},
   "outputs": [
    {
     "name": "stdout",
     "output_type": "stream",
     "text": [
      "5\n",
      "['OLD', 'OLD', 'NEW']\n"
     ]
    }
   ],
   "source": [
    "def add1(x):\n",
    "    x = x + 1\n",
    "    \n",
    "def addelement(y):\n",
    "    y.append(\"NEW\")\n",
    "\n",
    "# External integers are immutable from within a function\n",
    "x = 5\n",
    "add1(x)\n",
    "print(x)\n",
    "\n",
    "# External lists and dictionaries are mutable from within a function\n",
    "y = [\"OLD\",\"OLD\"]\n",
    "addelement(y)\n",
    "print(y)"
   ]
  },
  {
   "cell_type": "markdown",
   "metadata": {},
   "source": [
    "* Parallel processing works best with mutable variables since multiple processes need modify access to a variable at the same time"
   ]
  },
  {
   "cell_type": "markdown",
   "metadata": {},
   "source": [
    "### Multithreading"
   ]
  },
  {
   "cell_type": "code",
   "execution_count": 7,
   "metadata": {},
   "outputs": [
    {
     "name": "stdout",
     "output_type": "stream",
     "text": [
      "100000\n"
     ]
    }
   ],
   "source": [
    "import threading\n",
    "\n",
    "class Counter():\n",
    "    def __init__(self):\n",
    "        self.count = 0\n",
    "    def increment(self):\n",
    "        self.count += 1\n",
    "    def get_count(self):\n",
    "        return self.count\n",
    "\n",
    "def count_up_100000(counter):\n",
    "    for i in range(100000):\n",
    "        counter.increment()\n",
    "\n",
    "counter = Counter()\n",
    "\n",
    "# Initializing a thread object with a process: a function and its arguments\n",
    "count_thread = threading.Thread(target=count_up_100000, args=[counter])\n",
    "\n",
    "# Starting a thread's process\n",
    "count_thread.start()\n",
    "\n",
    "# Instructions to join the thread back to the main process\n",
    "count_thread.join()\n",
    "\n",
    "# Main thread continues only after all started threads have completed their processes and rejoined the main thread\n",
    "\n",
    "after_join = counter.get_count()\n",
    "print(after_join)"
   ]
  },
  {
   "cell_type": "markdown",
   "metadata": {},
   "source": [
    "#### Threading is Non-Deterministic\n",
    "* Before thread is completed and `thread.join()` rejoins it back to the main thread, process completion is non-deterministic in nature"
   ]
  },
  {
   "cell_type": "code",
   "execution_count": 16,
   "metadata": {},
   "outputs": [
    {
     "name": "stdout",
     "output_type": "stream",
     "text": [
      "50939 27005 30535\n"
     ]
    }
   ],
   "source": [
    "def conduct_trial():\n",
    "    counter = Counter()\n",
    "    count_thread = threading.Thread(target=count_up_100000, args=[counter])\n",
    "    count_thread.start()\n",
    "    return counter.get_count()\n",
    "\n",
    "    # Not called, does not wait for thread process to complete\n",
    "    # count_thread.join()\n",
    "    \n",
    "trial1 = conduct_trial()\n",
    "trial2 = conduct_trial()\n",
    "trial3 = conduct_trial()\n",
    "print(trial1,trial2,trial3)"
   ]
  },
  {
   "cell_type": "markdown",
   "metadata": {},
   "source": [
    "#### Locking\n",
    "* A lock is a way to conditionally block the execution of some threads.\n",
    "* A lock is either __available__ or __aquired__\n",
    "* Threads are only allowed to proceed if there are __available__ locks\n",
    "* If all locks have been __aquired__ by other threads, a thread will be blocked until a lock is __available__\n",
    "* A lock is like a constrained resource shared between threads"
   ]
  },
  {
   "cell_type": "code",
   "execution_count": 29,
   "metadata": {},
   "outputs": [
    {
     "name": "stdout",
     "output_type": "stream",
     "text": [
      "23250\n",
      "48390\n",
      "18460\n"
     ]
    }
   ],
   "source": [
    "import threading\n",
    "\n",
    "def count_up_100000(counter, lock):\n",
    "    for i in range(10000):\n",
    "        \n",
    "        # Lock is only ever released to become available in counter increments of 10\n",
    "        lock.acquire()\n",
    "        for i in range(10):\n",
    "            counter.increment()\n",
    "        lock.release()\n",
    "\n",
    "def conduct_trial():\n",
    "    counter = Counter()\n",
    "    \n",
    "    # Initialize a Lock\n",
    "    lock = threading.Lock()\n",
    "    \n",
    "    count_thread = threading.Thread(target=count_up_100000, args=[counter, lock])\n",
    "    count_thread.start()\n",
    "    \n",
    "    # Only can run if a lock is available, grabs the counter at wherever count_thread is at\n",
    "    lock.acquire()\n",
    "    intermediate_value = counter.get_count()\n",
    "    lock.release()\n",
    "    \n",
    "    # Allows count_thread to continue until is it completed\n",
    "    count_thread.join()\n",
    "    return intermediate_value\n",
    "\n",
    "trial1 = conduct_trial()\n",
    "print(trial1)\n",
    "trial2 = conduct_trial()\n",
    "print(trial2)\n",
    "trial3 = conduct_trial()\n",
    "print(trial3)"
   ]
  },
  {
   "cell_type": "markdown",
   "metadata": {},
   "source": [
    "### Two Threads Simultaneously"
   ]
  },
  {
   "cell_type": "markdown",
   "metadata": {},
   "source": [
    "* Non Deterministic since counter.increment() is non-atomic, which means Thread 1 and Thread 2 could both be modifying and overwriting the values of the counter at the same time."
   ]
  },
  {
   "cell_type": "code",
   "execution_count": 34,
   "metadata": {},
   "outputs": [
    {
     "name": "stdout",
     "output_type": "stream",
     "text": [
      "186668\n",
      "200000\n",
      "200000\n"
     ]
    }
   ],
   "source": [
    "import threading\n",
    "\n",
    "def count_up_100000(counter):\n",
    "    for i in range(100000):\n",
    "        counter.increment()\n",
    "\n",
    "def conduct_trial():\n",
    "    counter = Counter()\n",
    "    count_thread1 = threading.Thread(target=count_up_100000, args=[counter])\n",
    "    count_thread2 = threading.Thread(target=count_up_100000, args=[counter])\n",
    "\n",
    "    count_thread1.start()\n",
    "    count_thread2.start()\n",
    "\n",
    "    # Join the threads here\n",
    "    count_thread2.join()\n",
    "    count_thread1.join()\n",
    "\n",
    "\n",
    "    final_count = counter.get_count()\n",
    "    return final_count\n",
    "\n",
    "trial1 = conduct_trial()\n",
    "print(trial1)\n",
    "trial2 = conduct_trial()\n",
    "print(trial2)\n",
    "trial3 = conduct_trial()\n",
    "print(trial3)"
   ]
  },
  {
   "cell_type": "markdown",
   "metadata": {},
   "source": [
    "* Atomic locking will prevent non-deterministic overwriting since only one thread can call counter.increment() at a time"
   ]
  },
  {
   "cell_type": "code",
   "execution_count": null,
   "metadata": {
    "collapsed": true
   },
   "outputs": [],
   "source": [
    "import threading\n",
    "\n",
    "class Counter():\n",
    "    def __init__(self):\n",
    "        self.count = 0\n",
    "    def increment(self):\n",
    "        old_count = self.count\n",
    "        self.count = old_count + 1\n",
    "    def get_count(self):\n",
    "        return self.count\n",
    "\n",
    "def count_up_100000(counter, lock):\n",
    "    for i in range(100000):\n",
    "        lock.acquire()\n",
    "        counter.increment()\n",
    "        lock.release()\n",
    "        \n",
    "def conduct_trial():\n",
    "    counter = Counter()\n",
    "    \n",
    "    lock = threading.Lock()\n",
    "    \n",
    "    count_thread1 = threading.Thread(target=count_up_100000, args=[counter,lock])\n",
    "    count_thread2 = threading.Thread(target=count_up_100000, args=[counter,lock])\n",
    "\n",
    "    count_thread1.start()\n",
    "    count_thread2.start()\n",
    "\n",
    "    count_thread1.join()\n",
    "    count_thread2.join()\n",
    "\n",
    "    final_count = counter.get_count()\n",
    "    return final_count\n",
    "\n",
    "trial1 = conduct_trial()\n",
    "print(trial1)\n",
    "trial2 = conduct_trial()\n",
    "print(trial2)\n",
    "trial3 = conduct_trial()\n",
    "print(trial3)"
   ]
  }
 ],
 "metadata": {
  "kernelspec": {
   "display_name": "Python [conda root]",
   "language": "python",
   "name": "conda-root-py"
  },
  "language_info": {
   "codemirror_mode": {
    "name": "ipython",
    "version": 3
   },
   "file_extension": ".py",
   "mimetype": "text/x-python",
   "name": "python",
   "nbconvert_exporter": "python",
   "pygments_lexer": "ipython3",
   "version": "3.5.3"
  }
 },
 "nbformat": 4,
 "nbformat_minor": 2
}
