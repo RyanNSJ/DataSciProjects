{
 "cells": [
  {
   "cell_type": "markdown",
   "metadata": {},
   "source": [
    "### Start SparkContext Instance"
   ]
  },
  {
   "cell_type": "code",
   "execution_count": 1,
   "metadata": {
    "collapsed": true
   },
   "outputs": [],
   "source": [
    "# Find path to PySpark.\n",
    "import findspark\n",
    "findspark.init()\n",
    "\n",
    "# Import PySpark and initialize SparkContext object.\n",
    "import pyspark\n",
    "sc = pyspark.SparkContext()"
   ]
  },
  {
   "cell_type": "markdown",
   "metadata": {},
   "source": [
    "### Import Raw Data"
   ]
  },
  {
   "cell_type": "code",
   "execution_count": 2,
   "metadata": {},
   "outputs": [
    {
     "data": {
      "text/plain": [
       "[['hamlet@0', '', 'HAMLET'],\n",
       " ['hamlet@8'],\n",
       " ['hamlet@9'],\n",
       " ['hamlet@10', '', 'DRAMATIS PERSONAE'],\n",
       " ['hamlet@29']]"
      ]
     },
     "execution_count": 2,
     "metadata": {},
     "output_type": "execute_result"
    }
   ],
   "source": [
    "raw_hamlet = sc.textFile(\"hamlet.txt\")\n",
    "split_hamlet = raw_hamlet.map(lambda line: line.split('\\t'))\n",
    "split_hamlet.take(5)"
   ]
  },
  {
   "cell_type": "markdown",
   "metadata": {},
   "source": [
    "### Strip Prefixes"
   ]
  },
  {
   "cell_type": "code",
   "execution_count": 11,
   "metadata": {},
   "outputs": [
    {
     "data": {
      "text/plain": [
       "[['0', '', 'HAMLET'],\n",
       " ['8'],\n",
       " ['9'],\n",
       " ['10', '', 'DRAMATIS PERSONAE'],\n",
       " ['29'],\n",
       " ['30'],\n",
       " ['31', 'CLAUDIUS', 'king of Denmark. (KING CLAUDIUS:)'],\n",
       " ['74'],\n",
       " ['75', 'HAMLET', 'son to the late, and nephew to the present king.'],\n",
       " ['131']]"
      ]
     },
     "execution_count": 11,
     "metadata": {},
     "output_type": "execute_result"
    }
   ],
   "source": [
    "def format_id(x):\n",
    "    id = x[0].split('@')[1]\n",
    "    results = list()\n",
    "    results.append(id)\n",
    "    if len(x) > 1:\n",
    "        for y in x[1:]:\n",
    "            results.append(y)\n",
    "    return results\n",
    "\n",
    "hamlet_with_ids = split_hamlet.map(lambda line: format_id(line))\n",
    "hamlet_with_ids.take(10)"
   ]
  },
  {
   "cell_type": "markdown",
   "metadata": {},
   "source": [
    "### Remove Blanks and Pipes"
   ]
  },
  {
   "cell_type": "code",
   "execution_count": 19,
   "metadata": {},
   "outputs": [
    {
     "data": {
      "text/plain": [
       "[['0', 'HAMLET'],\n",
       " ['10', 'DRAMATIS PERSONAE'],\n",
       " ['31', 'CLAUDIUS', 'king of Denmark. (KING CLAUDIUS:)'],\n",
       " ['75', 'HAMLET', 'son to the late, and nephew to the present king.'],\n",
       " ['132', 'POLONIUS', 'lord chamberlain. (LORD POLONIUS:)'],\n",
       " ['177', 'HORATIO', 'friend to Hamlet.'],\n",
       " ['204', 'LAERTES', 'son to Polonius.'],\n",
       " ['230', 'LUCIANUS', 'nephew to the king.'],\n",
       " ['261', 'VOLTIMAND'],\n",
       " ['276', 'CORNELIUS']]"
      ]
     },
     "execution_count": 19,
     "metadata": {},
     "output_type": "execute_result"
    }
   ],
   "source": [
    "def rm_blanks(x):\n",
    "    if '|' in x:\n",
    "        x.remove('|')\n",
    "    if '' in x:\n",
    "        x.remove('')\n",
    "    if len(x)!=1:\n",
    "        yield(x)\n",
    "        \n",
    "hamlet_text_only = hamlet_with_ids.flatMap(rm_blanks)\n",
    "hamlet_text_only.take(10)"
   ]
  },
  {
   "cell_type": "code",
   "execution_count": 16,
   "metadata": {
    "collapsed": true
   },
   "outputs": [],
   "source": [
    "# OR"
   ]
  },
  {
   "cell_type": "code",
   "execution_count": 21,
   "metadata": {},
   "outputs": [
    {
     "data": {
      "text/plain": [
       "[['0', 'HAMLET'],\n",
       " ['10', 'DRAMATIS PERSONAE'],\n",
       " ['31', 'CLAUDIUS', 'king of Denmark. (KING CLAUDIUS:)'],\n",
       " ['75', 'HAMLET', 'son to the late, and nephew to the present king.'],\n",
       " ['132', 'POLONIUS', 'lord chamberlain. (LORD POLONIUS:)'],\n",
       " ['177', 'HORATIO', 'friend to Hamlet.'],\n",
       " ['204', 'LAERTES', 'son to Polonius.'],\n",
       " ['230', 'LUCIANUS', 'nephew to the king.'],\n",
       " ['261', 'VOLTIMAND'],\n",
       " ['273'],\n",
       " ['276', 'CORNELIUS'],\n",
       " ['288'],\n",
       " ['291', 'ROSENCRANTZ', '|  courtiers.'],\n",
       " ['317'],\n",
       " ['320', 'GUILDENSTERN'],\n",
       " ['335'],\n",
       " ['338', 'OSRIC'],\n",
       " ['348', 'A Gentleman, (Gentlemen:)'],\n",
       " ['376', 'A Priest. (First Priest:)'],\n",
       " ['405', 'MARCELLUS'],\n",
       " ['417', '|  officers.'],\n",
       " ['431', 'BERNARDO'],\n",
       " ['444', 'FRANCISCO', 'a soldier.'],\n",
       " ['466', 'REYNALDO', 'servant to Polonius.'],\n",
       " ['496', 'Players.'],\n",
       " ['506', '(First Player:)'],\n",
       " ['523', '(Player King:)'],\n",
       " ['539', '(Player Queen:)'],\n",
       " ['557', 'Two Clowns, grave-diggers.'],\n",
       " ['585', '(First Clown:)'],\n",
       " ['601', '(Second Clown:)'],\n",
       " ['619', 'FORTINBRAS', 'prince of Norway. (PRINCE FORTINBRAS:)'],\n",
       " ['670', 'A Captain.'],\n",
       " ['683', 'English Ambassadors. (First Ambassador:)'],\n",
       " ['726', 'GERTRUDE', 'queen of Denmark, and mother to Hamlet.'],\n",
       " ['775', '(QUEEN GERTRUDE:)'],\n",
       " ['795', 'OPHELIA', 'daughter to Polonius.'],\n",
       " ['826', 'Lords, Ladies, Officers, Soldiers, Sailors, Messengers,'],\n",
       " ['883', 'and other Attendants. (Lord:)'],\n",
       " ['914', '(First Sailor:)'],\n",
       " ['931', '(Messenger:)'],\n",
       " ['946', \"Ghost of Hamlet's Father. (Ghost:)\"],\n",
       " ['985', 'SCENE', 'Denmark.'],\n",
       " ['1004', 'HAMLET'],\n",
       " ['1014', 'ACT I'],\n",
       " ['1023', 'SCENE I', 'Elsinore. A platform before the castle.'],\n",
       " ['1073', '[FRANCISCO at his post. Enter to him BERNARDO]'],\n",
       " ['1122', 'BERNARDO', \"Who's there?\"],\n",
       " ['1145', 'FRANCISCO', 'Nay, answer me: stand, and unfold yourself.'],\n",
       " ['1200', 'BERNARDO', 'Long live the king!'],\n",
       " ['1230', 'FRANCISCO', 'Bernardo?'],\n",
       " ['1251', 'BERNARDO', 'He.'],\n",
       " ['1265', 'FRANCISCO', 'You come most carefully upon your hour.'],\n",
       " ['1316', 'BERNARDO', \"'Tis now struck twelve; get thee to bed, Francisco.\"],\n",
       " ['1378', 'FRANCISCO', \"For this relief much thanks: 'tis bitter cold,\"],\n",
       " ['1435', 'And I am sick at heart.'],\n",
       " ['1461', 'BERNARDO', 'Have you had quiet guard?'],\n",
       " ['1497', 'FRANCISCO', 'Not a mouse stirring.'],\n",
       " ['1530', 'BERNARDO', 'Well, good night.'],\n",
       " ['1557', 'If you do meet Horatio and Marcellus,'],\n",
       " ['1596', 'The rivals of my watch, bid them make haste.'],\n",
       " ['1643', 'FRANCISCO', \"I think I hear them. Stand, ho! Who's there?\"],\n",
       " ['1699', '[Enter HORATIO and MARCELLUS]'],\n",
       " ['1731', 'HORATIO', 'Friends to this ground.'],\n",
       " ['1764', 'MARCELLUS', 'And liegemen to the Dane.'],\n",
       " ['1801', 'FRANCISCO', 'Give you good night.'],\n",
       " ['1833', 'MARCELLUS', 'O, farewell, honest soldier:'],\n",
       " ['1872', 'Who hath relieved you?'],\n",
       " ['1897', 'FRANCISCO', 'Bernardo has my place.'],\n",
       " ['1930', 'Give you good night.'],\n",
       " ['1953', '[Exit]'],\n",
       " ['1962', 'MARCELLUS', 'Holla! Bernardo!'],\n",
       " ['1990', 'BERNARDO', 'Say,'],\n",
       " ['2004', 'What, is Horatio there?'],\n",
       " ['2030', 'HORATIO', 'A piece of him.'],\n",
       " ['2055', 'BERNARDO', 'Welcome, Horatio: welcome, good Marcellus.'],\n",
       " ['2108', 'MARCELLUS', \"What, has this thing appear'd again to-night?\"],\n",
       " ['2165', 'BERNARDO', 'I have seen nothing.'],\n",
       " ['2196', 'MARCELLUS', \"Horatio says 'tis but our fantasy,\"],\n",
       " ['2241', 'And will not let belief take hold of him'],\n",
       " ['2283', 'Touching this dreaded sight, twice seen of us:'],\n",
       " ['2331', 'Therefore I have entreated him along'],\n",
       " ['2369', 'With us to watch the minutes of this night;'],\n",
       " ['2414', 'That if again this apparition come,'],\n",
       " ['2451', 'He may approve our eyes and speak to it.'],\n",
       " ['2494', 'HORATIO', \"Tush, tush, 'twill not appear.\"],\n",
       " ['2534', 'BERNARDO', 'Sit down awhile;'],\n",
       " ['2560', 'And let us once again assail your ears,'],\n",
       " ['2601', 'That are so fortified against our story'],\n",
       " ['2642', 'What we have two nights seen.'],\n",
       " ['2674', 'HORATIO', 'Well, sit we down,'],\n",
       " ['2701', 'And let us hear Bernardo speak of this.'],\n",
       " ['2743', 'BERNARDO', 'Last night of all,'],\n",
       " ['2771', \"When yond same star that's westward from the pole\"],\n",
       " ['2822', 'Had made his course to illume that part of heaven'],\n",
       " ['2873', 'Where now it burns, Marcellus and myself,'],\n",
       " ['2916', 'The bell then beating one,--'],\n",
       " ['2947', '[Enter Ghost]'],\n",
       " ['2963', 'MARCELLUS', 'Peace, break thee off; look, where it comes again!'],\n",
       " ['3025', 'BERNARDO', \"In the same figure, like the king that's dead.\"]]"
      ]
     },
     "execution_count": 21,
     "metadata": {},
     "output_type": "execute_result"
    }
   ],
   "source": [
    "hamlet_with_ids.take(5)\n",
    "real_text = hamlet_with_ids.filter(lambda line: len(line) > 1)\n",
    "hamlet_text_only = real_text.map(lambda line: [l for l in line if (l != '') and (l != '|')])\n",
    "hamlet_text_only.take(100)"
   ]
  }
 ],
 "metadata": {
  "kernelspec": {
   "display_name": "Python [conda root]",
   "language": "python",
   "name": "conda-root-py"
  },
  "language_info": {
   "codemirror_mode": {
    "name": "ipython",
    "version": 3
   },
   "file_extension": ".py",
   "mimetype": "text/x-python",
   "name": "python",
   "nbconvert_exporter": "python",
   "pygments_lexer": "ipython3",
   "version": "3.5.3"
  }
 },
 "nbformat": 4,
 "nbformat_minor": 2
}
