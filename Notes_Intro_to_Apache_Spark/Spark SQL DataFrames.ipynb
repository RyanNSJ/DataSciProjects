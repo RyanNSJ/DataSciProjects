{
 "cells": [
  {
   "cell_type": "markdown",
   "metadata": {},
   "source": [
    "### Data Preview"
   ]
  },
  {
   "cell_type": "code",
   "execution_count": 1,
   "metadata": {},
   "outputs": [
    {
     "name": "stdout",
     "output_type": "stream",
     "text": [
      "{\"females\": 1994141, \"total\": 4079669, \"males\": 2085528, \"age\": 0, \"year\": 2010}\n",
      "\n",
      "{\"females\": 1997991, \"total\": 4085341, \"males\": 2087350, \"age\": 1, \"year\": 2010}\n",
      "\n",
      "{\"females\": 2000746, \"total\": 4089295, \"males\": 2088549, \"age\": 2, \"year\": 2010}\n",
      "\n",
      "{\"females\": 2002756, \"total\": 4092221, \"males\": 2089465, \"age\": 3, \"year\": 2010}\n",
      "\n"
     ]
    }
   ],
   "source": [
    "f = open('census_2010.json')\n",
    "\n",
    "for i in range(0,4):\n",
    "    print(f.readline())"
   ]
  },
  {
   "cell_type": "markdown",
   "metadata": {},
   "source": [
    "### Instantiate SQLContext Object"
   ]
  },
  {
   "cell_type": "code",
   "execution_count": 2,
   "metadata": {
    "collapsed": true
   },
   "outputs": [],
   "source": [
    "# Find path to PySpark.\n",
    "import findspark\n",
    "findspark.init()\n",
    "\n",
    "# Import PySpark and initialize SparkContext object.\n",
    "import pyspark\n",
    "sc = pyspark.SparkContext()"
   ]
  },
  {
   "cell_type": "code",
   "execution_count": 3,
   "metadata": {},
   "outputs": [
    {
     "name": "stdout",
     "output_type": "stream",
     "text": [
      "<class 'pyspark.sql.dataframe.DataFrame'>\n"
     ]
    }
   ],
   "source": [
    "# Import SQLContext\n",
    "from pyspark.sql import SQLContext\n",
    "\n",
    "# Pass in the SparkContext object `sc`\n",
    "sqlCtx = SQLContext(sc)\n",
    "\n",
    "# Read JSON data into a DataFrame object `df`\n",
    "df = sqlCtx.read.json(\"census_2010.json\")\n",
    "\n",
    "# Print the type\n",
    "print(type(df))"
   ]
  },
  {
   "cell_type": "markdown",
   "metadata": {},
   "source": [
    "### Display an SQL DataFrame Schema"
   ]
  },
  {
   "cell_type": "code",
   "execution_count": 6,
   "metadata": {},
   "outputs": [
    {
     "name": "stdout",
     "output_type": "stream",
     "text": [
      "root\n",
      " |-- age: long (nullable = true)\n",
      " |-- females: long (nullable = true)\n",
      " |-- males: long (nullable = true)\n",
      " |-- total: long (nullable = true)\n",
      " |-- year: long (nullable = true)\n",
      "\n"
     ]
    }
   ],
   "source": [
    "df.printSchema()"
   ]
  },
  {
   "cell_type": "markdown",
   "metadata": {},
   "source": [
    "### DataFrame.show()  -  _Display rows of an SQL DataFrame_"
   ]
  },
  {
   "cell_type": "code",
   "execution_count": 8,
   "metadata": {
    "scrolled": true
   },
   "outputs": [
    {
     "name": "stdout",
     "output_type": "stream",
     "text": [
      "+---+-------+-------+-------+----+\n",
      "|age|females|  males|  total|year|\n",
      "+---+-------+-------+-------+----+\n",
      "|  0|1994141|2085528|4079669|2010|\n",
      "|  1|1997991|2087350|4085341|2010|\n",
      "|  2|2000746|2088549|4089295|2010|\n",
      "|  3|2002756|2089465|4092221|2010|\n",
      "|  4|2004366|2090436|4094802|2010|\n",
      "|  5|2005925|2091803|4097728|2010|\n",
      "|  6|2007781|2093905|4101686|2010|\n",
      "|  7|2010281|2097080|4107361|2010|\n",
      "|  8|2013771|2101670|4115441|2010|\n",
      "|  9|2018603|2108014|4126617|2010|\n",
      "+---+-------+-------+-------+----+\n",
      "only showing top 10 rows\n",
      "\n"
     ]
    }
   ],
   "source": [
    "df.show(10)"
   ]
  },
  {
   "cell_type": "markdown",
   "metadata": {},
   "source": [
    "### DataFrame.head() - _Selecting Rows_"
   ]
  },
  {
   "cell_type": "code",
   "execution_count": 14,
   "metadata": {},
   "outputs": [
    {
     "name": "stdout",
     "output_type": "stream",
     "text": [
      "first_five:\n",
      " [Row(age=0, females=1994141, males=2085528, total=4079669, year=2010), Row(age=1, females=1997991, males=2087350, total=4085341, year=2010), Row(age=2, females=2000746, males=2088549, total=4089295, year=2010), Row(age=3, females=2002756, males=2089465, total=4092221, year=2010), Row(age=4, females=2004366, males=2090436, total=4094802, year=2010)]\n"
     ]
    }
   ],
   "source": [
    "first_five = df.head(5)\n",
    "print(\"first_five:\\n\",first_five)"
   ]
  },
  {
   "cell_type": "code",
   "execution_count": 16,
   "metadata": {},
   "outputs": [
    {
     "name": "stdout",
     "output_type": "stream",
     "text": [
      "third_row:\n",
      " Row(age=2, females=2000746, males=2088549, total=4089295, year=2010)\n"
     ]
    }
   ],
   "source": [
    "third_row = df.head(3)[2]\n",
    "print(\"third_row:\\n\",third_row)"
   ]
  },
  {
   "cell_type": "code",
   "execution_count": 17,
   "metadata": {},
   "outputs": [
    {
     "name": "stdout",
     "output_type": "stream",
     "text": [
      "third_row_males:\n",
      " 2088549\n"
     ]
    }
   ],
   "source": [
    "third_row_males = third_row.males\n",
    "print(\"third_row_males:\\n\",third_row_males)"
   ]
  },
  {
   "cell_type": "code",
   "execution_count": 18,
   "metadata": {},
   "outputs": [
    {
     "name": "stdout",
     "output_type": "stream",
     "text": [
      "2085528\n",
      "2087350\n",
      "2088549\n",
      "2089465\n",
      "2090436\n"
     ]
    }
   ],
   "source": [
    "first_five = df.head(5)\n",
    "for r in first_five:\n",
    "    print(r.males)"
   ]
  },
  {
   "cell_type": "markdown",
   "metadata": {},
   "source": [
    "### DataFrame.select() - _Selecting Columns_"
   ]
  },
  {
   "cell_type": "code",
   "execution_count": 23,
   "metadata": {},
   "outputs": [
    {
     "name": "stdout",
     "output_type": "stream",
     "text": [
      "+---+-------+\n",
      "|age|  total|\n",
      "+---+-------+\n",
      "|  0|4079669|\n",
      "|  1|4085341|\n",
      "|  2|4089295|\n",
      "|  3|4092221|\n",
      "|  4|4094802|\n",
      "+---+-------+\n",
      "only showing top 5 rows\n",
      "\n",
      "+---+-------+-------+\n",
      "|age|  males|females|\n",
      "+---+-------+-------+\n",
      "|  0|2085528|1994141|\n",
      "|  1|2087350|1997991|\n",
      "|  2|2088549|2000746|\n",
      "|  3|2089465|2002756|\n",
      "|  4|2090436|2004366|\n",
      "+---+-------+-------+\n",
      "only showing top 5 rows\n",
      "\n"
     ]
    }
   ],
   "source": [
    "df[['age','total']].show(5)\n",
    "\n",
    "df.select('age', 'males', 'females').show(5)"
   ]
  },
  {
   "cell_type": "markdown",
   "metadata": {},
   "source": [
    "### Boolean Filtering"
   ]
  },
  {
   "cell_type": "code",
   "execution_count": 33,
   "metadata": {},
   "outputs": [
    {
     "name": "stdout",
     "output_type": "stream",
     "text": [
      "+---+-------+------+-------+----+\n",
      "|age|females| males|  total|year|\n",
      "+---+-------+------+-------+----+\n",
      "| 71|1069608|918217|1987825|2010|\n",
      "| 72|1018530|865438|1883968|2010|\n",
      "| 73| 973223|817131|1790354|2010|\n",
      "| 74| 932810|772524|1705334|2010|\n",
      "| 75| 894650|730324|1624974|2010|\n",
      "+---+-------+------+-------+----+\n",
      "only showing top 5 rows\n",
      "\n"
     ]
    }
   ],
   "source": [
    "seventy_plus = df[df['age'] > 70]\n",
    "seventy_plus.show(5)"
   ]
  },
  {
   "cell_type": "code",
   "execution_count": 34,
   "metadata": {},
   "outputs": [
    {
     "name": "stdout",
     "output_type": "stream",
     "text": [
      "+---+-------+-------+-------+----+\n",
      "|age|females|  males|  total|year|\n",
      "+---+-------+-------+-------+----+\n",
      "|  1|1997991|2087350|4085341|2010|\n",
      "|  3|2002756|2089465|4092221|2010|\n",
      "|  5|2005925|2091803|4097728|2010|\n",
      "|  7|2010281|2097080|4107361|2010|\n",
      "|  9|2018603|2108014|4126617|2010|\n",
      "+---+-------+-------+-------+----+\n",
      "only showing top 5 rows\n",
      "\n"
     ]
    }
   ],
   "source": [
    "odd_ages = df[(df['age'] % 2) != 0]\n",
    "odd_ages.show(5)"
   ]
  },
  {
   "cell_type": "code",
   "execution_count": 44,
   "metadata": {},
   "outputs": [
    {
     "name": "stdout",
     "output_type": "stream",
     "text": [
      "+---+-------+-------+-------+----+\n",
      "|age|females|  males|  total|year|\n",
      "+---+-------+-------+-------+----+\n",
      "|  0|1994141|2085528|4079669|2010|\n",
      "|  1|1997991|2087350|4085341|2010|\n",
      "|  2|2000746|2088549|4089295|2010|\n",
      "|  3|2002756|2089465|4092221|2010|\n",
      "|  4|2004366|2090436|4094802|2010|\n",
      "|  5|2005925|2091803|4097728|2010|\n",
      "|  6|2007781|2093905|4101686|2010|\n",
      "|  7|2010281|2097080|4107361|2010|\n",
      "|  8|2013771|2101670|4115441|2010|\n",
      "|  9|2018603|2108014|4126617|2010|\n",
      "| 10|2023289|2114217|4137506|2010|\n",
      "| 11|2026352|2118390|4144742|2010|\n",
      "| 12|2037286|2132030|4169316|2010|\n",
      "| 13|2060100|2159943|4220043|2010|\n",
      "| 14|2089651|2195773|4285424|2010|\n",
      "| 15|2117689|2229339|4347028|2010|\n",
      "| 16|2146942|2263862|4410804|2010|\n",
      "| 17|2165852|2285295|4451147|2010|\n",
      "| 18|2168175|2285990|4454165|2010|\n",
      "| 19|2159571|2272689|4432260|2010|\n",
      "| 20|2151448|2259690|4411138|2010|\n",
      "| 21|2140926|2244039|4384965|2010|\n",
      "| 22|2133510|2229168|4362678|2010|\n",
      "| 23|2132897|2218195|4351092|2010|\n",
      "| 24|2135789|2208905|4344694|2010|\n",
      "| 25|2136497|2197148|4333645|2010|\n",
      "| 26|2137711|2185169|4322880|2010|\n",
      "| 27|2131362|2167654|4299016|2010|\n",
      "| 28|2113361|2142006|4255367|2010|\n",
      "| 29|2088593|2111921|4200514|2010|\n",
      "| 30|2065883|2083642|4149525|2010|\n",
      "| 31|2043293|2055863|4099156|2010|\n",
      "| 32|2027525|2034632|4062157|2010|\n",
      "| 33|2022761|2023579|4046340|2010|\n",
      "+---+-------+-------+-------+----+\n",
      "\n"
     ]
    }
   ],
   "source": [
    "male_gt_female = df[df['males'] > df['females']]\n",
    "male_gt_female.show(male_gt_female.count())"
   ]
  },
  {
   "cell_type": "markdown",
   "metadata": {},
   "source": [
    "### Convert Spark SQL DataFrame to Pandas DataFrame"
   ]
  },
  {
   "cell_type": "code",
   "execution_count": 45,
   "metadata": {
    "collapsed": true
   },
   "outputs": [],
   "source": [
    "pandas_df = df.toPandas()"
   ]
  },
  {
   "cell_type": "code",
   "execution_count": 49,
   "metadata": {},
   "outputs": [
    {
     "data": {
      "text/plain": [
       "<matplotlib.axes._subplots.AxesSubplot at 0x259d62c1c50>"
      ]
     },
     "execution_count": 49,
     "metadata": {},
     "output_type": "execute_result"
    },
    {
     "data": {
      "image/png": "[encoded data removed]",
      "text/plain": [
       "<matplotlib.figure.Figure at 0x259d6365c88>"
      ]
     },
     "metadata": {},
     "output_type": "display_data"
    }
   ],
   "source": [
    "import matplotlib.pyplot as plt\n",
    "import seaborn as sns\n",
    "%matplotlib inline\n",
    "pandas_df['total'].hist()"
   ]
  },
  {
   "cell_type": "code",
   "execution_count": 50,
   "metadata": {},
   "outputs": [
    {
     "data": {
      "text/plain": [
       "2010    101\n",
       "Name: year, dtype: int64"
      ]
     },
     "execution_count": 50,
     "metadata": {},
     "output_type": "execute_result"
    }
   ],
   "source": [
    "pandas_df[\"year\"].value_counts()"
   ]
  },
  {
   "cell_type": "code",
   "execution_count": 68,
   "metadata": {},
   "outputs": [
    {
     "data": {
      "text/plain": [
       "<matplotlib.legend.Legend at 0x259d86a2240>"
      ]
     },
     "execution_count": 68,
     "metadata": {},
     "output_type": "execute_result"
    },
    {
     "data": {
      "image/png": "[encoded data removed]",
      "text/plain": [
       "<matplotlib.figure.Figure at 0x259d83edef0>"
      ]
     },
     "metadata": {},
     "output_type": "display_data"
    }
   ],
   "source": [
    "plt.figure(figsize=(15,10))\n",
    "plt.plot(pandas_df['age'],pandas_df['males'], color='blue')\n",
    "plt.plot(pandas_df['age'],pandas_df['females'], color=\"magenta\")\n",
    "plt.legend()\n"
   ]
  },
  {
   "cell_type": "code",
   "execution_count": 71,
   "metadata": {},
   "outputs": [
    {
     "data": {
      "text/plain": [
       "[<matplotlib.lines.Line2D at 0x259d09c2668>]"
      ]
     },
     "execution_count": 71,
     "metadata": {},
     "output_type": "execute_result"
    },
    {
     "data": {
      "image/png": "[encoded data removed]",
      "text/plain": [
       "<matplotlib.figure.Figure at 0x259d90c7908>"
      ]
     },
     "metadata": {},
     "output_type": "display_data"
    }
   ],
   "source": [
    "plt.figure(figsize=(15,10))\n",
    "plt.plot(pandas_df['age'],(pandas_df['males']-pandas_df[\"females\"]), color='blue')"
   ]
  },
  {
   "cell_type": "markdown",
   "metadata": {},
   "source": [
    "### Registering SQL DataFrames as Tables"
   ]
  },
  {
   "cell_type": "code",
   "execution_count": 91,
   "metadata": {},
   "outputs": [
    {
     "name": "stdout",
     "output_type": "stream",
     "text": [
      "['census1980', 'census1990', 'census2000', 'census2010']\n"
     ]
    }
   ],
   "source": [
    "census_2010_df = sqlCtx.read.json(\"census_2010.json\")\n",
    "census_2000_df = sqlCtx.read.json(\"census_2000.json\")\n",
    "census_1990_df = sqlCtx.read.json(\"census_1990.json\")\n",
    "census_1980_df = sqlCtx.read.json(\"census_1980.json\")\n",
    "\n",
    "census_2010_df.registerTempTable(\"census2010\")\n",
    "census_2000_df.registerTempTable(\"census2000\")\n",
    "census_1990_df.registerTempTable(\"census1990\")\n",
    "census_1980_df.registerTempTable(\"census1980\")\n",
    "\n",
    "\n",
    "tables = sqlCtx.tableNames()\n",
    "print(tables)"
   ]
  },
  {
   "cell_type": "markdown",
   "metadata": {},
   "source": [
    "### Making SQL Queries with Spark SQL"
   ]
  },
  {
   "cell_type": "code",
   "execution_count": 92,
   "metadata": {},
   "outputs": [
    {
     "name": "stdout",
     "output_type": "stream",
     "text": [
      "<class 'pyspark.sql.dataframe.DataFrame'>\n",
      "+---+-------+-------+-------+\n",
      "|age|  males|females|  total|\n",
      "+---+-------+-------+-------+\n",
      "| 51|2247349|2324721|4572070|\n",
      "| 52|2223261|2306106|4529367|\n",
      "| 53|2179406|2270038|4449444|\n",
      "| 54|2121536|2221350|4342886|\n",
      "| 55|2059204|2167706|4226910|\n",
      "| 56|1989505|2106460|4095965|\n",
      "| 57|1924113|2048896|3973009|\n",
      "| 58|1869486|2001049|3870535|\n",
      "| 59|1819943|1957350|3777293|\n",
      "+---+-------+-------+-------+\n",
      "\n",
      "+-------+------------------+------------------+------------------+------------------+\n",
      "|summary|               age|             males|           females|             total|\n",
      "+-------+------------------+------------------+------------------+------------------+\n",
      "|  count|                 9|                 9|                 9|                 9|\n",
      "|   mean|              55.0|2048200.3333333333|         2155964.0| 4204164.333333333|\n",
      "| stddev|2.7386127875258306| 156486.2564684198|135003.70694447638|291483.72299152525|\n",
      "|    min|                51|           1819943|           1957350|           3777293|\n",
      "|    max|                59|           2247349|           2324721|           4572070|\n",
      "+-------+------------------+------------------+------------------+------------------+\n",
      "\n"
     ]
    }
   ],
   "source": [
    "query = \"SELECT age, males, females, total FROM census2010 where (age>50 and age<60)\"\n",
    "\n",
    "print(type(sqlCtx.sql(query)))\n",
    "\n",
    "sqlCtx.sql(query).show()\n",
    "\n",
    "sqlCtx.sql(query).describe().show()"
   ]
  },
  {
   "cell_type": "code",
   "execution_count": 94,
   "metadata": {},
   "outputs": [
    {
     "name": "stdout",
     "output_type": "stream",
     "text": [
      "<class 'pyspark.sql.dataframe.DataFrame'>\n",
      "+---+-------+-------+-------+\n",
      "|age|  males|females|  total|\n",
      "+---+-------+-------+-------+\n",
      "|  0|2085528|1994141|4079669|\n",
      "|  1|2087350|1997991|4085341|\n",
      "|  2|2088549|2000746|4089295|\n",
      "|  3|2089465|2002756|4092221|\n",
      "|  4|2090436|2004366|4094802|\n",
      "+---+-------+-------+-------+\n",
      "only showing top 5 rows\n",
      "\n",
      "+-------+------------------+------------------+-----------------+------------------+\n",
      "|summary|               age|             males|          females|             total|\n",
      "+-------+------------------+------------------+-----------------+------------------+\n",
      "|  count|               101|               101|              101|               101|\n",
      "|   mean|              50.0|1520095.3168316833|1571460.287128713|3091555.6039603963|\n",
      "| stddev|29.300170647967224|  818587.208016823|748671.0493484351|1564978.9318225342|\n",
      "|    min|                 0|              4612|            25673|             30285|\n",
      "|    max|               100|           2285990|          2331572|           4596159|\n",
      "+-------+------------------+------------------+-----------------+------------------+\n",
      "\n"
     ]
    }
   ],
   "source": [
    "query = 'SELECT age, males, females, total FROM census2010'\n",
    "\n",
    "print(type(sqlCtx.sql(query)))\n",
    "\n",
    "sqlCtx.sql(query).show(5)\n",
    "\n",
    "sqlCtx.sql(query).describe().show()"
   ]
  },
  {
   "cell_type": "markdown",
   "metadata": {},
   "source": [
    "### Interacting with Multiple Tables"
   ]
  },
  {
   "cell_type": "code",
   "execution_count": 97,
   "metadata": {},
   "outputs": [
    {
     "name": "stdout",
     "output_type": "stream",
     "text": [
      "+-----------+-----------+\n",
      "|c2010_total|c2000_total|\n",
      "+-----------+-----------+\n",
      "|    4079669|    3733034|\n",
      "|    4085341|    3825896|\n",
      "|    4089295|    3904845|\n",
      "|    4092221|    3970865|\n",
      "|    4094802|    4024943|\n",
      "|    4097728|    4068061|\n",
      "|    4101686|    4101204|\n",
      "|    4107361|    4125360|\n",
      "|    4115441|    4141510|\n",
      "|    4126617|    4150640|\n",
      "|    4137506|    4152174|\n",
      "|    4144742|    4145530|\n",
      "|    4169316|    4139512|\n",
      "|    4220043|    4138230|\n",
      "|    4285424|    4137982|\n",
      "|    4347028|    4133932|\n",
      "|    4410804|    4130632|\n",
      "|    4451147|    4111244|\n",
      "|    4454165|    4068058|\n",
      "|    4432260|    4011192|\n",
      "+-----------+-----------+\n",
      "only showing top 20 rows\n",
      "\n"
     ]
    }
   ],
   "source": [
    "query = '''\n",
    "SELECT c2010.total c2010_total, c2000.total c2000_total\n",
    "FROM census2010 c2010\n",
    "INNER JOIN census2000 c2000 ON c2000.age = c2010.age\n",
    "'''\n",
    "\n",
    "sqlCtx.sql(query).show()"
   ]
  },
  {
   "cell_type": "code",
   "execution_count": 99,
   "metadata": {},
   "outputs": [
    {
     "name": "stdout",
     "output_type": "stream",
     "text": [
      "+-----------+-----------+-----------+\n",
      "|c2010_total|c2000_total|c1990_total|\n",
      "+-----------+-----------+-----------+\n",
      "|  312247116|  284594395|  254506647|\n",
      "+-----------+-----------+-----------+\n",
      "\n"
     ]
    }
   ],
   "source": [
    "query = '''\n",
    "SELECT SUM(c2010.total) c2010_total, SUM(c2000.total) c2000_total, SUM(c1990.total) c1990_total\n",
    "FROM census2010 c2010\n",
    "INNER JOIN census2000 c2000 ON c2000.age = c2010.age\n",
    "INNER JOIN census1990 c1990 ON c1990.age = c2010.age\n",
    "'''\n",
    "\n",
    "sqlCtx.sql(query).show()"
   ]
  },
  {
   "cell_type": "code",
   "execution_count": null,
   "metadata": {
    "collapsed": true
   },
   "outputs": [],
   "source": []
  }
 ],
 "metadata": {
  "kernelspec": {
   "display_name": "Python [conda root]",
   "language": "python",
   "name": "conda-root-py"
  },
  "language_info": {
   "codemirror_mode": {
    "name": "ipython",
    "version": 3
   },
   "file_extension": ".py",
   "mimetype": "text/x-python",
   "name": "python",
   "nbconvert_exporter": "python",
   "pygments_lexer": "ipython3",
   "version": "3.5.3"
  }
 },
 "nbformat": 4,
 "nbformat_minor": 2
}
