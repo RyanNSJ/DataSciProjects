{
 "cells": [
  {
   "cell_type": "markdown",
   "metadata": {},
   "source": [
    "# Deep Neural Networks\n",
    "* Multi-layered Networks\n",
    "* INPUT LAYER -> HIDDEN LAYER1 -> HIDDEN LAYER2 -> ... -> OUTPUT LAYER  \n",
    "\n",
    "e.g:\n",
    "* INPUT LAYER (3 Nodes) > HIDDEN LAYER (6 Nodes) = 18 Adjustable Weights\n",
    "* HIDDEN LAYER 1 (6 Nodes) > HIDDEN LAYER 2 (4 Nodes) = 24 Adjustable Weights\n",
    "* HIDDEN LAYER 2 (4 Nodes) > OUTPUT LAYER (1 Node) = 4 Adjustable Weights\n",
    "\n",
    "Giving a grand total of 46 adjustable weights to optimize on. The more intermediate layers that are added, the more nonlinear the model can be (often leads to improved model accuracy)."
   ]
  },
  {
   "cell_type": "markdown",
   "metadata": {},
   "source": [
    "### Visualising Non Linear Data "
   ]
  },
  {
   "cell_type": "code",
   "execution_count": 54,
   "metadata": {},
   "outputs": [
    {
     "data": {
      "text/plain": [
       "<matplotlib.legend.Legend at 0x1a3b2f2bd30>"
      ]
     },
     "execution_count": 54,
     "metadata": {},
     "output_type": "execute_result"
    },
    {
     "data": {
      "image/png": "[encoded data removed]",
      "text/plain": [
       "<matplotlib.figure.Figure at 0x1a3b2ec40f0>"
      ]
     },
     "metadata": {},
     "output_type": "display_data"
    }
   ],
   "source": [
    "from mpl_toolkits.mplot3d import Axes3D\n",
    "from sklearn.datasets import make_moons\n",
    "import seaborn as sns\n",
    "import pandas as pd\n",
    "import numpy as np\n",
    "import matplotlib.pyplot as plt\n",
    "%matplotlib inline\n",
    "\n",
    "data = make_moons(n_samples=100, random_state=3, noise=0.04)\n",
    "\n",
    "features = pd.DataFrame(data[0])\n",
    "labels = pd.Series(data[1])\n",
    "\n",
    "fig = plt.figure(figsize=(15,10))\n",
    "ax = fig.add_subplot(111)\n",
    "ax.scatter(features.loc[labels==1,0], features.loc[labels==1,1], c=\"red\", label=1)\n",
    "ax.scatter(features.loc[labels==0,0], features.loc[labels==0,1], c=\"blue\", label=0)\n",
    "ax.set_xlabel('x1')\n",
    "ax.set_ylabel('x2')\n",
    "ax.legend()\n"
   ]
  },
  {
   "cell_type": "markdown",
   "metadata": {},
   "source": [
    "# Logistic Model vs Multi-Layered Perceptron"
   ]
  },
  {
   "cell_type": "code",
   "execution_count": 77,
   "metadata": {},
   "outputs": [
    {
     "name": "stderr",
     "output_type": "stream",
     "text": [
      "C:\\Program Files\\Anaconda3\\lib\\site-packages\\sklearn\\neural_network\\multilayer_perceptron.py:563: ConvergenceWarning: Stochastic Optimizer: Maximum iterations reached and the optimization hasn't converged yet.\n",
      "  % (), ConvergenceWarning)\n"
     ]
    },
    {
     "name": "stdout",
     "output_type": "stream",
     "text": [
      "MLP (Sigmoid) Accuracy: 0.84\n",
      "MLP (ReLU) Accuracy: 1.0\n",
      "Logistic Regression Accuracy: 0.88\n"
     ]
    }
   ],
   "source": [
    "from sklearn.neural_network import MLPClassifier\n",
    "from sklearn.linear_model import LogisticRegression\n",
    "from sklearn.metrics import accuracy_score\n",
    "np.random.seed(8)\n",
    "\n",
    "# Generate Data\n",
    "data = make_moons(100, random_state=3, noise=0.04)\n",
    "features = pd.DataFrame(data[0])\n",
    "labels = pd.Series(data[1])\n",
    "features[\"bias\"] = 1\n",
    "\n",
    "# Reshuffle Data\n",
    "shuffled_index = np.random.permutation(features.index)\n",
    "shuffled_data = features.loc[shuffled_index]\n",
    "shuffled_labels = labels.loc[shuffled_index]\n",
    "\n",
    "# Split 50-50 to Train and Test Sets\n",
    "mid_length = int(len(shuffled_data)/2)\n",
    "X_train = shuffled_data.iloc[0:mid_length]\n",
    "X_test = shuffled_data.iloc[mid_length:len(shuffled_data)]\n",
    "y_train = shuffled_labels.iloc[0:mid_length]\n",
    "y_test = shuffled_labels.iloc[mid_length: len(labels)]\n",
    "\n",
    "# Multi-Layered Perceptron (Sigmoid Activation Function) (1 Hidden Layer of 10 Nodes)\n",
    "nn_sig_model = MLPClassifier(hidden_layer_sizes=(10,), activation=\"logistic\", max_iter=500)\n",
    "nn_sig_model.fit(X_train,y_train)\n",
    "nn_sig_predictions = nn_sig_model.predict(X_test)\n",
    "nn_sig_accuracy = accuracy_score(y_test,nn_sig_predictions)\n",
    "\n",
    "# Multi-Layered Perceptron (ReLU Activation Function) (2 Hidden Layers of 5 Nodes Each)\n",
    "nn_relu_model = MLPClassifier(hidden_layer_sizes=(15,15), activation=\"relu\", max_iter=1000)\n",
    "nn_relu_model.fit(X_train,y_train)\n",
    "nn_relu_predictions = nn_relu_model.predict(X_test)\n",
    "nn_relu_accuracy = accuracy_score(y_test,nn_relu_predictions)\n",
    "\n",
    "# Standard Logistic Regression\n",
    "log_model = LogisticRegression()\n",
    "log_model.fit(X_train,y_train)\n",
    "log_predictions = log_model.predict(X_test)\n",
    "log_accuracy = accuracy_score(y_test,log_predictions)\n",
    "\n",
    "\n",
    "print(\"MLP (Sigmoid) Accuracy:\", nn_sig_accuracy)\n",
    "print(\"MLP (ReLU) Accuracy:\", nn_relu_accuracy)\n",
    "print(\"Logistic Regression Accuracy:\", log_accuracy)\n"
   ]
  }
 ],
 "metadata": {
  "kernelspec": {
   "display_name": "Python [conda root]",
   "language": "python",
   "name": "conda-root-py"
  },
  "language_info": {
   "codemirror_mode": {
    "name": "ipython",
    "version": 3
   },
   "file_extension": ".py",
   "mimetype": "text/x-python",
   "name": "python",
   "nbconvert_exporter": "python",
   "pygments_lexer": "ipython3",
   "version": "3.5.3"
  }
 },
 "nbformat": 4,
 "nbformat_minor": 2
}
