{
 "cells": [
  {
   "cell_type": "markdown",
   "metadata": {},
   "source": [
    "### Fitting a basic Regressor using a Feedforward Network"
   ]
  },
  {
   "cell_type": "code",
   "execution_count": 19,
   "metadata": {},
   "outputs": [
    {
     "name": "stdout",
     "output_type": "stream",
     "text": [
      "1331.46613742\n",
      "0.739008350713\n"
     ]
    }
   ],
   "source": [
    "from sklearn.datasets import make_regression\n",
    "from sklearn.linear_model import SGDRegressor\n",
    "from sklearn.metrics import mean_squared_error, r2_score\n",
    "import numpy as np\n",
    "\n",
    "# Generate a Training Set\n",
    "data = make_regression(n_samples=100, n_features=3, random_state=1)\n",
    "features = pd.DataFrame(data[0])\n",
    "labels = pd.Series(data[1])\n",
    "\n",
    "def train(features,labels):\n",
    "    reg = SGDRegressor()\n",
    "    reg.fit(features,labels)\n",
    "    return reg.coef_\n",
    "\n",
    "def feedforward(features, weights):\n",
    "    predictions = np.dot(features, weights)\n",
    "    return predictions\n",
    "\n",
    "train_weights = train(features, labels)\n",
    "linear_predictions = feedforward(features, train_weights)\n",
    "\n",
    "print(mean_squared_error(linear_predictions,labels))\n",
    "print(r2_score(linear_predictions,labels))"
   ]
  },
  {
   "cell_type": "markdown",
   "metadata": {},
   "source": [
    "### Fitting a basic Classifier using a Feedforward Network"
   ]
  },
  {
   "cell_type": "code",
   "execution_count": 22,
   "metadata": {},
   "outputs": [
    {
     "name": "stdout",
     "output_type": "stream",
     "text": [
      "ROCR AUC: 0.97\n"
     ]
    }
   ],
   "source": [
    "from sklearn.linear_model import SGDClassifier\n",
    "from sklearn.datasets import make_classification\n",
    "from sklearn.metrics import roc_auc_score\n",
    "\n",
    "class_data = make_classification(n_samples=100, n_features=4, random_state=1)\n",
    "class_features = pd.DataFrame(class_data[0])\n",
    "class_labels = pd.Series(class_data[1])\n",
    "\n",
    "def log_train(class_features, class_labels):\n",
    "    clf = SGDClassifier()\n",
    "    clf.fit(class_features,class_labels)\n",
    "    return clf.coef_\n",
    "\n",
    "def sigmoid(linear_combination):\n",
    "    return (1.0/(1.0 + np.exp(-linear_combination)))\n",
    "\n",
    "def log_feedforward(class_features, log_train_weights):\n",
    "    linear_combination = np.dot(class_features,log_train_weights.T)\n",
    "    log_predictions = sigmoid(linear_combination)\n",
    "    \n",
    "    # Activation Step\n",
    "    log_predictions[log_predictions>=0.5] = 1\n",
    "    log_predictions[log_predictions<0.5] = 0\n",
    "    return log_predictions\n",
    "\n",
    "# Uncomment this code when you're ready to test your functions.\n",
    "log_train_weights = log_train(class_features, class_labels)\n",
    "log_predictions = log_feedforward(class_features, log_train_weights)\n",
    "\n",
    "print(\"ROCR AUC:\", roc_auc_score(class_labels,log_predictions))"
   ]
  }
 ],
 "metadata": {
  "kernelspec": {
   "display_name": "Python [conda root]",
   "language": "python",
   "name": "conda-root-py"
  },
  "language_info": {
   "codemirror_mode": {
    "name": "ipython",
    "version": 3
   },
   "file_extension": ".py",
   "mimetype": "text/x-python",
   "name": "python",
   "nbconvert_exporter": "python",
   "pygments_lexer": "ipython3",
   "version": "3.5.3"
  }
 },
 "nbformat": 4,
 "nbformat_minor": 2
}
