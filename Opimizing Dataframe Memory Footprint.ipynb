{
 "cells": [
  {
   "cell_type": "markdown",
   "metadata": {},
   "source": [
    "### Memory Usage"
   ]
  },
  {
   "cell_type": "code",
   "execution_count": 4,
   "metadata": {},
   "outputs": [
    {
     "name": "stdout",
     "output_type": "stream",
     "text": [
      "<class 'pandas.core.frame.DataFrame'>\n",
      "RangeIndex: 34558 entries, 0 to 34557\n",
      "Data columns (total 27 columns):\n",
      "ExhibitionID              34129 non-null float64\n",
      "ExhibitionNumber          34558 non-null object\n",
      "ExhibitionTitle           34558 non-null object\n",
      "ExhibitionCitationDate    34557 non-null object\n",
      "ExhibitionBeginDate       34558 non-null object\n",
      "ExhibitionEndDate         33354 non-null object\n",
      "ExhibitionSortOrder       34558 non-null float64\n",
      "ExhibitionURL             34125 non-null object\n",
      "ExhibitionRole            34424 non-null object\n",
      "ConstituentID             34044 non-null float64\n",
      "ConstituentType           34424 non-null object\n",
      "DisplayName               34424 non-null object\n",
      "AlphaSort                 34424 non-null object\n",
      "FirstName                 31499 non-null object\n",
      "MiddleName                3804 non-null object\n",
      "LastName                  31998 non-null object\n",
      "Suffix                    157 non-null object\n",
      "Institution               2458 non-null object\n",
      "Nationality               26072 non-null object\n",
      "ConstituentBeginDate      25290 non-null float64\n",
      "ConstituentEndDate        19819 non-null float64\n",
      "ArtistBio                 26089 non-null object\n",
      "Gender                    25796 non-null object\n",
      "VIAFID                    26996 non-null float64\n",
      "WikidataID                22241 non-null object\n",
      "ULANID                    21688 non-null float64\n",
      "ConstituentURL            34044 non-null object\n",
      "dtypes: float64(7), object(20)\n",
      "memory usage: 7.1+ MB\n"
     ]
    }
   ],
   "source": [
    "import pandas as pd\n",
    "\n",
    "moma = pd.read_csv(\"moma.csv\")\n",
    "\n",
    "moma.info()"
   ]
  },
  {
   "cell_type": "markdown",
   "metadata": {},
   "source": [
    "* __7.1+ MB__ estimated Memory usage"
   ]
  },
  {
   "cell_type": "markdown",
   "metadata": {},
   "source": [
    "### How Pandas Represents Values in a Dataframe\n",
    "* `Datafame` is stored in seperate blocks of each unique datatype\n",
    "* `BlockManager` class mainains mapping and relations between row, column indexes and the actual blocks, which are `ObjectBlock` class objects"
   ]
  },
  {
   "cell_type": "markdown",
   "metadata": {},
   "source": [
    "### Retrieve the DataFrame's Underlying BlockManager"
   ]
  },
  {
   "cell_type": "code",
   "execution_count": 5,
   "metadata": {},
   "outputs": [
    {
     "data": {
      "text/plain": [
       "BlockManager\n",
       "Items: Index(['ExhibitionID', 'ExhibitionNumber', 'ExhibitionTitle',\n",
       "       'ExhibitionCitationDate', 'ExhibitionBeginDate', 'ExhibitionEndDate',\n",
       "       'ExhibitionSortOrder', 'ExhibitionURL', 'ExhibitionRole',\n",
       "       'ConstituentID', 'ConstituentType', 'DisplayName', 'AlphaSort',\n",
       "       'FirstName', 'MiddleName', 'LastName', 'Suffix', 'Institution',\n",
       "       'Nationality', 'ConstituentBeginDate', 'ConstituentEndDate',\n",
       "       'ArtistBio', 'Gender', 'VIAFID', 'WikidataID', 'ULANID',\n",
       "       'ConstituentURL'],\n",
       "      dtype='object')\n",
       "Axis 1: RangeIndex(start=0, stop=34558, step=1)\n",
       "FloatBlock: [0, 6, 9, 19, 20, 23, 25], 7 x 34558, dtype: float64\n",
       "ObjectBlock: [1, 2, 3, 4, 5, 7, 8, 10, 11, 12, 13, 14, 15, 16, 17, 18, 21, 22, 24, 26], 20 x 34558, dtype: object"
      ]
     },
     "execution_count": 5,
     "metadata": {},
     "output_type": "execute_result"
    }
   ],
   "source": [
    "moma._data"
   ]
  },
  {
   "cell_type": "markdown",
   "metadata": {},
   "source": [
    "* The `moma` DataFrame consists of two blocks:\n",
    "    * `FloatBlock`: Containing 7 float d-type columns ( Numpy Array, Low Memory Usage )\n",
    "    * `ObjectBlock`: Containing 20 object d-type columns ( Python List, High Memory Usage )\n",
    "    * 34558 rows each"
   ]
  },
  {
   "cell_type": "markdown",
   "metadata": {},
   "source": [
    "### Different Memory Footprint of Different Types"
   ]
  },
  {
   "cell_type": "code",
   "execution_count": 8,
   "metadata": {},
   "outputs": [
    {
     "name": "stdout",
     "output_type": "stream",
     "text": [
      "7464528\n",
      "7.1187286376953125\n"
     ]
    }
   ],
   "source": [
    "# Total Number of Values in a DataFrame\n",
    "total_size = moma.size\n",
    "\n",
    "# Total Memory Footprint\n",
    "total_bytes = moma.size * 8\n",
    "\n",
    "# 2^20 = 1024*1024 = 1048576 bytes in a megabyte\n",
    "total_megabytes = total_bytes/1048576\n",
    "\n",
    "print(total_bytes)\n",
    "print(total_megabytes)"
   ]
  },
  {
   "cell_type": "markdown",
   "metadata": {},
   "source": [
    "### Calculating True Memory Footprint"
   ]
  },
  {
   "cell_type": "code",
   "execution_count": 13,
   "metadata": {},
   "outputs": [
    {
     "name": "stdout",
     "output_type": "stream",
     "text": [
      "<class 'pandas.core.frame.DataFrame'>\n",
      "RangeIndex: 34558 entries, 0 to 34557\n",
      "Data columns (total 27 columns):\n",
      "ExhibitionID              34129 non-null float64\n",
      "ExhibitionNumber          34558 non-null object\n",
      "ExhibitionTitle           34558 non-null object\n",
      "ExhibitionCitationDate    34557 non-null object\n",
      "ExhibitionBeginDate       34558 non-null object\n",
      "ExhibitionEndDate         33354 non-null object\n",
      "ExhibitionSortOrder       34558 non-null float64\n",
      "ExhibitionURL             34125 non-null object\n",
      "ExhibitionRole            34424 non-null object\n",
      "ConstituentID             34044 non-null float64\n",
      "ConstituentType           34424 non-null object\n",
      "DisplayName               34424 non-null object\n",
      "AlphaSort                 34424 non-null object\n",
      "FirstName                 31499 non-null object\n",
      "MiddleName                3804 non-null object\n",
      "LastName                  31998 non-null object\n",
      "Suffix                    157 non-null object\n",
      "Institution               2458 non-null object\n",
      "Nationality               26072 non-null object\n",
      "ConstituentBeginDate      25290 non-null float64\n",
      "ConstituentEndDate        19819 non-null float64\n",
      "ArtistBio                 26089 non-null object\n",
      "Gender                    25796 non-null object\n",
      "VIAFID                    26996 non-null float64\n",
      "WikidataID                22241 non-null object\n",
      "ULANID                    21688 non-null float64\n",
      "ConstituentURL            34044 non-null object\n",
      "dtypes: float64(7), object(20)\n",
      "memory usage: 45.6 MB\n"
     ]
    }
   ],
   "source": [
    "moma.info(memory_usage=\"deep\")"
   ]
  },
  {
   "cell_type": "markdown",
   "metadata": {},
   "source": [
    "* Actual memory usage is higher __(45.6MB)__ because it includes the contents of the memory addresses that are being pointed to "
   ]
  },
  {
   "cell_type": "markdown",
   "metadata": {},
   "source": [
    "### Calculating Deep Memory Footprint of Each Column"
   ]
  },
  {
   "cell_type": "code",
   "execution_count": 12,
   "metadata": {},
   "outputs": [
    {
     "data": {
      "text/plain": [
       "Index                          80\n",
       "ExhibitionID               276464\n",
       "ExhibitionNumber          2085250\n",
       "ExhibitionTitle           3333695\n",
       "ExhibitionCitationDate    3577728\n",
       "ExhibitionBeginDate       2281851\n",
       "ExhibitionEndDate         2234872\n",
       "ExhibitionSortOrder        276464\n",
       "ExhibitionURL             3494606\n",
       "ExhibitionRole            2179383\n",
       "ConstituentID              276464\n",
       "ConstituentType           2313112\n",
       "DisplayName               2548428\n",
       "AlphaSort                 2534329\n",
       "FirstName                 2104909\n",
       "MiddleName                1218917\n",
       "LastName                  2162937\n",
       "Suffix                    1110333\n",
       "Institution               1221368\n",
       "Nationality               1949664\n",
       "ConstituentBeginDate       276464\n",
       "ConstituentEndDate         276464\n",
       "ArtistBio                 3183300\n",
       "Gender                    1858994\n",
       "VIAFID                     276464\n",
       "WikidataID                1821293\n",
       "ULANID                     276464\n",
       "ConstituentURL            2677922\n",
       "dtype: int64"
      ]
     },
     "execution_count": 12,
     "metadata": {},
     "output_type": "execute_result"
    }
   ],
   "source": [
    "moma.memory_usage(deep=True)"
   ]
  },
  {
   "cell_type": "markdown",
   "metadata": {},
   "source": [
    "#### Object Columns"
   ]
  },
  {
   "cell_type": "code",
   "execution_count": 22,
   "metadata": {},
   "outputs": [
    {
     "name": "stdout",
     "output_type": "stream",
     "text": [
      "obj_cols_mem:\n",
      "\n",
      " Index                          80\n",
      "ExhibitionNumber          2085250\n",
      "ExhibitionTitle           3333695\n",
      "ExhibitionCitationDate    3577728\n",
      "ExhibitionBeginDate       2281851\n",
      "ExhibitionEndDate         2234872\n",
      "ExhibitionURL             3494606\n",
      "ExhibitionRole            2179383\n",
      "ConstituentType           2313112\n",
      "DisplayName               2548428\n",
      "AlphaSort                 2534329\n",
      "FirstName                 2104909\n",
      "MiddleName                1218917\n",
      "LastName                  2162937\n",
      "Suffix                    1110333\n",
      "Institution               1221368\n",
      "Nationality               1949664\n",
      "ArtistBio                 3183300\n",
      "Gender                    1858994\n",
      "WikidataID                1821293\n",
      "ConstituentURL            2677922\n",
      "dtype: int64 \n",
      "\n",
      "obj_cols_sum:\n",
      "\n",
      " 43.766947746276855\n"
     ]
    }
   ],
   "source": [
    "obj_cols = moma.select_dtypes(include=['object'])\n",
    "obj_cols_mem = obj_cols.memory_usage(deep=True)\n",
    "print(\"obj_cols_mem:\\n\\n\",obj_cols_mem,\"\\n\")\n",
    "obj_cols_sum = obj_cols_mem.sum()/1048576\n",
    "print(\"obj_cols_sum:\\n\\n\",obj_cols_sum)"
   ]
  },
  {
   "cell_type": "markdown",
   "metadata": {},
   "source": [
    "* Object columns take up a total of 43.7MB of memory"
   ]
  },
  {
   "cell_type": "markdown",
   "metadata": {},
   "source": [
    "#### Float Columns"
   ]
  },
  {
   "cell_type": "code",
   "execution_count": 23,
   "metadata": {},
   "outputs": [
    {
     "name": "stdout",
     "output_type": "stream",
     "text": [
      "float_cols_mem:\n",
      "\n",
      " Index                       80\n",
      "ExhibitionID            276464\n",
      "ExhibitionSortOrder     276464\n",
      "ConstituentID           276464\n",
      "ConstituentBeginDate    276464\n",
      "ConstituentEndDate      276464\n",
      "VIAFID                  276464\n",
      "ULANID                  276464\n",
      "dtype: int64 \n",
      "\n",
      "float_cols_sum:\n",
      "\n",
      " 1.845672607421875\n"
     ]
    }
   ],
   "source": [
    "float_cols = moma.select_dtypes(include=['float'])\n",
    "float_cols_mem = float_cols.memory_usage(deep=True)\n",
    "print(\"float_cols_mem:\\n\\n\",float_cols_mem,\"\\n\")\n",
    "float_cols_sum = float_cols_mem.sum()/1048576\n",
    "print(\"float_cols_sum:\\n\\n\",float_cols_sum)"
   ]
  },
  {
   "cell_type": "markdown",
   "metadata": {},
   "source": [
    "* Float columns take up a total of 1.8MB of memory"
   ]
  },
  {
   "cell_type": "markdown",
   "metadata": {},
   "source": [
    "### Optmizing Integer Columns with Numeric Subtypes"
   ]
  },
  {
   "cell_type": "markdown",
   "metadata": {},
   "source": [
    "#### int"
   ]
  },
  {
   "cell_type": "code",
   "execution_count": 24,
   "metadata": {},
   "outputs": [
    {
     "name": "stdout",
     "output_type": "stream",
     "text": [
      "Machine parameters for int8\n",
      "---------------------------------------------------------------\n",
      "min = -128\n",
      "max = 127\n",
      "---------------------------------------------------------------\n",
      "\n",
      "Machine parameters for int16\n",
      "---------------------------------------------------------------\n",
      "min = -32768\n",
      "max = 32767\n",
      "---------------------------------------------------------------\n",
      "\n",
      "Machine parameters for int32\n",
      "---------------------------------------------------------------\n",
      "min = -2147483648\n",
      "max = 2147483647\n",
      "---------------------------------------------------------------\n",
      "\n",
      "Machine parameters for int64\n",
      "---------------------------------------------------------------\n",
      "min = -9223372036854775808\n",
      "max = 9223372036854775807\n",
      "---------------------------------------------------------------\n",
      "\n"
     ]
    }
   ],
   "source": [
    "import numpy as np\n",
    "int_types = [\"int8\", \"int16\", \"int32\", \"int64\"]\n",
    "for it in int_types:\n",
    "     print(np.iinfo(it))"
   ]
  },
  {
   "cell_type": "markdown",
   "metadata": {},
   "source": [
    "#### float"
   ]
  },
  {
   "cell_type": "code",
   "execution_count": 32,
   "metadata": {},
   "outputs": [
    {
     "name": "stdout",
     "output_type": "stream",
     "text": [
      "Machine parameters for float16\n",
      "---------------------------------------------------------------\n",
      "precision =   3   resolution = 1.00040e-03\n",
      "machep =    -10   eps =        9.76562e-04\n",
      "negep =     -11   epsneg =     4.88281e-04\n",
      "minexp =    -14   tiny =       6.10352e-05\n",
      "maxexp =     16   max =        6.55040e+04\n",
      "nexp =        5   min =        -max\n",
      "---------------------------------------------------------------\n",
      "\n",
      "Machine parameters for float32\n",
      "---------------------------------------------------------------\n",
      "precision =   6   resolution = 1.0000000e-06\n",
      "machep =    -23   eps =        1.1920929e-07\n",
      "negep =     -24   epsneg =     5.9604645e-08\n",
      "minexp =   -126   tiny =       1.1754944e-38\n",
      "maxexp =    128   max =        3.4028235e+38\n",
      "nexp =        8   min =        -max\n",
      "---------------------------------------------------------------\n",
      "\n",
      "Machine parameters for float64\n",
      "---------------------------------------------------------------\n",
      "precision =  15   resolution = 1.0000000000000001e-15\n",
      "machep =    -52   eps =        2.2204460492503131e-16\n",
      "negep =     -53   epsneg =     1.1102230246251565e-16\n",
      "minexp =  -1022   tiny =       2.2250738585072014e-308\n",
      "maxexp =   1024   max =        1.7976931348623157e+308\n",
      "nexp =       11   min =        -max\n",
      "---------------------------------------------------------------\n",
      "\n"
     ]
    }
   ],
   "source": [
    "import numpy as np\n",
    "float_types = [\"float16\", \"float32\", \"float64\"]\n",
    "for flt in float_types:\n",
    "     print(np.finfo(flt))"
   ]
  },
  {
   "cell_type": "markdown",
   "metadata": {},
   "source": [
    "### Converting Numeric Subtypes\n",
    "* Must represent missing values in numeric columns using a float subtype\n",
    "* NumPy int type doesn't have a missing value object (like NaN for float values).\n",
    "* Trying to convert a float column that contains missing values to an int column will generate an error."
   ]
  },
  {
   "cell_type": "code",
   "execution_count": 33,
   "metadata": {},
   "outputs": [
    {
     "name": "stdout",
     "output_type": "stream",
     "text": [
      "ExhibitionID              429\n",
      "ExhibitionSortOrder         0\n",
      "ConstituentID             514\n",
      "ConstituentBeginDate     9268\n",
      "ConstituentEndDate      14739\n",
      "VIAFID                   7562\n",
      "ULANID                  12870\n",
      "dtype: int64\n"
     ]
    }
   ],
   "source": [
    "print(moma.select_dtypes(include=['float']).isnull().sum())"
   ]
  },
  {
   "cell_type": "markdown",
   "metadata": {},
   "source": [
    "### Optimizing Integer Columns with Subtypes"
   ]
  },
  {
   "cell_type": "code",
   "execution_count": 35,
   "metadata": {},
   "outputs": [
    {
     "name": "stdout",
     "output_type": "stream",
     "text": [
      "col_max: 1768\n",
      "col_min: 1\n",
      "Chosen dtype: int16\n",
      "Column Memory Usage: 69196\n"
     ]
    }
   ],
   "source": [
    "import numpy as np\n",
    "col_max = moma['ExhibitionSortOrder'].max()\n",
    "col_min = moma['ExhibitionSortOrder'].min()\n",
    "print(\"col_max:\",col_max)\n",
    "print(\"col_min:\",col_min)\n",
    "\n",
    "\n",
    "if col_max <  np.iinfo(\"int8\").max and col_min > np.iinfo(\"int8\").min:\n",
    "    moma['ExhibitionSortOrder'] = moma['ExhibitionSortOrder'].astype(\"int8\")\n",
    "elif col_max <  np.iinfo(\"int16\").max and col_min > np.iinfo(\"int16\").min:\n",
    "    moma['ExhibitionSortOrder'] = moma['ExhibitionSortOrder'].astype(\"int16\")\n",
    "elif col_max <  np.iinfo(\"int32\").max and col_min > np.iinfo(\"int32\").min:\n",
    "    moma['ExhibitionSortOrder'] = moma['ExhibitionSortOrder'].astype(\"int32\")\n",
    "elif col_max <  np.iinfo(\"int64\").max and col_min > np.iinfo(\"int64\").min:\n",
    "    moma['ExhibitionSortOrder'] = moma['ExhibitionSortOrder'].astype(\"int64\")\n",
    "print(\"Chosen dtype:\",moma['ExhibitionSortOrder'].dtype)\n",
    "print(\"Column Memory Usage:\", moma['ExhibitionSortOrder'].memory_usage(deep=True))"
   ]
  },
  {
   "cell_type": "markdown",
   "metadata": {},
   "source": [
    "### Automated Downcasting"
   ]
  },
  {
   "cell_type": "code",
   "execution_count": 42,
   "metadata": {},
   "outputs": [
    {
     "name": "stdout",
     "output_type": "stream",
     "text": [
      "int32\n",
      "int16\n"
     ]
    }
   ],
   "source": [
    "moma = pd.read_csv(\"moma.csv\")\n",
    "\n",
    "# Convert column to Numeric, downcasting can only be done on numeric columns\n",
    "moma['ExhibitionSortOrder'] = moma['ExhibitionSortOrder'].astype('int')\n",
    "\n",
    "# Print original defaul dtype\n",
    "print(moma['ExhibitionSortOrder'].dtype)\n",
    "\n",
    "# Downcast\n",
    "moma['ExhibitionSortOrder'] = pd.to_numeric(moma['ExhibitionSortOrder'],\n",
    "                                            downcast='integer'\n",
    "                                           )\n",
    "\n",
    "# Print new downcasted dtype\n",
    "print(moma['ExhibitionSortOrder'].dtype)"
   ]
  },
  {
   "cell_type": "code",
   "execution_count": 39,
   "metadata": {},
   "outputs": [
    {
     "name": "stdout",
     "output_type": "stream",
     "text": [
      "ExhibitionID            float64\n",
      "ExhibitionSortOrder     float64\n",
      "ConstituentID           float64\n",
      "ConstituentBeginDate    float64\n",
      "ConstituentEndDate      float64\n",
      "VIAFID                  float64\n",
      "ULANID                  float64\n",
      "dtype: object\n",
      "\n",
      "ExhibitionID            float64\n",
      "ConstituentID           float64\n",
      "ConstituentBeginDate    float64\n",
      "ConstituentEndDate      float64\n",
      "VIAFID                  float64\n",
      "ULANID                  float64\n",
      "dtype: object\n",
      "\n",
      "Series([], dtype: object)\n"
     ]
    }
   ],
   "source": [
    "moma = pd.read_csv(\"moma.csv\")\n",
    "\n",
    "float_cols = moma.select_dtypes(include=['float'])\n",
    "print(float_cols.dtypes)\n",
    "print()\n",
    "\n",
    "moma['ExhibitionSortOrder'] = moma['ExhibitionSortOrder'].astype(\"int16\")\n",
    "\n",
    "float_cols = moma.select_dtypes(include=['float'])\n",
    "print(float_cols.dtypes)\n",
    "print()\n",
    "\n",
    "for col in float_cols.columns:\n",
    "    moma[col] = pd.to_numeric(moma[col], downcast='float')\n",
    "print(moma.select_dtypes(include=['float']).dtypes)"
   ]
  },
  {
   "cell_type": "code",
   "execution_count": null,
   "metadata": {},
   "outputs": [],
   "source": []
  }
 ],
 "metadata": {
  "kernelspec": {
   "display_name": "Python 3",
   "language": "python",
   "name": "python3"
  },
  "language_info": {
   "codemirror_mode": {
    "name": "ipython",
    "version": 3
   },
   "file_extension": ".py",
   "mimetype": "text/x-python",
   "name": "python",
   "nbconvert_exporter": "python",
   "pygments_lexer": "ipython3",
   "version": "3.6.5"
  }
 },
 "nbformat": 4,
 "nbformat_minor": 2
}
