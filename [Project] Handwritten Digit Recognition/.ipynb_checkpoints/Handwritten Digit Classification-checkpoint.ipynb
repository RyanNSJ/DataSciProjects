{
 "cells": [
  {
   "cell_type": "markdown",
   "metadata": {},
   "source": [
    "# Handwritten Digit Classification"
   ]
  },
  {
   "cell_type": "code",
   "execution_count": 1,
   "metadata": {
    "collapsed": true
   },
   "outputs": [],
   "source": [
    "import numpy as np\n",
    "import pandas as pd\n",
    "import matplotlib.pyplot as plt\n",
    "%matplotlib inline\n",
    "import seaborn as sns\n",
    "from sklearn.metrics import accuracy_score, roc_auc_score, f1_score, r2_score\n",
    "from sklearn.datasets import load_digits"
   ]
  },
  {
   "cell_type": "markdown",
   "metadata": {},
   "source": [
    "### Loading the data\n",
    "The data comes as a dictionary containing 5 key-value pairs:\n",
    "* __`DESCR`__ : A readme from the dataset's creators\n",
    "* __`data`__ : (1797, 64) array containing the features of the dataset\n",
    "* __`images`__ : (1797, 8, 8) array containing the features of the dataset reshaped into 8 by 8 image matrices \n",
    "* __`target`__ : (1797,) array containing the target labels of the dataset\n",
    "* __`target_names`__ : (10,) array containing the names for each unique target label"
   ]
  },
  {
   "cell_type": "code",
   "execution_count": 2,
   "metadata": {},
   "outputs": [
    {
     "data": {
      "text/plain": [
       "['DESCR', 'data', 'images', 'target', 'target_names']"
      ]
     },
     "execution_count": 2,
     "metadata": {},
     "output_type": "execute_result"
    }
   ],
   "source": [
    "data = load_digits()\n",
    "dir(data)"
   ]
  },
  {
   "cell_type": "code",
   "execution_count": 3,
   "metadata": {},
   "outputs": [
    {
     "name": "stdout",
     "output_type": "stream",
     "text": [
      "Optical Recognition of Handwritten Digits Data Set\n",
      "===================================================\n",
      "\n",
      "Notes\n",
      "-----\n",
      "Data Set Characteristics:\n",
      "    :Number of Instances: 5620\n",
      "    :Number of Attributes: 64\n",
      "    :Attribute Information: 8x8 image of integer pixels in the range 0..16.\n",
      "    :Missing Attribute Values: None\n",
      "    :Creator: E. Alpaydin (alpaydin '@' boun.edu.tr)\n",
      "    :Date: July; 1998\n",
      "\n",
      "This is a copy of the test set of the UCI ML hand-written digits datasets\n",
      "http://archive.ics.uci.edu/ml/datasets/Optical+Recognition+of+Handwritten+Digits\n",
      "\n",
      "The data set contains images of hand-written digits: 10 classes where\n",
      "each class refers to a digit.\n",
      "\n",
      "Preprocessing programs made available by NIST were used to extract\n",
      "normalized bitmaps of handwritten digits from a preprinted form. From a\n",
      "total of 43 people, 30 contributed to the training set and different 13\n",
      "to the test set. 32x32 bitmaps are divided into nonoverlapping blocks of\n",
      "4x4 and the number of on pixels are counted in each block. This generates\n",
      "an input matrix of 8x8 where each element is an integer in the range\n",
      "0..16. This reduces dimensionality and gives invariance to small\n",
      "distortions.\n",
      "\n",
      "For info on NIST preprocessing routines, see M. D. Garris, J. L. Blue, G.\n",
      "T. Candela, D. L. Dimmick, J. Geist, P. J. Grother, S. A. Janet, and C.\n",
      "L. Wilson, NIST Form-Based Handprint Recognition System, NISTIR 5469,\n",
      "1994.\n",
      "\n",
      "References\n",
      "----------\n",
      "  - C. Kaynak (1995) Methods of Combining Multiple Classifiers and Their\n",
      "    Applications to Handwritten Digit Recognition, MSc Thesis, Institute of\n",
      "    Graduate Studies in Science and Engineering, Bogazici University.\n",
      "  - E. Alpaydin, C. Kaynak (1998) Cascading Classifiers, Kybernetika.\n",
      "  - Ken Tang and Ponnuthurai N. Suganthan and Xi Yao and A. Kai Qin.\n",
      "    Linear dimensionalityreduction using relevance weighted LDA. School of\n",
      "    Electrical and Electronic Engineering Nanyang Technological University.\n",
      "    2005.\n",
      "  - Claudio Gentile. A New Approximate Maximal Margin Classification\n",
      "    Algorithm. NIPS. 2000.\n",
      "\n"
     ]
    }
   ],
   "source": [
    "print(data[\"DESCR\"])"
   ]
  },
  {
   "cell_type": "code",
   "execution_count": 4,
   "metadata": {},
   "outputs": [
    {
     "name": "stdout",
     "output_type": "stream",
     "text": [
      "(1797, 8, 8)\n",
      "(1797, 64)\n",
      "(1797,)\n",
      "(10,)\n"
     ]
    }
   ],
   "source": [
    "print(data[\"images\"].shape)\n",
    "print(data[\"data\"].shape)\n",
    "print(data[\"target\"].shape)\n",
    "print(data[\"target_names\"].shape)"
   ]
  },
  {
   "cell_type": "markdown",
   "metadata": {},
   "source": [
    "# Visualizing the Handwritten Digits"
   ]
  },
  {
   "cell_type": "markdown",
   "metadata": {},
   "source": [
    "#### Rows 0-9"
   ]
  },
  {
   "cell_type": "code",
   "execution_count": 5,
   "metadata": {},
   "outputs": [
    {
     "data": {
      "image/png": "[encoded data removed]",
      "text/plain": [
       "<matplotlib.figure.Figure at 0x28b26315710>"
      ]
     },
     "metadata": {},
     "output_type": "display_data"
    }
   ],
   "source": [
    "fig = plt.figure(figsize=(15,10))\n",
    "\n",
    "rows = [0,1,2,3,4,5,6,7,8,9]\n",
    "\n",
    "for i,row in enumerate(rows):\n",
    "    ax = fig.add_subplot(3,4,i+1)\n",
    "    ax.imshow(data[\"images\"][row])\n",
    "    ax.set_xticks([])\n",
    "    ax.set_yticks([])\n",
    "    ax.set_title(\"Row \"+str(row)+\"\\n Label: \"+ str(data[\"target\"][row]))"
   ]
  },
  {
   "cell_type": "markdown",
   "metadata": {},
   "source": [
    "#### Rows [0,100,200,300,1000,1100,1200,1300]"
   ]
  },
  {
   "cell_type": "code",
   "execution_count": 6,
   "metadata": {},
   "outputs": [
    {
     "data": {
      "image/png": "[encoded data removed]",
      "text/plain": [
       "<matplotlib.figure.Figure at 0x28b268955c0>"
      ]
     },
     "metadata": {},
     "output_type": "display_data"
    }
   ],
   "source": [
    "fig = plt.figure(figsize=(15,10))\n",
    "\n",
    "rows = [0,100,200,300,1000,1100,1200,1300]\n",
    "\n",
    "for i,row in enumerate(rows):\n",
    "    ax = fig.add_subplot(2,4,i+1)\n",
    "    ax.imshow(data[\"images\"][row])\n",
    "    ax.set_xticks([])\n",
    "    ax.set_yticks([])\n",
    "    ax.set_title(\"Row \"+str(row)+\"\\n Label: \"+ str(data[\"target\"][row]))\n"
   ]
  },
  {
   "cell_type": "markdown",
   "metadata": {},
   "source": [
    "# Data Preparation"
   ]
  },
  {
   "cell_type": "code",
   "execution_count": 40,
   "metadata": {},
   "outputs": [
    {
     "name": "stdout",
     "output_type": "stream",
     "text": [
      "(1437, 64) (1437,)\n",
      "(360, 64) (360,)\n"
     ]
    }
   ],
   "source": [
    "X = data[\"data\"] # (1797, 64)\n",
    "y = data[\"target\"] # (1797,)\n",
    "\n",
    "X_train, X_test, y_train, y_test = train_test_split(X, y, test_size=0.2, random_state=13, shuffle=True)\n",
    "\n",
    "print(X_train.shape, y_train.shape)\n",
    "print(X_test.shape, y_test.shape)"
   ]
  },
  {
   "cell_type": "markdown",
   "metadata": {},
   "source": [
    "# K-Nearest Neighbours Classifier Baseline"
   ]
  },
  {
   "cell_type": "code",
   "execution_count": 41,
   "metadata": {},
   "outputs": [
    {
     "name": "stdout",
     "output_type": "stream",
     "text": [
      "[0.98538378211080158, 0.97633666047663259, 0.97285670071185393, 0.96937674094707527, 0.96450595790776839]\n"
     ]
    }
   ],
   "source": [
    "from sklearn.neighbors import KNeighborsClassifier\n",
    "from sklearn.model_selection import KFold, cross_val_score, train_test_split\n",
    "\n",
    "\n",
    "def train(k):\n",
    "    clf = KNeighborsClassifier(n_neighbors=k)\n",
    "    clf.fit(X_train,y_train)\n",
    "    return clf\n",
    "\n",
    "def cross_validate(clf, X_train, y_train):\n",
    "    kf = KFold(n_splits=4, shuffle=True, random_state=100)\n",
    "    accuracy = cross_val_score(clf, X_train, y_train, scoring=\"accuracy\", cv=kf)\n",
    "    return accuracy\n",
    "\n",
    "ks = [5,10,15,20,25]\n",
    "ks_acc = []\n",
    "for k in ks:\n",
    "    k_acc = np.mean(cross_validate(train(k), X_train, y_train))\n",
    "    ks_acc.append(k_acc)\n",
    "\n",
    "print(ks_acc)"
   ]
  },
  {
   "cell_type": "markdown",
   "metadata": {},
   "source": [
    "* Tuning Hyper Parameters with using Cross Validation on the Train Set\n",
    "* k = 5 Nearest Neighbours gives the highest cross-validated accuracy __0.985__"
   ]
  },
  {
   "cell_type": "code",
   "execution_count": 42,
   "metadata": {},
   "outputs": [
    {
     "name": "stdout",
     "output_type": "stream",
     "text": [
      "0.983333333333\n"
     ]
    }
   ],
   "source": [
    "clf = KNeighborsClassifier(n_neighbors=5)\n",
    "clf.fit(X_train,y_train)\n",
    "test_prediction = clf.predict(X_test)\n",
    "accuracy = accuracy_score(y_test,test_prediction)\n",
    "print(accuracy)"
   ]
  },
  {
   "cell_type": "markdown",
   "metadata": {},
   "source": [
    "* Applying k=5 on the test set gives an accuracy of __0.986__"
   ]
  },
  {
   "cell_type": "markdown",
   "metadata": {},
   "source": [
    "# Single Hidden Layer Neural Network"
   ]
  },
  {
   "cell_type": "code",
   "execution_count": 34,
   "metadata": {
    "collapsed": true
   },
   "outputs": [],
   "source": [
    "from sklearn.neural_network import MLPClassifier\n",
    "from sklearn.model_selection import KFold, cross_val_score, train_test_split"
   ]
  },
  {
   "cell_type": "code",
   "execution_count": 44,
   "metadata": {},
   "outputs": [
    {
     "name": "stdout",
     "output_type": "stream",
     "text": [
      "[0.94363587124729187, 0.95893492726709995, 0.96242069018879606, 0.96520813989476939, 0.96798204890126893]\n"
     ]
    }
   ],
   "source": [
    "def train(k):\n",
    "    clf = MLPClassifier(hidden_layer_sizes=(k,),max_iter=1000, activation=\"relu\")\n",
    "    clf.fit(X_train,y_train)\n",
    "    return clf\n",
    "\n",
    "def cross_validate(clf, X_train, y_train):\n",
    "    kf = KFold(n_splits=4, shuffle=True, random_state=100)\n",
    "    accuracy = cross_val_score(clf, X_train, y_train, scoring=\"accuracy\", cv=kf)\n",
    "    return accuracy\n",
    "\n",
    "ks = [8,16,32,64,128]\n",
    "ks_acc = []\n",
    "for k in ks:\n",
    "    k_acc = np.mean(cross_validate(train(k), X_train, y_train))\n",
    "    ks_acc.append(k_acc)\n",
    "\n",
    "print(ks_acc)"
   ]
  },
  {
   "cell_type": "markdown",
   "metadata": {},
   "source": [
    "* Tuning Hyper Parameters with using Cross Validation on the Train Set\n",
    "* hidden_layer_sizes=(128,) gives the highest cross-validated accuracy __0.968__"
   ]
  },
  {
   "cell_type": "code",
   "execution_count": 73,
   "metadata": {},
   "outputs": [
    {
     "name": "stdout",
     "output_type": "stream",
     "text": [
      "0.963888888889\n"
     ]
    }
   ],
   "source": [
    "clf = MLPClassifier(hidden_layer_sizes=(128,), max_iter=1000, activation=\"relu\", random_state=128)\n",
    "clf.fit(X_train,y_train)\n",
    "test_prediction = clf.predict(X_test)\n",
    "accuracy = accuracy_score(y_test,test_prediction)\n",
    "print(accuracy)"
   ]
  },
  {
   "cell_type": "markdown",
   "metadata": {},
   "source": [
    "* Applying hidden_layer_sizes=(128,) gives an accuracy of __0.964__"
   ]
  },
  {
   "cell_type": "markdown",
   "metadata": {},
   "source": [
    "# 2 Hidden Layer Neural Network"
   ]
  },
  {
   "cell_type": "code",
   "execution_count": 56,
   "metadata": {
    "collapsed": true
   },
   "outputs": [],
   "source": [
    "from sklearn.neural_network import MLPClassifier\n",
    "from sklearn.model_selection import KFold, cross_val_score, train_test_split"
   ]
  },
  {
   "cell_type": "code",
   "execution_count": 76,
   "metadata": {},
   "outputs": [
    {
     "name": "stdout",
     "output_type": "stream",
     "text": [
      "[0.93041241101826055, 0.96033155369854528, 0.95894846796657385, 0.96590064995357472, 0.97842579696688325]\n"
     ]
    }
   ],
   "source": [
    "def train(k):\n",
    "    clf = MLPClassifier(hidden_layer_sizes=(k,k,),max_iter=1000, activation=\"relu\", random_state=128)\n",
    "    clf.fit(X_train,y_train)\n",
    "    return clf\n",
    "\n",
    "def cross_validate(clf, X_train, y_train):\n",
    "    kf = KFold(n_splits=4, shuffle=True, random_state=100)\n",
    "    accuracy = cross_val_score(clf, X_train, y_train, scoring=\"accuracy\", cv=kf)\n",
    "    return accuracy\n",
    "\n",
    "ks = [8,16,32,64,128]\n",
    "ks_acc = []\n",
    "for k in ks:\n",
    "    k_acc = np.mean(cross_validate(train(k), X_train, y_train))\n",
    "    ks_acc.append(k_acc)\n",
    "\n",
    "print(ks_acc)"
   ]
  },
  {
   "cell_type": "markdown",
   "metadata": {},
   "source": [
    "* Tuning Hyper Parameters with using Cross Validation on the Train Set\n",
    "* hidden_layer_sizes=(128,) gives the highest cross-validated accuracy __0.978__"
   ]
  },
  {
   "cell_type": "code",
   "execution_count": 77,
   "metadata": {},
   "outputs": [
    {
     "name": "stdout",
     "output_type": "stream",
     "text": [
      "0.972222222222\n"
     ]
    }
   ],
   "source": [
    "clf = MLPClassifier(hidden_layer_sizes=(128,128), max_iter=1000, activation=\"relu\", random_state=128)\n",
    "clf.fit(X_train,y_train)\n",
    "test_prediction = clf.predict(X_test)\n",
    "accuracy = accuracy_score(y_test,test_prediction)\n",
    "print(accuracy)"
   ]
  },
  {
   "cell_type": "markdown",
   "metadata": {},
   "source": [
    "* Applying hidden_layer_sizes=(128,) gives an accuracy of __0.972__"
   ]
  },
  {
   "cell_type": "code",
   "execution_count": 78,
   "metadata": {
    "collapsed": true
   },
   "outputs": [],
   "source": [
    "from sklearn.ensemble import RandomForestClassifier\n",
    "from sklearn.model_selection import KFold, cross_val_score, train_test_split"
   ]
  },
  {
   "cell_type": "code",
   "execution_count": 79,
   "metadata": {},
   "outputs": [
    {
     "name": "stdout",
     "output_type": "stream",
     "text": [
      "[0.9512844320643763, 0.92624187558031568, 0.91578458681522745, 0.86845597338285363, 0.81904209223150726]\n"
     ]
    }
   ],
   "source": [
    "def train(k):\n",
    "    clf = RandomForestClassifier(min_samples_split=k)\n",
    "    clf.fit(X_train,y_train)\n",
    "    return clf\n",
    "\n",
    "def cross_validate(clf, X_train, y_train):\n",
    "    kf = KFold(n_splits=4, shuffle=True, random_state=100)\n",
    "    accuracy = cross_val_score(clf, X_train, y_train, scoring=\"accuracy\", cv=kf)\n",
    "    return accuracy\n",
    "\n",
    "ks = [8,16,32,64,128]\n",
    "ks_acc = []\n",
    "for k in ks:\n",
    "    k_acc = np.mean(cross_validate(train(k), X_train, y_train))\n",
    "    ks_acc.append(k_acc)\n",
    "\n",
    "print(ks_acc)"
   ]
  },
  {
   "cell_type": "markdown",
   "metadata": {},
   "source": [
    "* Tuning Hyper Parameters with using Cross Validation on the Train Set\n",
    "* min_samples_split=(8,) gives the highest cross-validated accuracy __0.951__"
   ]
  },
  {
   "cell_type": "code",
   "execution_count": 86,
   "metadata": {
    "scrolled": true
   },
   "outputs": [
    {
     "name": "stdout",
     "output_type": "stream",
     "text": [
      "0.955555555556\n"
     ]
    }
   ],
   "source": [
    "clf = RandomForestClassifier(min_samples_split=8, random_state=128)\n",
    "clf.fit(X_train,y_train)\n",
    "test_prediction = clf.predict(X_test)\n",
    "accuracy = accuracy_score(y_test,test_prediction)\n",
    "print(accuracy)"
   ]
  },
  {
   "cell_type": "markdown",
   "metadata": {},
   "source": [
    "* Applying min_samples_split=(8,) gives an accuracy of __0.956__"
   ]
  },
  {
   "cell_type": "markdown",
   "metadata": {},
   "source": [
    "# Conclusion"
   ]
  },
  {
   "cell_type": "markdown",
   "metadata": {},
   "source": [
    "* __1st__ : KNeighborsClassifier\n",
    "* __2nd__ : MLPClassifier (2 Hidden Layers)\n",
    "* __3rd__ : MLPClassifier (1 Hidden Layer)\n",
    "* __4th__ : RandomForestClassifier"
   ]
  }
 ],
 "metadata": {
  "kernelspec": {
   "display_name": "Python [conda root]",
   "language": "python",
   "name": "conda-root-py"
  },
  "language_info": {
   "codemirror_mode": {
    "name": "ipython",
    "version": 3
   },
   "file_extension": ".py",
   "mimetype": "text/x-python",
   "name": "python",
   "nbconvert_exporter": "python",
   "pygments_lexer": "ipython3",
   "version": "3.5.3"
  }
 },
 "nbformat": 4,
 "nbformat_minor": 2
}
