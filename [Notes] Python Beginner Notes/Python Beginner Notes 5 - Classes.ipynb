{
 "cells": [
  {
   "cell_type": "markdown",
   "metadata": {},
   "source": [
    "## Classes"
   ]
  },
  {
   "cell_type": "markdown",
   "metadata": {},
   "source": [
    "What is the difference between a class and an object? Each dog has colour, but dogs as a class don't. Each dog has four or fewer feet, but the class of dogs doesn't. The class is a concept of an object. When you see Fidoand Spot, you recognise their similarity, their doghood. That's the class. __init__ doesn't initialize a class, it initializes an instance of a class or an object.\n",
    "\n",
    "When you say:"
   ]
  },
  {
   "cell_type": "code",
   "execution_count": null,
   "metadata": {
    "collapsed": true
   },
   "outputs": [],
   "source": [
    "class Dog:\n",
    "    def __init__(self, legs, colour):\n",
    "        self.legs = legs\n",
    "        self.colour = colour\n",
    "\n",
    "fido = Dog(4, \"brown\")\n",
    "spot = Dog(3, \"mostly yellow\")"
   ]
  },
  {
   "cell_type": "markdown",
   "metadata": {},
   "source": [
    "You're saying, Fido is a brown dog with 4 legs while Spot is a bit of a cripple and is mostly yellow. The __init__ function is called a constructor, or initializer, and is automatically called when you create a new instance of a class. Within that function, the newly created object is assigned to the parameter self. The notation self.legs is an attribute called legs of the object in the variable self. Attributes are kind of like variables, but they describe the state of an object, or particular actions (functions) available to the object.\n",
    "\n",
    "However, notice that you don't set colour for the doghood itself - it's an abstract concept. There are attributes that make sense on classes. For instance, population_size is one such - it doesn't make sense to count the Fido because Fido is always one. It does make sense to count dogs. Let us say there're 200 million dogs in the world. It's the property of the Dog class. Fido has nothing to do with the number 200 million, nor does Spot. It's called a \"class attribute\", as opposed to \"instance attributes\" that are colour or legs above.\n",
    "\n",
    "Now, to something less canine and more programming-related. As I write below, class to add things is not sensible - what is it a class of? Classes in Python make up of collections of different data, that behave similarly. Class of dogs consists of Fido and Spot and 199999999998 other animals similar to them, all of them peeing on lampposts. What does the class for adding things consist of? By what data inherent to them do they differ? And what actions do they share?\n",
    "\n",
    "However, numbers... those are more interesting subjects. Say, Integers. There's a lot of them, a lot more than dogs. I know that Python already has integers, but let's play dumb and \"implement\" them again (by cheating and using Python's integers).\n",
    "\n",
    "So, Integers are a class. They have some data (value), and some behaviours (\"add me to this other number\").\n",
    "Let's show this:"
   ]
  },
  {
   "cell_type": "code",
   "execution_count": null,
   "metadata": {
    "collapsed": true
   },
   "outputs": [],
   "source": [
    "class MyInteger:\n",
    "    def __init__(self, newvalue)\n",
    "        # imagine self as an index card.\n",
    "        # under the heading of \"value\", we will write\n",
    "        # the contents of the variable newvalue.\n",
    "        self.value = newvalue\n",
    "    def add(self, other):\n",
    "        # when an integer wants to add itself to another integer,\n",
    "        # we'll take their values and add them together,\n",
    "        # then make a new integer with the result value.\n",
    "        return MyInteger(self.value + other.value)\n",
    "\n",
    "three = MyInteger(3)\n",
    "# three now contains an object of class MyInteger\n",
    "# three.value is now 3\n",
    "five = MyInteger(5)\n",
    "# five now contains an object of class MyInteger\n",
    "# five.value is now 5\n",
    "eight = three.add(five)\n",
    "# here, we invoked the three's behaviour of adding another integer\n",
    "# now, eight.value is three.value + five.value = 3 + 5 = 8\n",
    "print eight.value\n",
    "# ==> 8"
   ]
  },
  {
   "cell_type": "markdown",
   "metadata": {},
   "source": [
    "This is a bit fragile (we're assuming other will be a MyInteger), but we'll ignore now. In real code, we wouldn't; we'd test it to make sure, and maybe even coerce it (\"you're not an integer? by golly, you have 10 nanoseconds to become one! 9... 8....\")\n",
    "\n",
    "We could even define fractions. Fractions also know how to add themselves."
   ]
  },
  {
   "cell_type": "code",
   "execution_count": null,
   "metadata": {
    "collapsed": true
   },
   "outputs": [],
   "source": [
    "class MyFraction:\n",
    "    def __init__(self, newnumerator, newdenominator)\n",
    "        self.numerator = newnumerator\n",
    "        self.denominator = newdenominator\n",
    "        # because every fraction is described by these two things\n",
    "    def add(self, other):\n",
    "        newdenominator = self.denominator * other.denominator\n",
    "        newnumerator = self.numerator * other.denominator + self.denominator * other.numerator\n",
    "        return MyFraction(newnumerator, newdenominator)"
   ]
  },
  {
   "cell_type": "markdown",
   "metadata": {},
   "source": [
    "There's even more fractions than integers (not really, but computers don't know that). Let's make two:\n",
    "\n"
   ]
  },
  {
   "cell_type": "code",
   "execution_count": null,
   "metadata": {
    "collapsed": true
   },
   "outputs": [],
   "source": [
    "half = MyFraction(1, 2)\n",
    "third = MyFraction(1, 3)\n",
    "five_sixths = half.add(third)\n",
    "print five_sixths.numerator\n",
    "# ==> 5\n",
    "print five_sixths.denominator\n",
    "# ==> 6"
   ]
  },
  {
   "cell_type": "markdown",
   "metadata": {},
   "source": [
    "You're not actually declaring anything here. Attributes are like a new kind of variable. Normal variables only have one value. Let us say you write colour = \"grey\". You can't have another variable named colour that is \"fuchsia\" - not in the same place in the code.\n",
    "\n",
    "Arrays solve that to a degree. If you say colour = [\"grey\", \"fuchsia\"], you have stacked two colours into the variable, but you distinguish them by their position (0, or 1, in this case).\n",
    "\n",
    "Attributes are variables that are bound to an object. Like with arrays, we can have plenty colour variables, on different dogs. So, fido.colour is one variable, but spot.colour is another. The first one is bound to the object within the variable fido; the second, spot. Now, when you call Dog(4, \"brown\"), or three.add(five), there will always be an invisible parameter, which will be assigned to the dangling extra one at the front of the parameter list. It is conventionally called self, and will get the value of the object in front of the dot. Thus, within the Dog's __init__ (constructor), self will be whatever the new Dog will turn out to be; within MyInteger's add, self will be bound to the object in the variable three. Thus, three.value will be the same variable outside the add, as self.value within the add.\n",
    "\n",
    "If I say the_mangy_one = fido, I will start referring to the object known as fido with yet another name. From now on, fido.colour is exactly the same variable as the_mangy_one.colour.\n",
    "\n",
    "So, the things inside the __init__. You can think of them as noting things into the Dog's birth certificate. colour by itself is a random variable, could contain anything. fido.colour or self.colour is like a form field on the Dog's identity sheet; and __init__ is the clerk filling it out for the first time.\n",
    "\n",
    "Any clearer?"
   ]
  },
  {
   "cell_type": "markdown",
   "metadata": {},
   "source": [
    "EDIT: Expanding on the comment below:\n",
    "\n",
    "You mean a list of objects, don't you?\n",
    "\n",
    "First of all, fido is actually not an object. It is a variable, which is currently containing an object, just like when you say x = 5, x is a variable currently containing the number five. If you later change your mind, you can do fido = Cat(4, \"pleasing\") (as long as you've created a class Cat), and fido would from then on \"contain\" a cat object. If you do fido = x, it will then contain the number five, and not an animal object at all.\n",
    "\n",
    "A class by itself doesn't know its instances unless you specifically write code to keep track of them. For instance:"
   ]
  },
  {
   "cell_type": "code",
   "execution_count": null,
   "metadata": {
    "collapsed": true
   },
   "outputs": [],
   "source": [
    "class Cat:\n",
    "    census = []\n",
    "\n",
    "    def __init(self, legs, colour):\n",
    "        self.colour = colour\n",
    "        self.legs = legs\n",
    "        Cat.census.append(self)"
   ]
  },
  {
   "cell_type": "markdown",
   "metadata": {},
   "source": [
    "Here, census is a class-level attribute of Cat class."
   ]
  },
  {
   "cell_type": "code",
   "execution_count": null,
   "metadata": {
    "collapsed": true
   },
   "outputs": [],
   "source": [
    "fluffy = Cat(4, \"white\")\n",
    "spark = Cat(4, \"fiery\")\n",
    "Cat.census\n",
    "# ==> [<__main__.Cat instance at 0x108982cb0>, <__main__.Cat instance at 0x108982e18>]\n",
    "# or something like that"
   ]
  },
  {
   "cell_type": "markdown",
   "metadata": {},
   "source": [
    "Note that you won't get [fluffy, sparky]. Those are just variable names. If you want cats themselves to have names, you have to make a separate attribute for the name, and then override the  __str__ method to return this name. This method's (i.e. class-bound function, just like add or __init__) purpose is to describe how to convert the object to a string, like when you print it out."
   ]
  }
 ],
 "metadata": {
  "kernelspec": {
   "display_name": "Python [conda root]",
   "language": "python",
   "name": "conda-root-py"
  },
  "language_info": {
   "codemirror_mode": {
    "name": "ipython",
    "version": 3
   },
   "file_extension": ".py",
   "mimetype": "text/x-python",
   "name": "python",
   "nbconvert_exporter": "python",
   "pygments_lexer": "ipython3",
   "version": "3.5.2"
  }
 },
 "nbformat": 4,
 "nbformat_minor": 1
}
