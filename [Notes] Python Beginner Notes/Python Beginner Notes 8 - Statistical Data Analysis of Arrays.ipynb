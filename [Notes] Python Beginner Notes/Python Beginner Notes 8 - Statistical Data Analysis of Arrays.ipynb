{
 "cells": [
  {
   "cell_type": "markdown",
   "metadata": {},
   "source": [
    "## Statistical Data Analysis\n",
    "When dealing with large datasets and large sizes of arrays, it is important to know how to gain useful insights from our data. Numpy contains many useful functions to help us make sense of large arrays of data"
   ]
  },
  {
   "cell_type": "code",
   "execution_count": 6,
   "metadata": {
    "collapsed": false,
    "scrolled": true
   },
   "outputs": [
    {
     "name": "stdout",
     "output_type": "stream",
     "text": [
      "(17, 2)\n"
     ]
    }
   ],
   "source": [
    "import numpy as np\n",
    "\n",
    "np_city = np.array([[1.75,61.1],\n",
    "           [1.45,78.9],\n",
    "           [1.63,67.7],\n",
    "           [1.41,63.4],\n",
    "           [1.68,56.3],\n",
    "           [1.91,90.1],\n",
    "           [1.80,56.8],\n",
    "           [1.37,37.9],\n",
    "           [1.54,98.9],\n",
    "           [1.38,36.7],\n",
    "           [1.75,76.3],\n",
    "           [1.45,99.3],\n",
    "           [1.58,34.8],\n",
    "           [1.34,56.7],\n",
    "           [1.78,63.6],\n",
    "           [1.59,58.5],\n",
    "           [1.90,76.5]])\n",
    "\n",
    "print(np_city.shape)"
   ]
  },
  {
   "cell_type": "markdown",
   "metadata": {},
   "source": [
    "## np.mean()  \n",
    "The np.mean() function allows us to get the average values of our selected values.  "
   ]
  },
  {
   "cell_type": "code",
   "execution_count": 15,
   "metadata": {
    "collapsed": false,
    "scrolled": true
   },
   "outputs": [
    {
     "data": {
      "text/plain": [
       "1.6064705882352941"
      ]
     },
     "execution_count": 15,
     "metadata": {},
     "output_type": "execute_result"
    }
   ],
   "source": [
    "np.mean(np_city[:,0]) # We specify for numpy to give us the mean value of all the rows in the first column"
   ]
  },
  {
   "cell_type": "markdown",
   "metadata": {},
   "source": [
    "## np.median()\n",
    "The np.mean() function allows us to get the average values of our selected values."
   ]
  },
  {
   "cell_type": "code",
   "execution_count": 12,
   "metadata": {
    "collapsed": false,
    "scrolled": false
   },
   "outputs": [
    {
     "data": {
      "text/plain": [
       "63.399999999999999"
      ]
     },
     "execution_count": 12,
     "metadata": {},
     "output_type": "execute_result"
    }
   ],
   "source": [
    "np.median(np_city[:,1]) # We can also ask numpy to give us the median value of all the rows in the second column"
   ]
  },
  {
   "cell_type": "markdown",
   "metadata": {},
   "source": [
    "## np.corrcoef()"
   ]
  },
  {
   "cell_type": "code",
   "execution_count": 13,
   "metadata": {
    "collapsed": false,
    "scrolled": true
   },
   "outputs": [
    {
     "data": {
      "text/plain": [
       "array([[ 1.        ,  0.27378574],\n",
       "       [ 0.27378574,  1.        ]])"
      ]
     },
     "execution_count": 13,
     "metadata": {},
     "output_type": "execute_result"
    }
   ],
   "source": [
    "np.corrcoef(np_city[:,0],np_city[:,1]) # we can calculate the "
   ]
  },
  {
   "cell_type": "markdown",
   "metadata": {},
   "source": [
    "## np.std()  \n",
    "The np.std() function returns the standard deviation, a measure of the spread of a distribution, of the array elements. The standard deviation is computed for the flattened array by default, otherwise over the specified axis."
   ]
  },
  {
   "cell_type": "code",
   "execution_count": 14,
   "metadata": {
    "collapsed": false
   },
   "outputs": [
    {
     "data": {
      "text/plain": [
       "0.18217448573440562"
      ]
     },
     "execution_count": 14,
     "metadata": {},
     "output_type": "execute_result"
    }
   ],
   "source": [
    "np.std(np_city[:,0])"
   ]
  },
  {
   "cell_type": "markdown",
   "metadata": {},
   "source": [
    "## Generating Random Data  \n",
    "We can use Numpy functions to generate random data for us to practice on"
   ]
  },
  {
   "cell_type": "code",
   "execution_count": 27,
   "metadata": {
    "collapsed": false
   },
   "outputs": [
    {
     "name": "stdout",
     "output_type": "stream",
     "text": [
      "(5000, 2)\n",
      "\n",
      "[[  1.63  86.43]\n",
      " [  1.4   53.78]\n",
      " [  1.76  66.59]\n",
      " ..., \n",
      " [  1.72  49.3 ]\n",
      " [  1.68  39.63]\n",
      " [  1.62  60.83]]\n"
     ]
    }
   ],
   "source": [
    "# Generating a normally distributed, randomized array of 500 values with mean 1.75, Std dev 0.2, to 2 dp\n",
    "height = np.round(np.random.normal(1.75, 0.20,5000),2)\n",
    "# Generating a normally distributed, randomized array of 500 values with mean 60.32, Std dev 15, to 2 dp\n",
    "weight = np.round(np.random.normal(60.32, 15, 5000),2)\n",
    "# Stack both arrays as columns in a new array\n",
    "height_weight_city = np.column_stack((height,weight))\n",
    "\n",
    "print(height_weight_city.shape)\n",
    "print()\n",
    "print(height_weight_city)"
   ]
  }
 ],
 "metadata": {
  "anaconda-cloud": {},
  "kernelspec": {
   "display_name": "Python [conda root]",
   "language": "python",
   "name": "conda-root-py"
  },
  "language_info": {
   "codemirror_mode": {
    "name": "ipython",
    "version": 3
   },
   "file_extension": ".py",
   "mimetype": "text/x-python",
   "name": "python",
   "nbconvert_exporter": "python",
   "pygments_lexer": "ipython3",
   "version": "3.5.2"
  }
 },
 "nbformat": 4,
 "nbformat_minor": 1
}
