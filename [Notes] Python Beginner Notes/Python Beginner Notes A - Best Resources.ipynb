{
 "cells": [
  {
   "cell_type": "markdown",
   "metadata": {},
   "source": [
    "# The Best Python References\n",
    "## 1. Built-In Types Library\n",
    "Everything for the standard object types, their methods and behaviours.  \n",
    "https://docs.python.org/3/library/stdtypes.html"
   ]
  },
  {
   "cell_type": "markdown",
   "metadata": {},
   "source": [
    "## 2. Tutorialspoint Python Tutorial\n",
    "Nav bar on the left gives in depth information and simple examples for everything from beginner to advanced Python programming.  \n",
    "https://www.tutorialspoint.com/python/index.htm"
   ]
  },
  {
   "cell_type": "markdown",
   "metadata": {
    "collapsed": true
   },
   "source": [
    "## 3. SciPy's NumPy Reference Page  \n",
    "A complete list of detailed information of all functions, modules, and objects included in Numpy, describing what they are and what they do.  \n",
    "https://docs.scipy.org/doc/numpy/reference/index.html  \n",
    "see also: https://docs.scipy.org/doc/numpy/user/index.html#user  \n",
    "data science specific: https://docs.scipy.org/doc/numpy/reference/routines.statistics.htm"
   ]
  },
  {
   "cell_type": "markdown",
   "metadata": {
    "collapsed": true
   },
   "source": [
    "## 4. Matplotlib.pyplot Documentation Page  \n",
    "A complete list of reference material for pyplot's methods  \n",
    "http://matplotlib.org/api/pyplot_summary.html"
   ]
  }
 ],
 "metadata": {
  "anaconda-cloud": {},
  "kernelspec": {
   "display_name": "Python [conda root]",
   "language": "python",
   "name": "conda-root-py"
  },
  "language_info": {
   "codemirror_mode": {
    "name": "ipython",
    "version": 3
   },
   "file_extension": ".py",
   "mimetype": "text/x-python",
   "name": "python",
   "nbconvert_exporter": "python",
   "pygments_lexer": "ipython3",
   "version": "3.5.2"
  }
 },
 "nbformat": 4,
 "nbformat_minor": 1
}
