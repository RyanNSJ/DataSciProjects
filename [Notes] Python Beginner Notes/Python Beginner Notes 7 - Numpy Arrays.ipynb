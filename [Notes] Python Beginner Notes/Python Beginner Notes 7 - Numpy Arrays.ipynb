{
 "cells": [
  {
   "cell_type": "markdown",
   "metadata": {},
   "source": [
    "## Numpy \n",
    "Numpy is short for Numeric Python, which prodives an alternative to a regualar python list: the Numpy **Array**.  \n",
    "https://docs.scipy.org/doc/numpy/reference/generated/numpy.array.html\n",
    "\n",
    "## Arrays\n",
    "An array is sort of like a table of cells in Excel, but not exactly like a matrix in MATLAB. Its advantage over the list is that it allows us to make calculations over entire arrays, unlike lists. This is because with arrays, Python can recognize individual values in the array, rather than seeing a list as an entire object itself.  \n",
    "\n",
    "  \n",
    "For example:"
   ]
  },
  {
   "cell_type": "code",
   "execution_count": 22,
   "metadata": {
    "collapsed": false
   },
   "outputs": [
    {
     "name": "stdout",
     "output_type": "stream",
     "text": [
      "[ 24.71992654  20.14294997  23.69576446  23.68839924  23.61969602]\n"
     ]
    }
   ],
   "source": [
    "import numpy as np\n",
    "\n",
    "height_list = [1.65, 1.71, 1.76, 1.79, 1.83]\n",
    "weight_list = [67.3, 58.9, 73.4, 75.9, 79.1]\n",
    "\n",
    "height_array = np.array(height_list) # Convert an existing list into a 1D array\n",
    "weight_array = np.array([67.3, 58.9, 73.4, 75.9, 79.1]) # Or key in the values yourself\n",
    "\n",
    "bmi = weight_array/height_array**2 # We couldnt do this with regular lists\n",
    "print(bmi)"
   ]
  },
  {
   "cell_type": "markdown",
   "metadata": {},
   "source": [
    "Remember, an array is simply a newly defined Python **type** or **class** of object with its own **attributes**, **methods** and **behaviour**. As an example, the + symbol provides different bevahiours from lists and arrays"
   ]
  },
  {
   "cell_type": "code",
   "execution_count": 23,
   "metadata": {
    "collapsed": false
   },
   "outputs": [
    {
     "name": "stdout",
     "output_type": "stream",
     "text": [
      "[67.3, 58.9, 73.4, 75.9, 79.1, 1.65, 1.71, 1.76, 1.79, 1.83]\n"
     ]
    }
   ],
   "source": [
    "# Adding lists together joins both lists to create a new list\n",
    "height_list = [1.65, 1.71, 1.76, 1.79, 1.83]\n",
    "weight_list = [67.3, 58.9, 73.4, 75.9, 79.1]\n",
    "\n",
    "print(weight_list+height_list)"
   ]
  },
  {
   "cell_type": "code",
   "execution_count": 24,
   "metadata": {
    "collapsed": false
   },
   "outputs": [
    {
     "name": "stdout",
     "output_type": "stream",
     "text": [
      "[ 68.95  60.61  75.16  77.69  80.93]\n"
     ]
    }
   ],
   "source": [
    "# Adding arrays together adds the corresponding values in each array to give a new array\n",
    "height_array = np.array(height_list)\n",
    "weight_array = np.array(weight_list)\n",
    "\n",
    "print(weight_array+height_array)"
   ]
  },
  {
   "cell_type": "markdown",
   "metadata": {},
   "source": [
    "## Remarks\n",
    "Numpy arrays can only contain objects of the same type, if multiple types are specified into a single array, Numpy will automatically convert them to a uniform type. This is known as type coercion."
   ]
  },
  {
   "cell_type": "code",
   "execution_count": 25,
   "metadata": {
    "collapsed": false
   },
   "outputs": [
    {
     "data": {
      "text/plain": [
       "array(['1.0', '4', 'is', 'True'], \n",
       "      dtype='<U32')"
      ]
     },
     "execution_count": 25,
     "metadata": {},
     "output_type": "execute_result"
    }
   ],
   "source": [
    "np.array([1.0,4,\"is\", True]) #Numpy automatically converts our ints, floats and bools into strings."
   ]
  },
  {
   "cell_type": "markdown",
   "metadata": {},
   "source": [
    "## Array Subsetting  \n",
    "The are multiple ways to select individual objects in arrays"
   ]
  },
  {
   "cell_type": "code",
   "execution_count": 26,
   "metadata": {
    "collapsed": false,
    "scrolled": true
   },
   "outputs": [
    {
     "name": "stdout",
     "output_type": "stream",
     "text": [
      "1.76\n"
     ]
    }
   ],
   "source": [
    "# We can use square bracket to call objects at an index location, just like with lists\n",
    "height_array = np.array([1.65, 1.71, 1.76, 1.71, 1.83])\n",
    "print(height_array[2])"
   ]
  },
  {
   "cell_type": "markdown",
   "metadata": {},
   "source": [
    "## Boolean Numpy Arrays"
   ]
  },
  {
   "cell_type": "code",
   "execution_count": 27,
   "metadata": {
    "collapsed": false
   },
   "outputs": [
    {
     "name": "stdout",
     "output_type": "stream",
     "text": [
      "[False False  True False  True]\n",
      "[False  True False  True False]\n",
      "[ 1.76  1.83]\n",
      "[ 1.71  1.71]\n"
     ]
    }
   ],
   "source": [
    "# We can even use the >, >=, <=, <, ==, != fuctions to return if objects meet a criteria\n",
    "height_array = np.array([1.65, 1.71, 1.76, 1.71, 1.83])\n",
    "tall = height_array > 1.75\n",
    "onesevenone = height_array == 1.71\n",
    "\n",
    "print(tall)\n",
    "print(onesevenone)\n",
    "# If we want to call only those values that are True (meeting the criteria) in the array we use\n",
    "print(height_array[tall])\n",
    "print(height_array[height_array == 1.71])"
   ]
  },
  {
   "cell_type": "markdown",
   "metadata": {},
   "source": [
    "## 2D Arrays  \n",
    "So far we have only looked at 1 dimensional arrays, but we can create arrays with as many dimensions as we want. These can be thought of as tables with rows and columns, or even as a matrix!  \n",
    "  \n",
    "Here's an example of a 2D Numpy array:"
   ]
  },
  {
   "cell_type": "code",
   "execution_count": 28,
   "metadata": {
    "collapsed": false,
    "scrolled": false
   },
   "outputs": [
    {
     "name": "stdout",
     "output_type": "stream",
     "text": [
      "[[ 1  2  3  4  5  6  7  8]\n",
      " [ 2  4  6  8 10 12 14 16]]\n"
     ]
    }
   ],
   "source": [
    "two_d = np.array([[1,2,3,4,5,6,7,8],[2,4,6,8,10,12,14,16]]) #Almost like an improved \"list of lists\"\n",
    "print(two_d) # What beautiful matrix-like structure"
   ]
  },
  {
   "cell_type": "code",
   "execution_count": 29,
   "metadata": {
    "collapsed": false,
    "scrolled": false
   },
   "outputs": [
    {
     "data": {
      "text/plain": [
       "(2, 8)"
      ]
     },
     "execution_count": 29,
     "metadata": {},
     "output_type": "execute_result"
    }
   ],
   "source": [
    "two_d.shape # We can call the shape attibute of the array, and see that it has 2 rows and 8 columns"
   ]
  },
  {
   "cell_type": "markdown",
   "metadata": {},
   "source": [
    "## Subsetting 2D Arrays\n",
    "Similar to how we selected and object in a list of lists, to call an object in an array, we first specify the row, then the column with square brackets, or as a pair of indexes seperated by a comma"
   ]
  },
  {
   "cell_type": "code",
   "execution_count": 30,
   "metadata": {
    "collapsed": false,
    "scrolled": true
   },
   "outputs": [
    {
     "data": {
      "text/plain": [
       "array([[ 1,  2,  3,  4,  5,  6,  7,  8],\n",
       "       [ 2,  4,  6,  8, 10, 12, 14, 16]])"
      ]
     },
     "execution_count": 30,
     "metadata": {},
     "output_type": "execute_result"
    }
   ],
   "source": [
    "two_d # Calling the entire array"
   ]
  },
  {
   "cell_type": "code",
   "execution_count": 31,
   "metadata": {
    "collapsed": false
   },
   "outputs": [
    {
     "data": {
      "text/plain": [
       "array([1, 2, 3, 4, 5, 6, 7, 8])"
      ]
     },
     "execution_count": 31,
     "metadata": {},
     "output_type": "execute_result"
    }
   ],
   "source": [
    "two_d[0] # Calling an entire row"
   ]
  },
  {
   "cell_type": "code",
   "execution_count": 32,
   "metadata": {
    "collapsed": false
   },
   "outputs": [
    {
     "data": {
      "text/plain": [
       "7"
      ]
     },
     "execution_count": 32,
     "metadata": {},
     "output_type": "execute_result"
    }
   ],
   "source": [
    "two_d[0][6] # Calling object in row index 0, column index 6"
   ]
  },
  {
   "cell_type": "code",
   "execution_count": 33,
   "metadata": {
    "collapsed": false,
    "scrolled": true
   },
   "outputs": [
    {
     "data": {
      "text/plain": [
       "7"
      ]
     },
     "execution_count": 33,
     "metadata": {},
     "output_type": "execute_result"
    }
   ],
   "source": [
    "two_d[0,6] # Calling object in row index 0, column index 6"
   ]
  },
  {
   "cell_type": "markdown",
   "metadata": {},
   "source": [
    "We can even call a subset of the entire array by specifying which parts of the array we want"
   ]
  },
  {
   "cell_type": "code",
   "execution_count": 34,
   "metadata": {
    "collapsed": false,
    "scrolled": true
   },
   "outputs": [
    {
     "data": {
      "text/plain": [
       "array([[ 6,  7,  8],\n",
       "       [12, 14, 16]])"
      ]
     },
     "execution_count": 34,
     "metadata": {},
     "output_type": "execute_result"
    }
   ],
   "source": [
    "two_d[:,5:8] # Calling both rows, column index 5 to 8"
   ]
  },
  {
   "cell_type": "code",
   "execution_count": 35,
   "metadata": {
    "collapsed": false,
    "scrolled": true
   },
   "outputs": [
    {
     "data": {
      "text/plain": [
       "array([ 2,  4,  6,  8, 10, 12, 14, 16])"
      ]
     },
     "execution_count": 35,
     "metadata": {},
     "output_type": "execute_result"
    }
   ],
   "source": [
    "two_d[1,:] # Calling row index 1, all columns"
   ]
  },
  {
   "cell_type": "markdown",
   "metadata": {},
   "source": [
    "## 2D Arithmetic\n",
    "Numpy is able to perform all array calculations element-wise. For 2D Numpy arrays this isn't any different! You can combine matrices with single numbers, with vectors, and with other matrices."
   ]
  },
  {
   "cell_type": "code",
   "execution_count": 36,
   "metadata": {
    "collapsed": false
   },
   "outputs": [
    {
     "name": "stdout",
     "output_type": "stream",
     "text": [
      "[[10 10 10 10]\n",
      " [10 10 10 10]\n",
      " [10 10 10 10]]\n"
     ]
    }
   ],
   "source": [
    "array1 = np.array([[10,10,10,10],[10,10,10,10],[10,10,10,10]])\n",
    "print(array1)"
   ]
  },
  {
   "cell_type": "code",
   "execution_count": 44,
   "metadata": {
    "collapsed": false,
    "scrolled": true
   },
   "outputs": [
    {
     "name": "stdout",
     "output_type": "stream",
     "text": [
      "[[20 20 20 20]\n",
      " [20 20 20 20]\n",
      " [20 20 20 20]]\n"
     ]
    }
   ],
   "source": [
    "array_addition = array1+np.array([10,10,10,10])\n",
    "print(array_addition)"
   ]
  },
  {
   "cell_type": "code",
   "execution_count": 41,
   "metadata": {
    "collapsed": false,
    "scrolled": false
   },
   "outputs": [
    {
     "name": "stdout",
     "output_type": "stream",
     "text": [
      "[[30 30 30 30]\n",
      " [30 30 30 30]\n",
      " [30 30 30 30]]\n"
     ]
    }
   ],
   "source": [
    "array_multiplication = array1 * 3\n",
    "print(array_multiplication)"
   ]
  },
  {
   "cell_type": "code",
   "execution_count": null,
   "metadata": {
    "collapsed": true
   },
   "outputs": [],
   "source": []
  },
  {
   "cell_type": "code",
   "execution_count": null,
   "metadata": {
    "collapsed": true
   },
   "outputs": [],
   "source": []
  }
 ],
 "metadata": {
  "anaconda-cloud": {},
  "kernelspec": {
   "display_name": "Python [conda root]",
   "language": "python",
   "name": "conda-root-py"
  },
  "language_info": {
   "codemirror_mode": {
    "name": "ipython",
    "version": 3
   },
   "file_extension": ".py",
   "mimetype": "text/x-python",
   "name": "python",
   "nbconvert_exporter": "python",
   "pygments_lexer": "ipython3",
   "version": "3.5.2"
  }
 },
 "nbformat": 4,
 "nbformat_minor": 1
}
