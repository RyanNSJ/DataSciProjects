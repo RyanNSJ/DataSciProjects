{
 "cells": [
  {
   "cell_type": "markdown",
   "metadata": {},
   "source": [
    "## Packages\n",
    "A Python **package** can be thought of as a folder of prewritten Python **scripts** (or modules) aimed at solving particular problems. Packages specify new **functions**, **methods**, and **object types** or **classes**. There are literally thousands of Python packages available on the internet.  \n",
    "\n",
    "Some of the more used ones are:  \n",
    "  \n",
    "* ### Numpy\n",
    "Allows us to work with arrays in Python\n",
    "\n",
    "* ### Math\n",
    "Gives us some useful math functions and constants like math.pi and radians(angle)\n",
    "\n",
    "* ### Matplotlib\n",
    "Useful for Data Visualization\n",
    "\n",
    "* ### Scikit-learn\n",
    "for predefined machine learning models  \n",
    "\n",
    "## Installing Packages with pip"
   ]
  },
  {
   "cell_type": "code",
   "execution_count": null,
   "metadata": {
    "collapsed": false
   },
   "outputs": [],
   "source": [
    "pip3 install numpy #enter this into terminal"
   ]
  },
  {
   "cell_type": "markdown",
   "metadata": {},
   "source": [
    "## Importing Packages into a Python Script\n",
    "We need to import packages at the start of out script before we do anything else, so that Python knows all the new stuff we are using."
   ]
  },
  {
   "cell_type": "code",
   "execution_count": 8,
   "metadata": {
    "collapsed": false
   },
   "outputs": [
    {
     "data": {
      "text/plain": [
       "array([1, 2, 3])"
      ]
     },
     "execution_count": 8,
     "metadata": {},
     "output_type": "execute_result"
    }
   ],
   "source": [
    "# Importing the installed numpy package as np, so that we can call it with the shortcut np\n",
    "import numpy as np\n",
    "\n",
    "# Now we can use the array class objects defined by the .py scripts in the numpy package\n",
    "np.array([1,2,3])"
   ]
  },
  {
   "cell_type": "code",
   "execution_count": 10,
   "metadata": {
    "collapsed": false
   },
   "outputs": [
    {
     "data": {
      "text/plain": [
       "array([1, 2, 3])"
      ]
     },
     "execution_count": 10,
     "metadata": {},
     "output_type": "execute_result"
    }
   ],
   "source": [
    "# If we only want to import a single function from a package we use this code instead\n",
    "from numpy import array # Let's be clear that this is not the most conveinient method.\n",
    "\n",
    "# As you can see, since we have only imported a function into our script, there is no need to call np\n",
    "# The array function itself acts as if it exists in out own script, rather than in the numpy package.\n",
    "array([1,2,3])"
   ]
  }
 ],
 "metadata": {
  "kernelspec": {
   "display_name": "Python [conda root]",
   "language": "python",
   "name": "conda-root-py"
  },
  "language_info": {
   "codemirror_mode": {
    "name": "ipython",
    "version": 3
   },
   "file_extension": ".py",
   "mimetype": "text/x-python",
   "name": "python",
   "nbconvert_exporter": "python",
   "pygments_lexer": "ipython3",
   "version": "3.5.2"
  }
 },
 "nbformat": 4,
 "nbformat_minor": 1
}
