{
 "cells": [
  {
   "cell_type": "markdown",
   "metadata": {},
   "source": [
    "## Methods\n",
    "Generally in programming, **method** refers to a function which is part of a **class**, whereas function refers to a function on its own. So a standalone function in Python is a 'function', whereas a function that is an **attribute** of a class or an instance is a 'method'. It is almost as if we are performing a function that only works on a specific class of objects, where it takes each **instance** of the class as the first input.  \n",
    "  \n",
    "For example:"
   ]
  },
  {
   "cell_type": "code",
   "execution_count": 4,
   "metadata": {
    "collapsed": false
   },
   "outputs": [
    {
     "data": {
      "text/plain": [
       "8"
      ]
     },
     "execution_count": 4,
     "metadata": {},
     "output_type": "execute_result"
    }
   ],
   "source": [
    "# This is how we define a NORMAL function\n",
    "def addition(a,b):\n",
    "    return a+b\n",
    "\n",
    "# To call our function, we can use any two inputs\n",
    "addition(3,5)\n"
   ]
  },
  {
   "cell_type": "code",
   "execution_count": 5,
   "metadata": {
    "collapsed": false,
    "scrolled": true
   },
   "outputs": [
    {
     "data": {
      "text/plain": [
       "8"
      ]
     },
     "execution_count": 5,
     "metadata": {},
     "output_type": "execute_result"
    }
   ],
   "source": [
    "# This is how we define a class, with a method as an attribute of that class\n",
    "class number_pair(object): # Our class\n",
    "    def addition(self, a, b): # defining a method as an attribute\n",
    "        self.contents = a+b # self is the placeholder input where instance is used when calling a method\n",
    "        return self.contents\n",
    "\n",
    "#To call our method though, we must first choose an instance of an object with the \"number_pair\" class.\n",
    "someinstance = number_pair() #creating an instance with the \"number_pair\" class\n",
    "someinstance.addition(3,5) # the method only works with an instance of the class"
   ]
  },
  {
   "cell_type": "markdown",
   "metadata": {},
   "source": [
    "There is also something known as **staticmethods** which are basically functions that have been defined in the class' space. With these, we can call directly upon the class, without the need to specify any instances of that class."
   ]
  },
  {
   "cell_type": "code",
   "execution_count": 6,
   "metadata": {
    "collapsed": false,
    "scrolled": true
   },
   "outputs": [
    {
     "data": {
      "text/plain": [
       "3"
      ]
     },
     "execution_count": 6,
     "metadata": {},
     "output_type": "execute_result"
    }
   ],
   "source": [
    "class number_pair(object):\n",
    "    @staticmethod\n",
    "    def addition(a,b):\n",
    "        return a+b\n",
    "\n",
    "number_pair.addition(1,2)\n"
   ]
  },
  {
   "cell_type": "markdown",
   "metadata": {},
   "source": [
    "## Similarly Named Methods\n",
    "It is important to note that objects of different types have different methods associated with them, even if the methods have the same name.  \n",
    "For example: "
   ]
  },
  {
   "cell_type": "code",
   "execution_count": 22,
   "metadata": {
    "collapsed": false
   },
   "outputs": [
    {
     "name": "stdout",
     "output_type": "stream",
     "text": [
      "3\n",
      "1\n"
     ]
    }
   ],
   "source": [
    "list1 = [0, 1, 2, 3, 4, 5]\n",
    "string1 = \"Hello, World!\"\n",
    "\n",
    "print(list1.index(3))# .index() on a list gives us the location of a specified object in a list\n",
    "print(string1.index(\"e\")) # .index on a string gives us the position of a character in a string length"
   ]
  },
  {
   "cell_type": "markdown",
   "metadata": {},
   "source": [
    "## Example Methods"
   ]
  },
  {
   "cell_type": "markdown",
   "metadata": {},
   "source": [
    "## string.capitalize()  \n",
    "It returns a copy of the string with only its first character capitalized."
   ]
  },
  {
   "cell_type": "code",
   "execution_count": 17,
   "metadata": {
    "collapsed": false
   },
   "outputs": [
    {
     "data": {
      "text/plain": [
       "'Word'"
      ]
     },
     "execution_count": 17,
     "metadata": {},
     "output_type": "execute_result"
    }
   ],
   "source": [
    "word = \"word\"\n",
    "word.capitalize()"
   ]
  },
  {
   "cell_type": "markdown",
   "metadata": {},
   "source": [
    "## string.replace()\n",
    "Replaces all occurrences of old in string with new or at most max occurrences if max given."
   ]
  },
  {
   "cell_type": "code",
   "execution_count": 24,
   "metadata": {
    "collapsed": false,
    "scrolled": true
   },
   "outputs": [
    {
     "name": "stdout",
     "output_type": "stream",
     "text": [
      "was was was was was was was\n",
      "was was was is is is is\n"
     ]
    }
   ],
   "source": [
    "sentence = \"is is is is is is is\";\n",
    "print(sentence.replace(\"is\", \"was\"))\n",
    "print(sentence.replace(\"is\", \"was\", 3))"
   ]
  },
  {
   "cell_type": "markdown",
   "metadata": {},
   "source": [
    "## string.count(\"substring\")\n",
    "Counts the number of all occurrences of a substring length within a string."
   ]
  },
  {
   "cell_type": "code",
   "execution_count": 25,
   "metadata": {
    "collapsed": false,
    "scrolled": true
   },
   "outputs": [
    {
     "data": {
      "text/plain": [
       "7"
      ]
     },
     "execution_count": 25,
     "metadata": {},
     "output_type": "execute_result"
    }
   ],
   "source": [
    "sentence = \"is is is is is is is\";\n",
    "sentence.count(\"is\")"
   ]
  }
 ],
 "metadata": {
  "kernelspec": {
   "display_name": "Python [conda root]",
   "language": "python",
   "name": "conda-root-py"
  },
  "language_info": {
   "codemirror_mode": {
    "name": "ipython",
    "version": 3
   },
   "file_extension": ".py",
   "mimetype": "text/x-python",
   "name": "python",
   "nbconvert_exporter": "python",
   "pygments_lexer": "ipython3",
   "version": "3.5.2"
  }
 },
 "nbformat": 4,
 "nbformat_minor": 1
}
