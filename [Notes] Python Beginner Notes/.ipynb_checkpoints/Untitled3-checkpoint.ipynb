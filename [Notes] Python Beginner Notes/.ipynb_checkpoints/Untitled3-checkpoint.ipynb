{
 "cells": [
  {
   "cell_type": "code",
   "execution_count": null,
   "metadata": {
    "collapsed": false
   },
   "outputs": [],
   "source": [
    "import numpy as np\n",
    "\n",
    "#N_M = \"3 3\"\n",
    "N_M = input()\n",
    "\n",
    "N_M_ls = N_M.split(\" \")\n",
    "\n",
    "N = int(N_M_ls[0])\n",
    "\n",
    "if N<=0:\n",
    "    print(0)\n",
    "\n",
    "M = int(N_M_ls[1])\n",
    "\n",
    "if M>100:\n",
    "    print(0)\n",
    "\n",
    "input_ls = []\n",
    "for i in range(N):\n",
    "    input_ls.append(input())\n",
    "\n",
    "table = []\n",
    "for i in range(N):\n",
    "    input_ls_int=list(map(int,input_ls[i].split(' ')))\n",
    "    table.append(input_ls_int)\n",
    "    \n",
    "table_mat = np.array(table)\n",
    "#print(table_mat)\n",
    "\n",
    "largest_area = 0\n",
    "\n",
    "for i in range(N):\n",
    "    for j in range(M):\n",
    "        #print(\"rectangle dimensions:\",i+1,\"x\",j+1,\"area:\",(i+1)*(j+1))\n",
    "        if (i+1)*(j+1)>=largest_area:\n",
    "            #print(\"candidate area:\",(i+1)*(j+1))\n",
    "            for l in range(N-i):\n",
    "                for k in range(M-j):\n",
    "                    target_array = table_mat[0+l:0+l+i+1,0+k:0+k+j+1]\n",
    "                    target_array_area = (i+1)*(j+1)\n",
    "                    #print(target_array)\n",
    "                    #print()\n",
    "                    if np.sum(target_array)==0:\n",
    "                        if target_array_area > largest_area:\n",
    "                            largest_area = target_array_area\n",
    "                            #print (\"new best is:\",largest_area)\n",
    "\n",
    "print(largest_area)"
   ]
  },
  {
   "cell_type": "code",
   "execution_count": null,
   "metadata": {
    "collapsed": true
   },
   "outputs": [],
   "source": []
  }
 ],
 "metadata": {
  "anaconda-cloud": {},
  "kernelspec": {
   "display_name": "Python [conda env:py34]",
   "language": "python",
   "name": "conda-env-py34-py"
  },
  "language_info": {
   "codemirror_mode": {
    "name": "ipython",
    "version": 3
   },
   "file_extension": ".py",
   "mimetype": "text/x-python",
   "name": "python",
   "nbconvert_exporter": "python",
   "pygments_lexer": "ipython3",
   "version": "3.4.5"
  }
 },
 "nbformat": 4,
 "nbformat_minor": 1
}
