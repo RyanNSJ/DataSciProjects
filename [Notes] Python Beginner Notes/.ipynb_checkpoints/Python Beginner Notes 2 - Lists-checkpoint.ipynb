{
 "cells": [
  {
   "cell_type": "markdown",
   "metadata": {},
   "source": [
    "# Lists\n",
    "A list is a compound data type object that contains a collection of objects of any type, even other lists!  \n",
    "Denoted by square brackets"
   ]
  },
  {
   "cell_type": "code",
   "execution_count": 36,
   "metadata": {
    "collapsed": false
   },
   "outputs": [
    {
     "name": "stdout",
     "output_type": "stream",
     "text": [
      "[1.73, 1.98, 1.69, 1.65]\n"
     ]
    }
   ],
   "source": [
    "# A single list containing floats\n",
    "Heights = [1.73, 1.98, 1.69, 1.65]\n",
    "print(Heights)"
   ]
  },
  {
   "cell_type": "code",
   "execution_count": 37,
   "metadata": {
    "collapsed": false
   },
   "outputs": [
    {
     "name": "stdout",
     "output_type": "stream",
     "text": [
      "[['Adam', 1.73], ['Brian', 1.98], ['Chris', 1.69], ['Eric', 1.65]]\n"
     ]
    }
   ],
   "source": [
    "# A list containing other lists containing both strings and floats\n",
    "Names_Heights = [['Adam',1.73],\n",
    "                ['Brian',1.98],\n",
    "                ['Chris',1.69],\n",
    "                ['Eric',1.65]]\n",
    "\n",
    "print(Names_Heights)"
   ]
  },
  {
   "cell_type": "markdown",
   "metadata": {
    "collapsed": true
   },
   "source": [
    "## List Indexes\n",
    "Lists in python are indexed, with the first object in the list given the index 0, the next one 1, 2, 3 and so on...  \n",
    "Objects in the list are also indexed in the reverse order starting with last object in the list given the index -1, the second last object indexed -2 and so on"
   ]
  },
  {
   "cell_type": "code",
   "execution_count": 38,
   "metadata": {
    "collapsed": false,
    "scrolled": false
   },
   "outputs": [
    {
     "name": "stdout",
     "output_type": "stream",
     "text": [
      "1.73\n",
      "1.98\n",
      "1.69\n",
      "1.65\n"
     ]
    }
   ],
   "source": [
    "# Selecting an individual item from a list via its position and index\n",
    "Heights = [1.73, 1.98, 1.69, 1.65]\n",
    "print(Heights[0]) \n",
    "print(Heights[1])\n",
    "print(Heights[2])\n",
    "print(Heights[3])\n"
   ]
  },
  {
   "cell_type": "code",
   "execution_count": 39,
   "metadata": {
    "collapsed": false
   },
   "outputs": [
    {
     "name": "stdout",
     "output_type": "stream",
     "text": [
      "1.73\n",
      "1.98\n",
      "1.69\n",
      "1.65\n"
     ]
    }
   ],
   "source": [
    "# Alternatively to achieve the same output...\n",
    "print(Heights[-4]) \n",
    "print(Heights[-3])\n",
    "print(Heights[-2])\n",
    "print(Heights[-1])"
   ]
  },
  {
   "cell_type": "code",
   "execution_count": 40,
   "metadata": {
    "collapsed": false
   },
   "outputs": [
    {
     "name": "stdout",
     "output_type": "stream",
     "text": [
      "1.73\n"
     ]
    }
   ],
   "source": [
    "# Selecting from the list within the list\n",
    "Names_Heights = [['Adam',1.73],\n",
    "                ['Brian',1.98],\n",
    "                ['Chris',1.69],\n",
    "                ['Eric',1.65]]\n",
    "\n",
    "print(Names_Heights[0][1])"
   ]
  },
  {
   "cell_type": "markdown",
   "metadata": {},
   "source": [
    "## List Slicing\n",
    "Lists can be sliced to return only a subset of the larger list  \n",
    "\n",
    "list[starting-index:ending-index]  \n",
    "\n",
    "Where the item corresponding to the start index is included whilst that of the end index is excluded"
   ]
  },
  {
   "cell_type": "code",
   "execution_count": 41,
   "metadata": {
    "collapsed": false,
    "scrolled": true
   },
   "outputs": [
    {
     "name": "stdout",
     "output_type": "stream",
     "text": [
      "[1.73, 1.98, 1.69]\n"
     ]
    }
   ],
   "source": [
    "# Here we select items from index 0 up to, but not including index 3.\n",
    "Heights = [1.73, 1.98, 1.69, 1.65]\n",
    "print(Heights[0:3])"
   ]
  },
  {
   "cell_type": "code",
   "execution_count": 42,
   "metadata": {
    "collapsed": false
   },
   "outputs": [
    {
     "name": "stdout",
     "output_type": "stream",
     "text": [
      "[1.73, 1.98, 1.69]\n"
     ]
    }
   ],
   "source": [
    "# Starting with a blank index defaults to start from index 0\n",
    "print(Heights[:3])"
   ]
  },
  {
   "cell_type": "code",
   "execution_count": 43,
   "metadata": {
    "collapsed": false
   },
   "outputs": [
    {
     "name": "stdout",
     "output_type": "stream",
     "text": [
      "[1.98, 1.69, 1.65]\n"
     ]
    }
   ],
   "source": [
    "# Same with ending, to end at the last item of the list\n",
    "print(Heights[1:])"
   ]
  },
  {
   "cell_type": "code",
   "execution_count": 44,
   "metadata": {
    "collapsed": false
   },
   "outputs": [
    {
     "name": "stdout",
     "output_type": "stream",
     "text": [
      "[1.73, 1.98, 1.69, 1.65]\n"
     ]
    }
   ],
   "source": [
    "# You can even do this...\n",
    "print(Heights[:])"
   ]
  },
  {
   "cell_type": "code",
   "execution_count": 45,
   "metadata": {
    "collapsed": false
   },
   "outputs": [
    {
     "name": "stdout",
     "output_type": "stream",
     "text": [
      "[1.73, 1.98]\n"
     ]
    }
   ],
   "source": [
    "#We can also create new lists out of subsets of other lists\n",
    "forward_players_Heights = Heights[:2]\n",
    "print(forward_players_Heights)"
   ]
  },
  {
   "cell_type": "markdown",
   "metadata": {},
   "source": [
    "## List Manipulation\n",
    "We can use list manipulation to update the values of the objects within our lists. We can also add or remove elements from our list."
   ]
  },
  {
   "cell_type": "code",
   "execution_count": 46,
   "metadata": {
    "collapsed": false,
    "scrolled": true
   },
   "outputs": [
    {
     "name": "stdout",
     "output_type": "stream",
     "text": [
      "['Adam', 1.73, 'Brian', 1.98, 'Chris', 1.69, 'Eric', 1.65]\n"
     ]
    }
   ],
   "source": [
    "List_Heights = ['Adam',1.73,'Brian',1.98,'Chris',1.69,'Eric',1.65]\n",
    "\n",
    "print(List_Heights)"
   ]
  },
  {
   "cell_type": "code",
   "execution_count": 47,
   "metadata": {
    "collapsed": false
   },
   "outputs": [
    {
     "name": "stdout",
     "output_type": "stream",
     "text": [
      "['Adam', 1.79, 'Brian', 1.98, 'Chris', 1.69, 'Eric', 1.65]\n"
     ]
    }
   ],
   "source": [
    "# We can update individual items in a list\n",
    "\n",
    "List_Heights[1] = 1.79\n",
    "\n",
    "print(List_Heights)\n"
   ]
  },
  {
   "cell_type": "code",
   "execution_count": 48,
   "metadata": {
    "collapsed": false
   },
   "outputs": [
    {
     "name": "stdout",
     "output_type": "stream",
     "text": [
      "['Adam', 1.79, 'Boris', 1.89, 'Chris', 1.69, 'Eric', 1.65]\n"
     ]
    }
   ],
   "source": [
    "# Or we update multiple items at once\n",
    "List_Heights[2:4] = [\"Boris\",1.89]\n",
    "\n",
    "print(List_Heights)\n"
   ]
  },
  {
   "cell_type": "markdown",
   "metadata": {},
   "source": [
    "## Adding to a List\n",
    "One of the behaviours of list type objects is that when you add two lists with the + sign, python simply joins both lists as a new list"
   ]
  },
  {
   "cell_type": "code",
   "execution_count": 49,
   "metadata": {
    "collapsed": false
   },
   "outputs": [
    {
     "name": "stdout",
     "output_type": "stream",
     "text": [
      "['Adam', 1.73, 'Brian', 1.98, 'Chris', 1.69, 'Eric', 1.65]\n"
     ]
    }
   ],
   "source": [
    "# Given our original list, we can add a new set of items to the list\n",
    "List_Heights = ['Adam',1.73,'Brian',1.98,'Chris',1.69,'Eric',1.65]\n",
    "print(List_Heights)"
   ]
  },
  {
   "cell_type": "code",
   "execution_count": 50,
   "metadata": {
    "collapsed": false
   },
   "outputs": [
    {
     "name": "stdout",
     "output_type": "stream",
     "text": [
      "['Adam', 1.73, 'Brian', 1.98, 'Chris', 1.69, 'Eric', 1.65, 'Felix', 1.83]\n"
     ]
    }
   ],
   "source": [
    "# We add in 2 items to our list\n",
    "List_Heights = List_Heights + ['Felix', 1.83]\n",
    "print(List_Heights)"
   ]
  },
  {
   "cell_type": "code",
   "execution_count": 51,
   "metadata": {
    "collapsed": false,
    "scrolled": true
   },
   "outputs": [
    {
     "name": "stdout",
     "output_type": "stream",
     "text": [
      "['Adam', 1.73, 'Brian', 1.98, 'Chris', 1.69, 'Eric', 1.65, 'Felix', 1.83, 'George', 1.76, 'Henry', 1.66]\n"
     ]
    }
   ],
   "source": [
    "# We can also join two lists with the + sign due to the way lists behave in python\n",
    "New_players = ['George',1.76, 'Henry',1.66]\n",
    "List_Heights_updated = List_Heights + New_players\n",
    "print(List_Heights_updated)"
   ]
  },
  {
   "cell_type": "markdown",
   "metadata": {},
   "source": [
    "## Deleting items from a list\n",
    "If we want to remove objects in our list, we can simply delete them using the del() function"
   ]
  },
  {
   "cell_type": "code",
   "execution_count": 52,
   "metadata": {
    "collapsed": false
   },
   "outputs": [
    {
     "name": "stdout",
     "output_type": "stream",
     "text": [
      "['Adam', 1.73, 'Brian', 1.98, 'Chris', 1.69, 'Eric', 1.65, 'Felix', 1.83, 'George', 1.76, 'Henry', 1.66]\n"
     ]
    }
   ],
   "source": [
    "# We can remove single or multiple items by specifying their current index locations in a list\n",
    "New_players = ['Adam', 1.73, 'Brian', 1.98, 'Chris', 1.69, 'Eric', 1.65, 'Felix', 1.83, 'George', 1.76, 'Henry', 1.66]\n",
    "print(New_players)"
   ]
  },
  {
   "cell_type": "code",
   "execution_count": 53,
   "metadata": {
    "collapsed": false
   },
   "outputs": [
    {
     "name": "stdout",
     "output_type": "stream",
     "text": [
      "['Adam', 1.73, 'Brian', 1.98, 'Chris', 1.69, 'Eric', 1.65, 'Felix', 1.83, 'George', 1.76]\n"
     ]
    }
   ],
   "source": [
    "# Repeating this fuction deletes the last item in the list twice, removing the last 2 items in the original list\n",
    "del(New_players[-1])\n",
    "del(New_players[-1])\n",
    "print(New_players)"
   ]
  },
  {
   "cell_type": "code",
   "execution_count": 54,
   "metadata": {
    "collapsed": false,
    "scrolled": true
   },
   "outputs": [
    {
     "name": "stdout",
     "output_type": "stream",
     "text": [
      "['Adam', 1.73, 'Chris', 1.69, 'Eric', 1.65, 'Felix', 1.83, 'George', 1.76]\n"
     ]
    }
   ],
   "source": [
    "# This deletes the 2nd and 3rd items from the list\n",
    "del(New_players[2:4])\n",
    "print(New_players)"
   ]
  },
  {
   "cell_type": "code",
   "execution_count": 55,
   "metadata": {
    "collapsed": false
   },
   "outputs": [
    {
     "name": "stdout",
     "output_type": "stream",
     "text": [
      "['Adam', 1.73, 'Chris', 1.69, 'Eric', 1.65, 'George', 1.76]\n"
     ]
    }
   ],
   "source": [
    "# We can also remove items from the end of the list\n",
    "del(New_players[-4:-2])\n",
    "print(New_players)"
   ]
  },
  {
   "cell_type": "markdown",
   "metadata": {},
   "source": [
    "## List Build Up\n",
    "One common pattern is to start a list a the empty list [], then use append() or extend() to add elements to it:"
   ]
  },
  {
   "cell_type": "code",
   "execution_count": 56,
   "metadata": {
    "collapsed": false,
    "scrolled": true
   },
   "outputs": [
    {
     "name": "stdout",
     "output_type": "stream",
     "text": [
      "['a', 'b']\n"
     ]
    }
   ],
   "source": [
    "newlist = []          # Start as the empty list\n",
    "newlist.append('a')   # Use append() to add elements\n",
    "newlist.append('b')\n",
    "print(newlist)"
   ]
  },
  {
   "cell_type": "markdown",
   "metadata": {},
   "source": [
    "## Important Note about Lists\n",
    "Lists simply store the reference to objects of the items within that list. If we use the equals function to make a new list,editing that new list will also edit the original list, since we are editing the objects at the locations referenced by both lists."
   ]
  },
  {
   "cell_type": "code",
   "execution_count": 57,
   "metadata": {
    "collapsed": false
   },
   "outputs": [
    {
     "name": "stdout",
     "output_type": "stream",
     "text": [
      "['a', 'b', 'c']\n"
     ]
    }
   ],
   "source": [
    "x = [\"a\", \"b\", \"c\"]\n",
    "print(x)"
   ]
  },
  {
   "cell_type": "code",
   "execution_count": 58,
   "metadata": {
    "collapsed": false
   },
   "outputs": [
    {
     "name": "stdout",
     "output_type": "stream",
     "text": [
      "y:\n",
      "['a', '2', 'c']\n",
      "x:\n",
      "['a', '2', 'c']\n"
     ]
    }
   ],
   "source": [
    "y = x       # Here we can see the effects as mentioned above\n",
    "y[1] = \"2\"\n",
    "print(\"y:\")\n",
    "print(y)\n",
    "\n",
    "print(\"x:\") # the original x list will also be modified even though we never specified so, this is because the\n",
    "print(x)    # items at the location that the list x was referencing had been modified when we edited the list y\n",
    "\n"
   ]
  },
  {
   "cell_type": "code",
   "execution_count": 59,
   "metadata": {
    "collapsed": false,
    "scrolled": true
   },
   "outputs": [
    {
     "name": "stdout",
     "output_type": "stream",
     "text": [
      "x:\n",
      "['a', 'b', 'c']\n",
      "y:\n",
      "['a', '2', 'c']\n",
      "z:\n",
      "['a', 'b', 'c']\n"
     ]
    }
   ],
   "source": [
    "# If we want to make a completely new list so as not to edit list x, we can use other methods of creating list y\n",
    "x = [\"a\", \"b\", \"c\"]\n",
    "print(\"x:\")\n",
    "print(x)\n",
    "\n",
    "# This ensures we are only copying the values of list x, and not list x itself\n",
    "\n",
    "y = list(x)\n",
    "y[1] = \"2\"\n",
    "z = x[:]\n",
    "print(\"y:\")\n",
    "print(y)\n",
    "print(\"z:\")\n",
    "print(z)\n",
    "\n",
    "# Watch out though! list() and [:] might not copy properly if you put complex things in your lists."
   ]
  },
  {
   "cell_type": "markdown",
   "metadata": {},
   "source": [
    "## List Comprehensions\n",
    "A list comprehension is a compact way to write an expression that expands to a whole list. Suppose we have a list nums [1, 2, 3], here is the list comprehension to compute a list of their squares [1, 4, 9]:"
   ]
  },
  {
   "cell_type": "code",
   "execution_count": 1,
   "metadata": {
    "collapsed": true
   },
   "outputs": [],
   "source": [
    "nums = [1, 2, 3, 4]\n",
    "\n",
    "squares = [ n * n for n in nums ]   ## [1, 4, 9, 16]"
   ]
  },
  {
   "cell_type": "markdown",
   "metadata": {},
   "source": [
    "The syntax is [ **expr** for **var** in **list** ] -- the for var in list looks like a regular for-loop, but without the colon (:). The expr to its left is evaluated once for each element to give the values for the new list. Here is an example with strings, where each string is changed to upper case with '!!!' appended:"
   ]
  },
  {
   "cell_type": "code",
   "execution_count": 7,
   "metadata": {
    "collapsed": false
   },
   "outputs": [
    {
     "name": "stdout",
     "output_type": "stream",
     "text": [
      "['HELLO!!!', 'AND!!!', 'GOODBYE!!!']\n"
     ]
    }
   ],
   "source": [
    "strs = ['hello', 'and', 'goodbye']\n",
    "\n",
    "shouting = [ s.upper() + '!!!' for s in strs ]\n",
    "print(shouting)"
   ]
  },
  {
   "cell_type": "markdown",
   "metadata": {},
   "source": [
    "You can add an if test to the right of the for-loop to narrow the result. The if test is evaluated for each element, including only the elements where the test is **True**."
   ]
  },
  {
   "cell_type": "code",
   "execution_count": 11,
   "metadata": {
    "collapsed": false
   },
   "outputs": [
    {
     "name": "stdout",
     "output_type": "stream",
     "text": [
      "['APPLE', 'BANNANA']\n"
     ]
    }
   ],
   "source": [
    "## Select values <= 2\n",
    "nums = [2, 8, 1, 6]\n",
    "small = [ n for n in nums if n <= 2 ]  ## [2, 1]\n",
    "\n",
    "## Select fruits containing 'a', change to upper case\n",
    "fruits = ['apple', 'cherry', 'bannana', 'lemon']\n",
    "afruits = [ s.upper() for s in fruits if 'a' in s ]\n",
    "print(afruits)"
   ]
  },
  {
   "cell_type": "markdown",
   "metadata": {},
   "source": [
    "# Methods for list objects"
   ]
  },
  {
   "cell_type": "markdown",
   "metadata": {},
   "source": [
    "## list.append()\n",
    "Append() adds an object at end of list"
   ]
  },
  {
   "cell_type": "code",
   "execution_count": 2,
   "metadata": {
    "collapsed": false
   },
   "outputs": [
    {
     "name": "stdout",
     "output_type": "stream",
     "text": [
      "[1, 2, 3, 4]\n"
     ]
    }
   ],
   "source": [
    "newlist = [1, 2, 3]\n",
    "newlist.append(4)\n",
    "print(newlist)"
   ]
  },
  {
   "cell_type": "markdown",
   "metadata": {},
   "source": [
    "## list.insert()\n",
    "insert() inserts an object at specified index of list"
   ]
  },
  {
   "cell_type": "code",
   "execution_count": 61,
   "metadata": {
    "collapsed": false
   },
   "outputs": [
    {
     "name": "stdout",
     "output_type": "stream",
     "text": [
      "['0', '1', '2', '3', '4', '5']\n"
     ]
    }
   ],
   "source": [
    "newlist = [\"0\", \"1\", \"2\", \"4\", \"5\"]\n",
    "newlist.insert(3, \"3\") #input1: desired input location. input2: desired input value\n",
    "print (newlist)"
   ]
  },
  {
   "cell_type": "markdown",
   "metadata": {},
   "source": [
    "## list.extend()\n",
    "extend() adds a list of objects at the end of a list"
   ]
  },
  {
   "cell_type": "code",
   "execution_count": 62,
   "metadata": {
    "collapsed": false
   },
   "outputs": [
    {
     "name": "stdout",
     "output_type": "stream",
     "text": [
      "[0, 1, 2, 3, 4, 5, 6, 7]\n"
     ]
    }
   ],
   "source": [
    "newlist = [0, 1, 2, 3]\n",
    "newlist.extend([4, 5, 6, 7])\n",
    "print(newlist)"
   ]
  },
  {
   "cell_type": "markdown",
   "metadata": {},
   "source": [
    "## list.index()\n",
    "Returns the index location of a specified object in the list"
   ]
  },
  {
   "cell_type": "code",
   "execution_count": 1,
   "metadata": {
    "collapsed": false
   },
   "outputs": [
    {
     "name": "stdout",
     "output_type": "stream",
     "text": [
      "0\n"
     ]
    }
   ],
   "source": [
    "newlist = ['a', 'b', 'c', 'd']\n",
    "print(newlist.index('a'))"
   ]
  },
  {
   "cell_type": "markdown",
   "metadata": {},
   "source": [
    "## list.reverse()\n",
    "reverses the list in place"
   ]
  },
  {
   "cell_type": "code",
   "execution_count": 64,
   "metadata": {
    "collapsed": false
   },
   "outputs": [
    {
     "name": "stdout",
     "output_type": "stream",
     "text": [
      "['d', 'c', 'b', 'a']\n"
     ]
    }
   ],
   "source": [
    "newlist = ['a', 'b', 'c', 'd']\n",
    "newlist.reverse() # note: does not return any result.\n",
    "print(newlist)"
   ]
  },
  {
   "cell_type": "markdown",
   "metadata": {},
   "source": [
    "## sorted(list)\n",
    "This returns a new list with the sorted **values only** of the input list"
   ]
  },
  {
   "cell_type": "code",
   "execution_count": 65,
   "metadata": {
    "collapsed": false
   },
   "outputs": [
    {
     "name": "stdout",
     "output_type": "stream",
     "text": [
      "[1, 2, 3, 3, 4, 4, 5, 5, 6, 7]\n",
      "[1, 2, 3, 3, 4, 4, 5, 5, 6, 7]\n"
     ]
    }
   ],
   "source": [
    "unsortedlist = [5, 2, 3, 6, 4, 7, 5, 4, 3, 1]\n",
    "sortedlist = sorted(unsortedlist)\n",
    "print(sortedlist)\n",
    "\n",
    "unsortedlist[2] = 5\n",
    "print(sortedlist)"
   ]
  },
  {
   "cell_type": "markdown",
   "metadata": {},
   "source": [
    "## list.pop(index)\n",
    "removes and returns the object at the given index. Returns the rightmost element if index is omitted (roughly the opposite of append())."
   ]
  },
  {
   "cell_type": "code",
   "execution_count": 66,
   "metadata": {
    "collapsed": false
   },
   "outputs": [
    {
     "name": "stdout",
     "output_type": "stream",
     "text": [
      "1\n",
      "[2, 3, 3, 4, 4, 5, 5, 6, 7]\n"
     ]
    }
   ],
   "source": [
    "sortedlist = [1, 2, 3, 3, 4, 4, 5, 5, 6, 7]\n",
    "print(sortedlist.pop(0))\n",
    "\n",
    "print(sortedlist)"
   ]
  }
 ],
 "metadata": {
  "anaconda-cloud": {},
  "kernelspec": {
   "display_name": "Python [conda root]",
   "language": "python",
   "name": "conda-root-py"
  },
  "language_info": {
   "codemirror_mode": {
    "name": "ipython",
    "version": 3
   },
   "file_extension": ".py",
   "mimetype": "text/x-python",
   "name": "python",
   "nbconvert_exporter": "python",
   "pygments_lexer": "ipython3",
   "version": "3.5.2"
  }
 },
 "nbformat": 4,
 "nbformat_minor": 1
}
