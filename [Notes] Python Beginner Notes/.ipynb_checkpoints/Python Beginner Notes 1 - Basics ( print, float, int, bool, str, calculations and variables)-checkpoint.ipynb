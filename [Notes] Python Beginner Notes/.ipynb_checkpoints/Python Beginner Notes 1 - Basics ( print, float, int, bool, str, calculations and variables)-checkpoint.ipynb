{
 "cells": [
  {
   "cell_type": "markdown",
   "metadata": {},
   "source": [
    "# Basic Python Terminologies Explained\n",
    "## The Command Line\n",
    "The ; sign is used to place commands on the same line. The following two code chunks are equivalent:"
   ]
  },
  {
   "cell_type": "code",
   "execution_count": null,
   "metadata": {
    "collapsed": true
   },
   "outputs": [],
   "source": [
    "# Same line\n",
    "command1; command2\n",
    "\n",
    "# Separate lines\n",
    "command1\n",
    "command2"
   ]
  },
  {
   "cell_type": "markdown",
   "metadata": {
    "collapsed": false
   },
   "source": [
    "## Comments\n",
    "Comments can be inserted to help others understand your code by inserting the # before a line, make sure to include a blank spacing after the hash"
   ]
  },
  {
   "cell_type": "code",
   "execution_count": 14,
   "metadata": {
    "collapsed": false,
    "scrolled": true
   },
   "outputs": [
    {
     "name": "stdout",
     "output_type": "stream",
     "text": [
      "world\n",
      "\n",
      "inputing print() with no content outputs a blank line\n"
     ]
    }
   ],
   "source": [
    "# PRINTING OUTPUT\n",
    "# print anything with the print() command\n",
    "print('world')\n",
    "print()\n",
    "print(\"inputing print() with no content outputs a blank line\")\n"
   ]
  },
  {
   "cell_type": "markdown",
   "metadata": {},
   "source": [
    "## Basic Calculate Functions"
   ]
  },
  {
   "cell_type": "code",
   "execution_count": 2,
   "metadata": {
    "collapsed": false
   },
   "outputs": [
    {
     "name": "stdout",
     "output_type": "stream",
     "text": [
      "10\n",
      "0\n",
      "15\n",
      "5.0\n",
      "16\n",
      "4\n"
     ]
    }
   ],
   "source": [
    "# Addition and subtraction\n",
    "print(5 + 5) # returns: 10\n",
    "print(5 - 5) # returns: 0\n",
    "\n",
    "# Multiplication and division\n",
    "print(3 * 5) # returns: 15\n",
    "print(10 / 2) # returns: 5.0\n",
    "\n",
    "# Exponentiation: **. This operator raises the number to its left to the power \n",
    "# of the number to its right: for example 4**2 will give 16.\n",
    "print(4 ** 2) # returns: 16\n",
    "\n",
    "# Modulo: %. It returns the remainder of the division of the number to the left\n",
    "# by the number on its right,for example 18 % 7 equals 4.\n",
    "print(18 % 7) # returns: 4"
   ]
  },
  {
   "cell_type": "markdown",
   "metadata": {},
   "source": [
    "# Variables\n",
    "Variable - Specific, case-sensitive box that holds a callable, modifiable value"
   ]
  },
  {
   "cell_type": "code",
   "execution_count": 1,
   "metadata": {
    "collapsed": false
   },
   "outputs": [
    {
     "name": "stdout",
     "output_type": "stream",
     "text": [
      "194.87171000000012\n"
     ]
    }
   ],
   "source": [
    "# Create a variable savings\n",
    "savings = 100\n",
    "\n",
    "# Create a variable factor\n",
    "factor = 1.10\n",
    "\n",
    "# Calculate result\n",
    "result = savings*factor**7\n",
    "\n",
    "# Print out result\n",
    "print(result)"
   ]
  },
  {
   "cell_type": "markdown",
   "metadata": {},
   "source": [
    "## Types\n",
    "In python all values have a type - different types behave differently!"
   ]
  },
  {
   "cell_type": "markdown",
   "metadata": {},
   "source": [
    "## Number Types\n",
    "Float: float, or floating point: a number that has both an integer and fractional part, separated by a point.  \n",
    "Int: Only have single (Used for solid integers)  \n",
    "Decimal: A type of float used for super precise decimal amounts  \n",
    "  \n",
    "Behaviour of number types with the + sign is simple addition, as we have seen above."
   ]
  },
  {
   "cell_type": "markdown",
   "metadata": {},
   "source": [
    "## Strings\n",
    "str, or string: a type to represent text. You can use single or double quotes to build a string."
   ]
  },
  {
   "cell_type": "code",
   "execution_count": 12,
   "metadata": {
    "collapsed": false
   },
   "outputs": [
    {
     "name": "stdout",
     "output_type": "stream",
     "text": [
      "<class 'str'>\n",
      "<class 'int'>\n",
      "\n",
      "My total income is:$5000/month\n"
     ]
    }
   ],
   "source": [
    "income = \"My total income is:\"\n",
    "print(type(income))\n",
    "\n",
    "income_amount = 5000\n",
    "print(type(income_amount))\n",
    "print()\n",
    "\n",
    "#we can use the str() function to convert something into a string type so that we can concatenate it with other string types\n",
    "print(income+\"$\"+str(income_amount)+\"/month\")"
   ]
  },
  {
   "cell_type": "markdown",
   "metadata": {},
   "source": [
    "## Booleans\n",
    "bool, or boolean: a type to represent logical values. Can only be **True** or **False**.\n",
    "\n",
    "Behaviour of booleans with mathematical operations give the result 1(True) or 0(False) and functions like integers."
   ]
  },
  {
   "cell_type": "code",
   "execution_count": 4,
   "metadata": {
    "collapsed": false
   },
   "outputs": [
    {
     "ename": "SyntaxError",
     "evalue": "invalid syntax (<ipython-input-4-a18c8aef67b6>, line 6)",
     "output_type": "error",
     "traceback": [
      "\u001b[0;36m  File \u001b[0;32m\"<ipython-input-4-a18c8aef67b6>\"\u001b[0;36m, line \u001b[0;32m6\u001b[0m\n\u001b[0;31m    print(z AND z)\u001b[0m\n\u001b[0m              ^\u001b[0m\n\u001b[0;31mSyntaxError\u001b[0m\u001b[0;31m:\u001b[0m invalid syntax\n"
     ]
    }
   ],
   "source": [
    "z = True\n",
    "y = False\n",
    "\n",
    "print(z)\n",
    "print(y)\n",
    "print(z+y) \n",
    "print(type(z))\n",
    "print(type(y))"
   ]
  },
  {
   "cell_type": "markdown",
   "metadata": {},
   "source": [
    "## Classes"
   ]
  },
  {
   "cell_type": "code",
   "execution_count": null,
   "metadata": {
    "collapsed": true
   },
   "outputs": [],
   "source": [
    "class Dog:\n",
    "    def __init__(self, legs, colour):\n",
    "        self.legs = legs\n",
    "        self.colour = colour\n",
    "\n",
    "fido = Dog(4, \"brown\")\n",
    "spot = Dog(3, \"mostly yellow\")"
   ]
  }
 ],
 "metadata": {
  "anaconda-cloud": {},
  "kernelspec": {
   "display_name": "Python [conda root]",
   "language": "python",
   "name": "conda-root-py"
  },
  "language_info": {
   "codemirror_mode": {
    "name": "ipython",
    "version": 3
   },
   "file_extension": ".py",
   "mimetype": "text/x-python",
   "name": "python",
   "nbconvert_exporter": "python",
   "pygments_lexer": "ipython3",
   "version": "3.5.2"
  }
 },
 "nbformat": 4,
 "nbformat_minor": 1
}
