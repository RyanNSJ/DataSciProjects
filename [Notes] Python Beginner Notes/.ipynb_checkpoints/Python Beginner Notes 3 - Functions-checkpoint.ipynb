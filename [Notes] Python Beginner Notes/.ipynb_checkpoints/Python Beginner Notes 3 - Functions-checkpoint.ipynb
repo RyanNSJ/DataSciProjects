{
 "cells": [
  {
   "cell_type": "markdown",
   "metadata": {},
   "source": [
    "# Functions\n",
    "A **function** is a defined sequence of actions performed on INPUTS to return OUTPUTS. Python has some default functions such as **type()**, **min()**, **max()**, **str()**, **int()** and plenty of others.   \n",
    "\n",
    "You can even define your own functions! Remember, functions already exist for most standard tasks, and a quick internet search for a funtion that you need can save you some time than if you would define that function yourself.\n",
    "  \n",
    "Functions come in the form:"
   ]
  },
  {
   "cell_type": "code",
   "execution_count": null,
   "metadata": {
    "collapsed": true
   },
   "outputs": [],
   "source": [
    " output = function_name(input1,input2,input3...)"
   ]
  },
  {
   "cell_type": "markdown",
   "metadata": {},
   "source": [
    "An important aspect is that fuctions can have multiple types of inputs, mainly **arguments** and **parameters**. A parameter is like the settings of the function you choose to use, whilst the arguments are the what go through. A parameter is the receiving variable used w/in the function/block whilst an argument is the value/variable/reference being passed in. In other words, a function *has* parameters and *takes* arguments. While this *can* be a bit confusing you can think of the parameter as a parking space and the argument as an automobile.  \n",
    "\n",
    "In addition, if no parameters are specified, default parameters for the function is used instead.  \n",
    "\n",
    "There are also things called **methods**, and generally method refers to a function which is part of a **class**, whereas function refers to a function on its own.\n",
    "  \n",
    "Let's look at some basic functions:"
   ]
  },
  {
   "cell_type": "markdown",
   "metadata": {},
   "source": [
    "## max()  \n",
    "max()  outputs the largest value of its inputs"
   ]
  },
  {
   "cell_type": "code",
   "execution_count": 4,
   "metadata": {
    "collapsed": false
   },
   "outputs": [
    {
     "name": "stdout",
     "output_type": "stream",
     "text": [
      "314655\n"
     ]
    }
   ],
   "source": [
    "numbers = [1,3,513,314655,73534,234]\n",
    "print(max(numbers))"
   ]
  },
  {
   "cell_type": "code",
   "execution_count": 5,
   "metadata": {
    "collapsed": false
   },
   "outputs": [
    {
     "name": "stdout",
     "output_type": "stream",
     "text": [
      "314655\n"
     ]
    }
   ],
   "source": [
    "#We can even use function calls to define new variables\n",
    "highest = max(numbers)\n",
    "print(highest)"
   ]
  },
  {
   "cell_type": "markdown",
   "metadata": {},
   "source": [
    "## round()\n",
    "round() takes in two inputs:  \n",
    "input1: some float with decimal (This is an **argument**)  \n",
    "input2: rounding precision ie. how many decimal points do you want to round to (This is a **parameter**)"
   ]
  },
  {
   "cell_type": "code",
   "execution_count": 10,
   "metadata": {
    "collapsed": false
   },
   "outputs": [
    {
     "name": "stdout",
     "output_type": "stream",
     "text": [
      "1.7\n",
      "<class 'float'>\n"
     ]
    }
   ],
   "source": [
    "#Here we round the decimal 1.68 to 1 decimal place\n",
    "value = round(1.68,1)\n",
    "print(value)\n",
    "print(type(value))"
   ]
  },
  {
   "cell_type": "code",
   "execution_count": 9,
   "metadata": {
    "collapsed": false
   },
   "outputs": [
    {
     "name": "stdout",
     "output_type": "stream",
     "text": [
      "2\n",
      "<class 'int'>\n"
     ]
    }
   ],
   "source": [
    "#The default parameter for precision is 0, hence we round it up to the nearest integer.\n",
    "#We also see that it converts our float into an int automatically\n",
    "value = round(1.68)\n",
    "print(value)\n",
    "print(type(value))"
   ]
  },
  {
   "cell_type": "code",
   "execution_count": 14,
   "metadata": {
    "collapsed": false
   },
   "outputs": [
    {
     "name": "stdout",
     "output_type": "stream",
     "text": [
      "8976950000\n",
      "<class 'float'>\n"
     ]
    }
   ],
   "source": [
    "#Our precision value can even be negative\n",
    "value2 = round(8976948375,-4)\n",
    "print(value2)\n",
    "print(type(value))"
   ]
  },
  {
   "cell_type": "markdown",
   "metadata": {},
   "source": [
    "## help()\n",
    "help() gives us the instruction manual for specified functions, alternatively we can simply use a ? before the function name"
   ]
  },
  {
   "cell_type": "code",
   "execution_count": 12,
   "metadata": {
    "collapsed": false,
    "scrolled": true
   },
   "outputs": [
    {
     "name": "stdout",
     "output_type": "stream",
     "text": [
      "Help on built-in function max in module builtins:\n",
      "\n",
      "max(...)\n",
      "    max(iterable, *[, default=obj, key=func]) -> value\n",
      "    max(arg1, arg2, *args, *[, key=func]) -> value\n",
      "    \n",
      "    With a single iterable argument, return its biggest item. The\n",
      "    default keyword-only argument specifies an object to return if\n",
      "    the provided iterable is empty.\n",
      "    With two or more arguments, return the largest argument.\n",
      "\n"
     ]
    }
   ],
   "source": [
    "help(max)"
   ]
  },
  {
   "cell_type": "code",
   "execution_count": 13,
   "metadata": {
    "collapsed": false,
    "scrolled": true
   },
   "outputs": [
    {
     "name": "stdout",
     "output_type": "stream",
     "text": [
      "Help on built-in function round in module builtins:\n",
      "\n",
      "round(...)\n",
      "    round(number[, ndigits]) -> number\n",
      "    \n",
      "    Round a number to a given precision in decimal digits (default 0 digits).\n",
      "    This returns an int when called with one argument, otherwise the\n",
      "    same type as the number. ndigits may be negative.\n",
      "\n"
     ]
    }
   ],
   "source": [
    "help(round)"
   ]
  },
  {
   "cell_type": "markdown",
   "metadata": {},
   "source": [
    " Here, square brackets indicate an optional input, hence we know out precision parameter is optional"
   ]
  },
  {
   "cell_type": "code",
   "execution_count": 3,
   "metadata": {
    "collapsed": false,
    "scrolled": true
   },
   "outputs": [],
   "source": [
    "?round"
   ]
  }
 ],
 "metadata": {
  "anaconda-cloud": {},
  "kernelspec": {
   "display_name": "Python [conda root]",
   "language": "python",
   "name": "conda-root-py"
  },
  "language_info": {
   "codemirror_mode": {
    "name": "ipython",
    "version": 3
   },
   "file_extension": ".py",
   "mimetype": "text/x-python",
   "name": "python",
   "nbconvert_exporter": "python",
   "pygments_lexer": "ipython3",
   "version": "3.5.2"
  }
 },
 "nbformat": 4,
 "nbformat_minor": 1
}
