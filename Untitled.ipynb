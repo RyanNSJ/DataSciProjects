{
 "cells": [
  {
   "cell_type": "markdown",
   "metadata": {},
   "source": [
    "## Sample"
   ]
  },
  {
   "cell_type": "code",
   "execution_count": null,
   "metadata": {
    "collapsed": true
   },
   "outputs": [],
   "source": [
    "#!/bin/python3\n",
    "\n",
    "import math\n",
    "import os\n",
    "import random\n",
    "import re\n",
    "import sys\n",
    "\n",
    "\n",
    "\n",
    "# Complete the findNumber function below.\n",
    "def findNumber(arr, k):\n",
    "    print(\"arr:\",arr)\n",
    "    print(\"k:\",k)\n",
    "    if k in arr:\n",
    "        return \"YES\"\n",
    "    return \"NO\"\n",
    "\n",
    "if __name__ == '__main__':"
   ]
  },
  {
   "cell_type": "code",
   "execution_count": null,
   "metadata": {
    "collapsed": true
   },
   "outputs": [],
   "source": [
    "from collections import Counter\n",
    "import math"
   ]
  },
  {
   "cell_type": "code",
   "execution_count": null,
   "metadata": {
    "collapsed": true
   },
   "outputs": [],
   "source": []
  },
  {
   "cell_type": "code",
   "execution_count": 36,
   "metadata": {},
   "outputs": [
    {
     "name": "stdout",
     "output_type": "stream",
     "text": [
      "23-9+2*-1\n",
      "12/32.7-*10.4\n"
     ]
    }
   ],
   "source": [
    "#!/bin/python3\n",
    "\n",
    "import math\n",
    "import os\n",
    "import random\n",
    "import re\n",
    "import sys\n",
    "\n",
    "\n",
    "\n",
    "# Complete the reverse function below.\n",
    "def reverse(expression):\n",
    "    \n",
    "    if expression[0] == \"-\":\n",
    "        new_expression = expression[1:]\n",
    "    else:\n",
    "        new_expression = expression\n",
    "    \n",
    "    nums = re.split(\"\\+|\\-|\\*|\\/\",new_expression)\n",
    "    rev_nums = nums[::-1]\n",
    "    \n",
    "    \n",
    "    \n",
    "    operators = re.findall(\"\\+|\\-|\\*|\\/\",new_expression)\n",
    "    rev_operators = operators[::-1]\n",
    "    \n",
    "    outp_str = \"\"\n",
    "    \n",
    "    for i in range(len(nums)-1):\n",
    "        outp_str = outp_str+rev_nums[i]\n",
    "        outp_str = outp_str+rev_operators[i]\n",
    "    \n",
    "    \n",
    "    \n",
    "    if expression[0] == \"-\":\n",
    "        outp_str = outp_str+\"-\"+rev_nums[-1]\n",
    "        \n",
    "    else:\n",
    "        outp_str = outp_str+rev_nums[-1]\n",
    "    \n",
    "    outp = outp_str\n",
    "    return outp\n",
    "\n",
    "test1 = \"-1*2+9-23\"\n",
    "test2 = \"10.4*-32.7/12\"\n",
    "\n",
    "print(reverse(test1))\n",
    "print(reverse(test2))\n"
   ]
  },
  {
   "cell_type": "code",
   "execution_count": 9,
   "metadata": {},
   "outputs": [
    {
     "data": {
      "text/plain": [
       "['Beautiful', 'is', 'better', 'than', 'ugly']"
      ]
     },
     "execution_count": 9,
     "metadata": {},
     "output_type": "execute_result"
    }
   ],
   "source": [
    "a='Beautiful, is; better*than\\nugly'\n",
    "import re\n",
    "re.split('; |, |\\*|\\n',a)"
   ]
  },
  {
   "cell_type": "code",
   "execution_count": null,
   "metadata": {
    "collapsed": true
   },
   "outputs": [],
   "source": [
    "re.split('; |, |\\*|\\n',a)"
   ]
  },
  {
   "cell_type": "code",
   "execution_count": 20,
   "metadata": {},
   "outputs": [],
   "source": [
    "b = re.findall(\"\\+|\\-|\\*|\\/\",test1)"
   ]
  },
  {
   "cell_type": "code",
   "execution_count": 21,
   "metadata": {},
   "outputs": [
    {
     "data": {
      "text/plain": [
       "['*', '+', '-']"
      ]
     },
     "execution_count": 21,
     "metadata": {},
     "output_type": "execute_result"
    }
   ],
   "source": [
    "b"
   ]
  },
  {
   "cell_type": "code",
   "execution_count": 51,
   "metadata": {
    "collapsed": true
   },
   "outputs": [],
   "source": [
    "a = [\n",
    "        [\"06-22\",\"Chuck\",\"540\",\"540\"],\n",
    "        [\"06-23\",\"Debby\",\"540\",\"555\"],\n",
    "        [\"06-23\",\"Chuck\",\"540\",\"540\"],\n",
    "        [\"06-23\",\"Doug\",\"600\",\"630\"],\n",
    "        [\"06-24\",\"Chuck\",\"600\",\"600\"],\n",
    "        [\"06-24\",\"Doug\",\"600\",\"600\"],\n",
    "\n",
    "    ]"
   ]
  },
  {
   "cell_type": "code",
   "execution_count": 52,
   "metadata": {},
   "outputs": [
    {
     "data": {
      "text/plain": [
       "[['06-22', 'Chuck', '540', '540'],\n",
       " ['06-23', 'Debby', '540', '555'],\n",
       " ['06-23', 'Chuck', '540', '540'],\n",
       " ['06-23', 'Doug', '600', '630'],\n",
       " ['06-24', 'Chuck', '600', '600'],\n",
       " ['06-24', 'Doug', '600', '600']]"
      ]
     },
     "execution_count": 52,
     "metadata": {},
     "output_type": "execute_result"
    }
   ],
   "source": [
    "a"
   ]
  },
  {
   "cell_type": "code",
   "execution_count": 60,
   "metadata": {
    "collapsed": true
   },
   "outputs": [],
   "source": [
    "def latestStudent(attendanceData):\n",
    "    \n",
    "    date_avg_late_dict = {}\n",
    "    \n",
    "    for line in attendanceData:\n",
    "        if line[0] not in date_avg_late_dict.keys():\n",
    "            date_avg_late_dict[line[0]] = (max(0,int(line[3])-int(line[2])),1)\n",
    "        else:\n",
    "            num_records = date_avg_late_dict[line[0]][1]\n",
    "            current_avg = date_avg_late_dict[line[0]][0]\n",
    "            \n",
    "            # update\n",
    "            lateness = max(0,int(line[3])-int(line[2]))\n",
    "            new_avg_lateness = (lateness+(num_records*current_avg))/(num_records+1)\n",
    "            date_avg_late_dict[line[0]] = (new_avg_lateness,num_records+1)\n",
    "    \n",
    "    print (date_avg_late_dict)\n",
    "    \n",
    "    student_lateness = {}\n",
    "    \n",
    "    for line in attendanceData:\n",
    "        if line[1] not in student_lateness.keys():\n",
    "            lateness_in_line = max(0,int(line[3])-int(line[2]))\n",
    "            avg_lateness_for_day = date_avg_late_dict[line[0]][0]\n",
    "            \n",
    "            relative_lateness = max(0,lateness_in_line-avg_lateness_for_day)\n",
    "            student_lateness[line[1]] = [relative_lateness]\n",
    "        else:\n",
    "            lateness_in_line = max(0,int(line[3])-int(line[2]))\n",
    "            avg_lateness_for_day = date_avg_late_dict[line[0]][0]\n",
    "            \n",
    "            relative_lateness = max(0,lateness_in_line-avg_lateness_for_day)\n",
    "            student_lateness[line[1]].append(relative_lateness)\n",
    "    \n",
    "    print(student_lateness)\n",
    "    \n",
    "    total_student_lateness = {}\n",
    "    \n",
    "    for student in student_lateness.keys():\n",
    "        total_student_lateness[student] = sum(student_lateness[student])\n",
    "        \n",
    "    print(total_student_lateness)\n",
    "    \n",
    "    print(max(total_student_lateness))\n",
    "    \n",
    "    most_lateness = max(total_student_lateness, key=total_student_lateness.get)\n",
    "    \n",
    "    \n",
    "    return most_lateness"
   ]
  },
  {
   "cell_type": "code",
   "execution_count": 61,
   "metadata": {},
   "outputs": [
    {
     "name": "stdout",
     "output_type": "stream",
     "text": [
      "{'06-22': (0, 1), '06-23': (15.0, 3), '06-24': (0.0, 2)}\n",
      "{'Chuck': [0, 0, 0], 'Debby': [0], 'Doug': [15.0, 0]}\n",
      "{'Chuck': 0, 'Debby': 0, 'Doug': 15.0}\n",
      "Doug\n"
     ]
    },
    {
     "data": {
      "text/plain": [
       "'Doug'"
      ]
     },
     "execution_count": 61,
     "metadata": {},
     "output_type": "execute_result"
    }
   ],
   "source": [
    "latestStudent(a)"
   ]
  },
  {
   "cell_type": "code",
   "execution_count": null,
   "metadata": {
    "collapsed": true
   },
   "outputs": [],
   "source": []
  }
 ],
 "metadata": {
  "kernelspec": {
   "display_name": "Python [conda env:py34]",
   "language": "python",
   "name": "conda-env-py34-py"
  },
  "language_info": {
   "codemirror_mode": {
    "name": "ipython",
    "version": 3
   },
   "file_extension": ".py",
   "mimetype": "text/x-python",
   "name": "python",
   "nbconvert_exporter": "python",
   "pygments_lexer": "ipython3",
   "version": "3.4.5"
  }
 },
 "nbformat": 4,
 "nbformat_minor": 2
}
