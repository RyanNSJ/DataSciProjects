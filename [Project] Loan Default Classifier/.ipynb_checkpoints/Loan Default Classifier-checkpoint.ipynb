{
 "cells": [
  {
   "cell_type": "markdown",
   "metadata": {},
   "source": [
    "# Data Cleaning Loan Data"
   ]
  },
  {
   "cell_type": "code",
   "execution_count": 1,
   "metadata": {},
   "outputs": [
    {
     "name": "stderr",
     "output_type": "stream",
     "text": [
      "C:\\Program Files\\Anaconda3\\lib\\site-packages\\IPython\\core\\interactiveshell.py:2717: DtypeWarning: Columns (0,47) have mixed types. Specify dtype option on import or set low_memory=False.\n",
      "  interactivity=interactivity, compiler=compiler, result=result)\n"
     ]
    }
   ],
   "source": [
    "import pandas as pd\n",
    "\n",
    "loans_2007 = pd.read_csv('LoanStats3a.csv', skiprows=1) # First row contains notes to the data\n",
    "\n",
    "# Removing columns with more than half the rows having NA\n",
    "half_count = len(loans_2007) / 2\n",
    "loans_2007 = loans_2007.dropna(thresh=half_count, axis=1)\n",
    "\n",
    "# Removing Length `desc` column\n",
    "loans_2007 = loans_2007.drop(['desc'],axis=1)\n",
    "\n",
    "# Save and output to new CSV file for future use\n",
    "loans_2007.to_csv('loans_2007.csv', index=False)"
   ]
  },
  {
   "cell_type": "code",
   "execution_count": 2,
   "metadata": {},
   "outputs": [
    {
     "data": {
      "text/plain": [
       "(42538, 53)"
      ]
     },
     "execution_count": 2,
     "metadata": {},
     "output_type": "execute_result"
    }
   ],
   "source": [
    "loans_2007.shape"
   ]
  },
  {
   "cell_type": "code",
   "execution_count": 3,
   "metadata": {},
   "outputs": [
    {
     "data": {
      "text/plain": [
       "53"
      ]
     },
     "execution_count": 3,
     "metadata": {},
     "output_type": "execute_result"
    }
   ],
   "source": [
    "pd.set_option(\"display.max_columns\", 53)\n",
    "pd.get_option(\"display.max_columns\")"
   ]
  },
  {
   "cell_type": "code",
   "execution_count": 4,
   "metadata": {},
   "outputs": [
    {
     "data": {
      "text/html": [
       "<div>\n",
       "<style>\n",
       "    .dataframe thead tr:only-child th {\n",
       "        text-align: right;\n",
       "    }\n",
       "\n",
       "    .dataframe thead th {\n",
       "        text-align: left;\n",
       "    }\n",
       "\n",
       "    .dataframe tbody tr th {\n",
       "        vertical-align: top;\n",
       "    }\n",
       "</style>\n",
       "<table border=\"1\" class=\"dataframe\">\n",
       "  <thead>\n",
       "    <tr style=\"text-align: right;\">\n",
       "      <th></th>\n",
       "      <th>loan_amnt</th>\n",
       "      <th>funded_amnt</th>\n",
       "      <th>funded_amnt_inv</th>\n",
       "      <th>term</th>\n",
       "      <th>int_rate</th>\n",
       "      <th>installment</th>\n",
       "      <th>grade</th>\n",
       "      <th>sub_grade</th>\n",
       "      <th>emp_title</th>\n",
       "      <th>emp_length</th>\n",
       "      <th>home_ownership</th>\n",
       "      <th>annual_inc</th>\n",
       "      <th>verification_status</th>\n",
       "      <th>issue_d</th>\n",
       "      <th>loan_status</th>\n",
       "      <th>pymnt_plan</th>\n",
       "      <th>purpose</th>\n",
       "      <th>title</th>\n",
       "      <th>zip_code</th>\n",
       "      <th>addr_state</th>\n",
       "      <th>dti</th>\n",
       "      <th>delinq_2yrs</th>\n",
       "      <th>earliest_cr_line</th>\n",
       "      <th>inq_last_6mths</th>\n",
       "      <th>open_acc</th>\n",
       "      <th>pub_rec</th>\n",
       "      <th>revol_bal</th>\n",
       "      <th>revol_util</th>\n",
       "      <th>total_acc</th>\n",
       "      <th>initial_list_status</th>\n",
       "      <th>out_prncp</th>\n",
       "      <th>out_prncp_inv</th>\n",
       "      <th>total_pymnt</th>\n",
       "      <th>total_pymnt_inv</th>\n",
       "      <th>total_rec_prncp</th>\n",
       "      <th>total_rec_int</th>\n",
       "      <th>total_rec_late_fee</th>\n",
       "      <th>recoveries</th>\n",
       "      <th>collection_recovery_fee</th>\n",
       "      <th>last_pymnt_d</th>\n",
       "      <th>last_pymnt_amnt</th>\n",
       "      <th>last_credit_pull_d</th>\n",
       "      <th>collections_12_mths_ex_med</th>\n",
       "      <th>policy_code</th>\n",
       "      <th>application_type</th>\n",
       "      <th>acc_now_delinq</th>\n",
       "      <th>chargeoff_within_12_mths</th>\n",
       "      <th>delinq_amnt</th>\n",
       "      <th>pub_rec_bankruptcies</th>\n",
       "      <th>tax_liens</th>\n",
       "      <th>hardship_flag</th>\n",
       "      <th>disbursement_method</th>\n",
       "      <th>debt_settlement_flag</th>\n",
       "    </tr>\n",
       "  </thead>\n",
       "  <tbody>\n",
       "    <tr>\n",
       "      <th>0</th>\n",
       "      <td>5000.0</td>\n",
       "      <td>5000.0</td>\n",
       "      <td>4975.0</td>\n",
       "      <td>36 months</td>\n",
       "      <td>10.65%</td>\n",
       "      <td>162.87</td>\n",
       "      <td>B</td>\n",
       "      <td>B2</td>\n",
       "      <td>NaN</td>\n",
       "      <td>10+ years</td>\n",
       "      <td>RENT</td>\n",
       "      <td>24000.0</td>\n",
       "      <td>Verified</td>\n",
       "      <td>Dec-2011</td>\n",
       "      <td>Fully Paid</td>\n",
       "      <td>n</td>\n",
       "      <td>credit_card</td>\n",
       "      <td>Computer</td>\n",
       "      <td>860xx</td>\n",
       "      <td>AZ</td>\n",
       "      <td>27.65</td>\n",
       "      <td>0.0</td>\n",
       "      <td>Jan-1985</td>\n",
       "      <td>1.0</td>\n",
       "      <td>3.0</td>\n",
       "      <td>0.0</td>\n",
       "      <td>13648.0</td>\n",
       "      <td>83.7%</td>\n",
       "      <td>9.0</td>\n",
       "      <td>f</td>\n",
       "      <td>0.0</td>\n",
       "      <td>0.0</td>\n",
       "      <td>5863.155187</td>\n",
       "      <td>5833.84</td>\n",
       "      <td>5000.00</td>\n",
       "      <td>863.16</td>\n",
       "      <td>0.00</td>\n",
       "      <td>0.0</td>\n",
       "      <td>0.00</td>\n",
       "      <td>Jan-2015</td>\n",
       "      <td>171.62</td>\n",
       "      <td>Dec-2018</td>\n",
       "      <td>0.0</td>\n",
       "      <td>1.0</td>\n",
       "      <td>Individual</td>\n",
       "      <td>0.0</td>\n",
       "      <td>0.0</td>\n",
       "      <td>0.0</td>\n",
       "      <td>0.0</td>\n",
       "      <td>0.0</td>\n",
       "      <td>N</td>\n",
       "      <td>Cash</td>\n",
       "      <td>N</td>\n",
       "    </tr>\n",
       "    <tr>\n",
       "      <th>1</th>\n",
       "      <td>2500.0</td>\n",
       "      <td>2500.0</td>\n",
       "      <td>2500.0</td>\n",
       "      <td>60 months</td>\n",
       "      <td>15.27%</td>\n",
       "      <td>59.83</td>\n",
       "      <td>C</td>\n",
       "      <td>C4</td>\n",
       "      <td>Ryder</td>\n",
       "      <td>&lt; 1 year</td>\n",
       "      <td>RENT</td>\n",
       "      <td>30000.0</td>\n",
       "      <td>Source Verified</td>\n",
       "      <td>Dec-2011</td>\n",
       "      <td>Charged Off</td>\n",
       "      <td>n</td>\n",
       "      <td>car</td>\n",
       "      <td>bike</td>\n",
       "      <td>309xx</td>\n",
       "      <td>GA</td>\n",
       "      <td>1.00</td>\n",
       "      <td>0.0</td>\n",
       "      <td>Apr-1999</td>\n",
       "      <td>5.0</td>\n",
       "      <td>3.0</td>\n",
       "      <td>0.0</td>\n",
       "      <td>1687.0</td>\n",
       "      <td>9.4%</td>\n",
       "      <td>4.0</td>\n",
       "      <td>f</td>\n",
       "      <td>0.0</td>\n",
       "      <td>0.0</td>\n",
       "      <td>1014.530000</td>\n",
       "      <td>1014.53</td>\n",
       "      <td>456.46</td>\n",
       "      <td>435.17</td>\n",
       "      <td>0.00</td>\n",
       "      <td>122.9</td>\n",
       "      <td>1.11</td>\n",
       "      <td>Apr-2013</td>\n",
       "      <td>119.66</td>\n",
       "      <td>Oct-2016</td>\n",
       "      <td>0.0</td>\n",
       "      <td>1.0</td>\n",
       "      <td>Individual</td>\n",
       "      <td>0.0</td>\n",
       "      <td>0.0</td>\n",
       "      <td>0.0</td>\n",
       "      <td>0.0</td>\n",
       "      <td>0.0</td>\n",
       "      <td>N</td>\n",
       "      <td>Cash</td>\n",
       "      <td>N</td>\n",
       "    </tr>\n",
       "    <tr>\n",
       "      <th>2</th>\n",
       "      <td>2400.0</td>\n",
       "      <td>2400.0</td>\n",
       "      <td>2400.0</td>\n",
       "      <td>36 months</td>\n",
       "      <td>15.96%</td>\n",
       "      <td>84.33</td>\n",
       "      <td>C</td>\n",
       "      <td>C5</td>\n",
       "      <td>NaN</td>\n",
       "      <td>10+ years</td>\n",
       "      <td>RENT</td>\n",
       "      <td>12252.0</td>\n",
       "      <td>Not Verified</td>\n",
       "      <td>Dec-2011</td>\n",
       "      <td>Fully Paid</td>\n",
       "      <td>n</td>\n",
       "      <td>small_business</td>\n",
       "      <td>real estate business</td>\n",
       "      <td>606xx</td>\n",
       "      <td>IL</td>\n",
       "      <td>8.72</td>\n",
       "      <td>0.0</td>\n",
       "      <td>Nov-2001</td>\n",
       "      <td>2.0</td>\n",
       "      <td>2.0</td>\n",
       "      <td>0.0</td>\n",
       "      <td>2956.0</td>\n",
       "      <td>98.5%</td>\n",
       "      <td>10.0</td>\n",
       "      <td>f</td>\n",
       "      <td>0.0</td>\n",
       "      <td>0.0</td>\n",
       "      <td>3005.666844</td>\n",
       "      <td>3005.67</td>\n",
       "      <td>2400.00</td>\n",
       "      <td>605.67</td>\n",
       "      <td>0.00</td>\n",
       "      <td>0.0</td>\n",
       "      <td>0.00</td>\n",
       "      <td>Jun-2014</td>\n",
       "      <td>649.91</td>\n",
       "      <td>Jun-2017</td>\n",
       "      <td>0.0</td>\n",
       "      <td>1.0</td>\n",
       "      <td>Individual</td>\n",
       "      <td>0.0</td>\n",
       "      <td>0.0</td>\n",
       "      <td>0.0</td>\n",
       "      <td>0.0</td>\n",
       "      <td>0.0</td>\n",
       "      <td>N</td>\n",
       "      <td>Cash</td>\n",
       "      <td>N</td>\n",
       "    </tr>\n",
       "    <tr>\n",
       "      <th>3</th>\n",
       "      <td>10000.0</td>\n",
       "      <td>10000.0</td>\n",
       "      <td>10000.0</td>\n",
       "      <td>36 months</td>\n",
       "      <td>13.49%</td>\n",
       "      <td>339.31</td>\n",
       "      <td>C</td>\n",
       "      <td>C1</td>\n",
       "      <td>AIR RESOURCES BOARD</td>\n",
       "      <td>10+ years</td>\n",
       "      <td>RENT</td>\n",
       "      <td>49200.0</td>\n",
       "      <td>Source Verified</td>\n",
       "      <td>Dec-2011</td>\n",
       "      <td>Fully Paid</td>\n",
       "      <td>n</td>\n",
       "      <td>other</td>\n",
       "      <td>personel</td>\n",
       "      <td>917xx</td>\n",
       "      <td>CA</td>\n",
       "      <td>20.00</td>\n",
       "      <td>0.0</td>\n",
       "      <td>Feb-1996</td>\n",
       "      <td>1.0</td>\n",
       "      <td>10.0</td>\n",
       "      <td>0.0</td>\n",
       "      <td>5598.0</td>\n",
       "      <td>21%</td>\n",
       "      <td>37.0</td>\n",
       "      <td>f</td>\n",
       "      <td>0.0</td>\n",
       "      <td>0.0</td>\n",
       "      <td>12231.890000</td>\n",
       "      <td>12231.89</td>\n",
       "      <td>10000.00</td>\n",
       "      <td>2214.92</td>\n",
       "      <td>16.97</td>\n",
       "      <td>0.0</td>\n",
       "      <td>0.00</td>\n",
       "      <td>Jan-2015</td>\n",
       "      <td>357.48</td>\n",
       "      <td>Apr-2016</td>\n",
       "      <td>0.0</td>\n",
       "      <td>1.0</td>\n",
       "      <td>Individual</td>\n",
       "      <td>0.0</td>\n",
       "      <td>0.0</td>\n",
       "      <td>0.0</td>\n",
       "      <td>0.0</td>\n",
       "      <td>0.0</td>\n",
       "      <td>N</td>\n",
       "      <td>Cash</td>\n",
       "      <td>N</td>\n",
       "    </tr>\n",
       "    <tr>\n",
       "      <th>4</th>\n",
       "      <td>3000.0</td>\n",
       "      <td>3000.0</td>\n",
       "      <td>3000.0</td>\n",
       "      <td>60 months</td>\n",
       "      <td>12.69%</td>\n",
       "      <td>67.79</td>\n",
       "      <td>B</td>\n",
       "      <td>B5</td>\n",
       "      <td>University Medical Group</td>\n",
       "      <td>1 year</td>\n",
       "      <td>RENT</td>\n",
       "      <td>80000.0</td>\n",
       "      <td>Source Verified</td>\n",
       "      <td>Dec-2011</td>\n",
       "      <td>Fully Paid</td>\n",
       "      <td>n</td>\n",
       "      <td>other</td>\n",
       "      <td>Personal</td>\n",
       "      <td>972xx</td>\n",
       "      <td>OR</td>\n",
       "      <td>17.94</td>\n",
       "      <td>0.0</td>\n",
       "      <td>Jan-1996</td>\n",
       "      <td>0.0</td>\n",
       "      <td>15.0</td>\n",
       "      <td>0.0</td>\n",
       "      <td>27783.0</td>\n",
       "      <td>53.9%</td>\n",
       "      <td>38.0</td>\n",
       "      <td>f</td>\n",
       "      <td>0.0</td>\n",
       "      <td>0.0</td>\n",
       "      <td>4066.908161</td>\n",
       "      <td>4066.91</td>\n",
       "      <td>3000.00</td>\n",
       "      <td>1066.91</td>\n",
       "      <td>0.00</td>\n",
       "      <td>0.0</td>\n",
       "      <td>0.00</td>\n",
       "      <td>Jan-2017</td>\n",
       "      <td>67.30</td>\n",
       "      <td>Apr-2018</td>\n",
       "      <td>0.0</td>\n",
       "      <td>1.0</td>\n",
       "      <td>Individual</td>\n",
       "      <td>0.0</td>\n",
       "      <td>0.0</td>\n",
       "      <td>0.0</td>\n",
       "      <td>0.0</td>\n",
       "      <td>0.0</td>\n",
       "      <td>N</td>\n",
       "      <td>Cash</td>\n",
       "      <td>N</td>\n",
       "    </tr>\n",
       "  </tbody>\n",
       "</table>\n",
       "</div>"
      ],
      "text/plain": [
       "   loan_amnt  funded_amnt  funded_amnt_inv        term int_rate  installment  \\\n",
       "0     5000.0       5000.0           4975.0   36 months   10.65%       162.87   \n",
       "1     2500.0       2500.0           2500.0   60 months   15.27%        59.83   \n",
       "2     2400.0       2400.0           2400.0   36 months   15.96%        84.33   \n",
       "3    10000.0      10000.0          10000.0   36 months   13.49%       339.31   \n",
       "4     3000.0       3000.0           3000.0   60 months   12.69%        67.79   \n",
       "\n",
       "  grade sub_grade                 emp_title emp_length home_ownership  \\\n",
       "0     B        B2                       NaN  10+ years           RENT   \n",
       "1     C        C4                     Ryder   < 1 year           RENT   \n",
       "2     C        C5                       NaN  10+ years           RENT   \n",
       "3     C        C1       AIR RESOURCES BOARD  10+ years           RENT   \n",
       "4     B        B5  University Medical Group     1 year           RENT   \n",
       "\n",
       "   annual_inc verification_status   issue_d  loan_status pymnt_plan  \\\n",
       "0     24000.0            Verified  Dec-2011   Fully Paid          n   \n",
       "1     30000.0     Source Verified  Dec-2011  Charged Off          n   \n",
       "2     12252.0        Not Verified  Dec-2011   Fully Paid          n   \n",
       "3     49200.0     Source Verified  Dec-2011   Fully Paid          n   \n",
       "4     80000.0     Source Verified  Dec-2011   Fully Paid          n   \n",
       "\n",
       "          purpose                 title zip_code addr_state    dti  \\\n",
       "0     credit_card              Computer    860xx         AZ  27.65   \n",
       "1             car                  bike    309xx         GA   1.00   \n",
       "2  small_business  real estate business    606xx         IL   8.72   \n",
       "3           other              personel    917xx         CA  20.00   \n",
       "4           other              Personal    972xx         OR  17.94   \n",
       "\n",
       "   delinq_2yrs earliest_cr_line  inq_last_6mths  open_acc  pub_rec  revol_bal  \\\n",
       "0          0.0         Jan-1985             1.0       3.0      0.0    13648.0   \n",
       "1          0.0         Apr-1999             5.0       3.0      0.0     1687.0   \n",
       "2          0.0         Nov-2001             2.0       2.0      0.0     2956.0   \n",
       "3          0.0         Feb-1996             1.0      10.0      0.0     5598.0   \n",
       "4          0.0         Jan-1996             0.0      15.0      0.0    27783.0   \n",
       "\n",
       "  revol_util  total_acc initial_list_status  out_prncp  out_prncp_inv  \\\n",
       "0      83.7%        9.0                   f        0.0            0.0   \n",
       "1       9.4%        4.0                   f        0.0            0.0   \n",
       "2      98.5%       10.0                   f        0.0            0.0   \n",
       "3        21%       37.0                   f        0.0            0.0   \n",
       "4      53.9%       38.0                   f        0.0            0.0   \n",
       "\n",
       "    total_pymnt  total_pymnt_inv  total_rec_prncp  total_rec_int  \\\n",
       "0   5863.155187          5833.84          5000.00         863.16   \n",
       "1   1014.530000          1014.53           456.46         435.17   \n",
       "2   3005.666844          3005.67          2400.00         605.67   \n",
       "3  12231.890000         12231.89         10000.00        2214.92   \n",
       "4   4066.908161          4066.91          3000.00        1066.91   \n",
       "\n",
       "   total_rec_late_fee  recoveries  collection_recovery_fee last_pymnt_d  \\\n",
       "0                0.00         0.0                     0.00     Jan-2015   \n",
       "1                0.00       122.9                     1.11     Apr-2013   \n",
       "2                0.00         0.0                     0.00     Jun-2014   \n",
       "3               16.97         0.0                     0.00     Jan-2015   \n",
       "4                0.00         0.0                     0.00     Jan-2017   \n",
       "\n",
       "   last_pymnt_amnt last_credit_pull_d  collections_12_mths_ex_med  \\\n",
       "0           171.62           Dec-2018                         0.0   \n",
       "1           119.66           Oct-2016                         0.0   \n",
       "2           649.91           Jun-2017                         0.0   \n",
       "3           357.48           Apr-2016                         0.0   \n",
       "4            67.30           Apr-2018                         0.0   \n",
       "\n",
       "   policy_code application_type  acc_now_delinq  chargeoff_within_12_mths  \\\n",
       "0          1.0       Individual             0.0                       0.0   \n",
       "1          1.0       Individual             0.0                       0.0   \n",
       "2          1.0       Individual             0.0                       0.0   \n",
       "3          1.0       Individual             0.0                       0.0   \n",
       "4          1.0       Individual             0.0                       0.0   \n",
       "\n",
       "   delinq_amnt  pub_rec_bankruptcies  tax_liens hardship_flag  \\\n",
       "0          0.0                   0.0        0.0             N   \n",
       "1          0.0                   0.0        0.0             N   \n",
       "2          0.0                   0.0        0.0             N   \n",
       "3          0.0                   0.0        0.0             N   \n",
       "4          0.0                   0.0        0.0             N   \n",
       "\n",
       "  disbursement_method debt_settlement_flag  \n",
       "0                Cash                    N  \n",
       "1                Cash                    N  \n",
       "2                Cash                    N  \n",
       "3                Cash                    N  \n",
       "4                Cash                    N  "
      ]
     },
     "execution_count": 4,
     "metadata": {},
     "output_type": "execute_result"
    }
   ],
   "source": [
    "loans_2007.head(5)"
   ]
  },
  {
   "cell_type": "markdown",
   "metadata": {
    "collapsed": true
   },
   "source": [
    "* 42538 Total remaning rows, 53 columns each"
   ]
  },
  {
   "cell_type": "code",
   "execution_count": 5,
   "metadata": {},
   "outputs": [
    {
     "data": {
      "text/plain": [
       "Index(['loan_amnt', 'funded_amnt', 'funded_amnt_inv', 'term', 'int_rate',\n",
       "       'installment', 'grade', 'sub_grade', 'emp_title', 'emp_length',\n",
       "       'home_ownership', 'annual_inc', 'verification_status', 'issue_d',\n",
       "       'loan_status', 'pymnt_plan', 'purpose', 'title', 'zip_code',\n",
       "       'addr_state', 'dti', 'delinq_2yrs', 'earliest_cr_line',\n",
       "       'inq_last_6mths', 'open_acc', 'pub_rec', 'revol_bal', 'revol_util',\n",
       "       'total_acc', 'initial_list_status', 'out_prncp', 'out_prncp_inv',\n",
       "       'total_pymnt', 'total_pymnt_inv', 'total_rec_prncp', 'total_rec_int',\n",
       "       'total_rec_late_fee', 'recoveries', 'collection_recovery_fee',\n",
       "       'last_pymnt_d', 'last_pymnt_amnt', 'last_credit_pull_d',\n",
       "       'collections_12_mths_ex_med', 'policy_code', 'application_type',\n",
       "       'acc_now_delinq', 'chargeoff_within_12_mths', 'delinq_amnt',\n",
       "       'pub_rec_bankruptcies', 'tax_liens', 'hardship_flag',\n",
       "       'disbursement_method', 'debt_settlement_flag'],\n",
       "      dtype='object')"
      ]
     },
     "execution_count": 5,
     "metadata": {},
     "output_type": "execute_result"
    }
   ],
   "source": [
    "loans_2007.columns"
   ]
  },
  {
   "cell_type": "markdown",
   "metadata": {},
   "source": [
    "# Removing Features\n",
    "We want to remove features that:\n",
    "* Leak information from the future (after the loan has already been funded)\n",
    "* Are irrelevant to a borrower's ability to pay back a loan (e.g. a randomly generated ID value by Lending Club)\n",
    "* Poorly formatted and need to be cleaned up\n",
    "* Requires more data or processing to turn into a (maybe) useful feature\n",
    "* Contain redundant information (information is restated or more detailed in another columns)"
   ]
  },
  {
   "cell_type": "code",
   "execution_count": 6,
   "metadata": {
    "collapsed": true
   },
   "outputs": [],
   "source": [
    "cols_to_drop = ['funded_amnt', # Leaks info - Funding only starts after Approval\n",
    "                'funded_amnt_inv', # Same as above\n",
    "                'grade', # More detailed in int_rate\n",
    "                'sub_grade', # Same as above\n",
    "                'emp_title', # Requires more data\n",
    "                'issue_d', # Leaks info - Issued only after Approval AND Funding\n",
    "                'zip_code', # Info is censored\n",
    "                'out_prncp', # Leaks info\n",
    "                'out_prncp_inv', # Leaks info\n",
    "                'total_pymnt', # Leaks info\n",
    "                'total_pymnt_inv', # Leaks info\n",
    "                'total_rec_prncp', # Leaks info\n",
    "                'total_rec_int', # Leaks info\n",
    "                'total_rec_late_fee', # Leaks info\n",
    "                'recoveries', # Leaks info\n",
    "                'collection_recovery_fee', # Leaks info\n",
    "                'last_pymnt_d', # Leaks info\n",
    "                'last_pymnt_amnt', # Leaks info\n",
    "                'debt_settlement_flag' # Leaks info \n",
    "               ]\n",
    "\n",
    "loans_2007 = loans_2007.drop(cols_to_drop, axis=1)"
   ]
  },
  {
   "cell_type": "code",
   "execution_count": 7,
   "metadata": {},
   "outputs": [
    {
     "name": "stdout",
     "output_type": "stream",
     "text": [
      "Index(['loan_amnt', 'term', 'int_rate', 'installment', 'emp_length',\n",
      "       'home_ownership', 'annual_inc', 'verification_status', 'loan_status',\n",
      "       'pymnt_plan', 'purpose', 'title', 'addr_state', 'dti', 'delinq_2yrs',\n",
      "       'earliest_cr_line', 'inq_last_6mths', 'open_acc', 'pub_rec',\n",
      "       'revol_bal', 'revol_util', 'total_acc', 'initial_list_status',\n",
      "       'last_credit_pull_d', 'collections_12_mths_ex_med', 'policy_code',\n",
      "       'application_type', 'acc_now_delinq', 'chargeoff_within_12_mths',\n",
      "       'delinq_amnt', 'pub_rec_bankruptcies', 'tax_liens', 'hardship_flag',\n",
      "       'disbursement_method'],\n",
      "      dtype='object')\n"
     ]
    }
   ],
   "source": [
    "print(loans_2007.columns)"
   ]
  },
  {
   "cell_type": "markdown",
   "metadata": {},
   "source": [
    "# Target Column"
   ]
  },
  {
   "cell_type": "code",
   "execution_count": 8,
   "metadata": {},
   "outputs": [
    {
     "data": {
      "text/html": [
       "<div>\n",
       "<style>\n",
       "    .dataframe thead tr:only-child th {\n",
       "        text-align: right;\n",
       "    }\n",
       "\n",
       "    .dataframe thead th {\n",
       "        text-align: left;\n",
       "    }\n",
       "\n",
       "    .dataframe tbody tr th {\n",
       "        vertical-align: top;\n",
       "    }\n",
       "</style>\n",
       "<table border=\"1\" class=\"dataframe\">\n",
       "  <thead>\n",
       "    <tr style=\"text-align: right;\">\n",
       "      <th></th>\n",
       "      <th>loan_amnt</th>\n",
       "      <th>term</th>\n",
       "      <th>int_rate</th>\n",
       "      <th>installment</th>\n",
       "      <th>emp_length</th>\n",
       "      <th>home_ownership</th>\n",
       "      <th>annual_inc</th>\n",
       "      <th>verification_status</th>\n",
       "      <th>loan_status</th>\n",
       "      <th>pymnt_plan</th>\n",
       "      <th>purpose</th>\n",
       "      <th>title</th>\n",
       "      <th>addr_state</th>\n",
       "      <th>dti</th>\n",
       "      <th>delinq_2yrs</th>\n",
       "      <th>earliest_cr_line</th>\n",
       "      <th>inq_last_6mths</th>\n",
       "      <th>open_acc</th>\n",
       "      <th>pub_rec</th>\n",
       "      <th>revol_bal</th>\n",
       "      <th>revol_util</th>\n",
       "      <th>total_acc</th>\n",
       "      <th>initial_list_status</th>\n",
       "      <th>last_credit_pull_d</th>\n",
       "      <th>collections_12_mths_ex_med</th>\n",
       "      <th>policy_code</th>\n",
       "      <th>application_type</th>\n",
       "      <th>acc_now_delinq</th>\n",
       "      <th>chargeoff_within_12_mths</th>\n",
       "      <th>delinq_amnt</th>\n",
       "      <th>pub_rec_bankruptcies</th>\n",
       "      <th>tax_liens</th>\n",
       "      <th>hardship_flag</th>\n",
       "      <th>disbursement_method</th>\n",
       "    </tr>\n",
       "  </thead>\n",
       "  <tbody>\n",
       "    <tr>\n",
       "      <th>0</th>\n",
       "      <td>5000.0</td>\n",
       "      <td>36 months</td>\n",
       "      <td>10.65%</td>\n",
       "      <td>162.87</td>\n",
       "      <td>10+ years</td>\n",
       "      <td>RENT</td>\n",
       "      <td>24000.0</td>\n",
       "      <td>Verified</td>\n",
       "      <td>Fully Paid</td>\n",
       "      <td>n</td>\n",
       "      <td>credit_card</td>\n",
       "      <td>Computer</td>\n",
       "      <td>AZ</td>\n",
       "      <td>27.65</td>\n",
       "      <td>0.0</td>\n",
       "      <td>Jan-1985</td>\n",
       "      <td>1.0</td>\n",
       "      <td>3.0</td>\n",
       "      <td>0.0</td>\n",
       "      <td>13648.0</td>\n",
       "      <td>83.7%</td>\n",
       "      <td>9.0</td>\n",
       "      <td>f</td>\n",
       "      <td>Dec-2018</td>\n",
       "      <td>0.0</td>\n",
       "      <td>1.0</td>\n",
       "      <td>Individual</td>\n",
       "      <td>0.0</td>\n",
       "      <td>0.0</td>\n",
       "      <td>0.0</td>\n",
       "      <td>0.0</td>\n",
       "      <td>0.0</td>\n",
       "      <td>N</td>\n",
       "      <td>Cash</td>\n",
       "    </tr>\n",
       "    <tr>\n",
       "      <th>1</th>\n",
       "      <td>2500.0</td>\n",
       "      <td>60 months</td>\n",
       "      <td>15.27%</td>\n",
       "      <td>59.83</td>\n",
       "      <td>&lt; 1 year</td>\n",
       "      <td>RENT</td>\n",
       "      <td>30000.0</td>\n",
       "      <td>Source Verified</td>\n",
       "      <td>Charged Off</td>\n",
       "      <td>n</td>\n",
       "      <td>car</td>\n",
       "      <td>bike</td>\n",
       "      <td>GA</td>\n",
       "      <td>1.00</td>\n",
       "      <td>0.0</td>\n",
       "      <td>Apr-1999</td>\n",
       "      <td>5.0</td>\n",
       "      <td>3.0</td>\n",
       "      <td>0.0</td>\n",
       "      <td>1687.0</td>\n",
       "      <td>9.4%</td>\n",
       "      <td>4.0</td>\n",
       "      <td>f</td>\n",
       "      <td>Oct-2016</td>\n",
       "      <td>0.0</td>\n",
       "      <td>1.0</td>\n",
       "      <td>Individual</td>\n",
       "      <td>0.0</td>\n",
       "      <td>0.0</td>\n",
       "      <td>0.0</td>\n",
       "      <td>0.0</td>\n",
       "      <td>0.0</td>\n",
       "      <td>N</td>\n",
       "      <td>Cash</td>\n",
       "    </tr>\n",
       "    <tr>\n",
       "      <th>2</th>\n",
       "      <td>2400.0</td>\n",
       "      <td>36 months</td>\n",
       "      <td>15.96%</td>\n",
       "      <td>84.33</td>\n",
       "      <td>10+ years</td>\n",
       "      <td>RENT</td>\n",
       "      <td>12252.0</td>\n",
       "      <td>Not Verified</td>\n",
       "      <td>Fully Paid</td>\n",
       "      <td>n</td>\n",
       "      <td>small_business</td>\n",
       "      <td>real estate business</td>\n",
       "      <td>IL</td>\n",
       "      <td>8.72</td>\n",
       "      <td>0.0</td>\n",
       "      <td>Nov-2001</td>\n",
       "      <td>2.0</td>\n",
       "      <td>2.0</td>\n",
       "      <td>0.0</td>\n",
       "      <td>2956.0</td>\n",
       "      <td>98.5%</td>\n",
       "      <td>10.0</td>\n",
       "      <td>f</td>\n",
       "      <td>Jun-2017</td>\n",
       "      <td>0.0</td>\n",
       "      <td>1.0</td>\n",
       "      <td>Individual</td>\n",
       "      <td>0.0</td>\n",
       "      <td>0.0</td>\n",
       "      <td>0.0</td>\n",
       "      <td>0.0</td>\n",
       "      <td>0.0</td>\n",
       "      <td>N</td>\n",
       "      <td>Cash</td>\n",
       "    </tr>\n",
       "    <tr>\n",
       "      <th>3</th>\n",
       "      <td>10000.0</td>\n",
       "      <td>36 months</td>\n",
       "      <td>13.49%</td>\n",
       "      <td>339.31</td>\n",
       "      <td>10+ years</td>\n",
       "      <td>RENT</td>\n",
       "      <td>49200.0</td>\n",
       "      <td>Source Verified</td>\n",
       "      <td>Fully Paid</td>\n",
       "      <td>n</td>\n",
       "      <td>other</td>\n",
       "      <td>personel</td>\n",
       "      <td>CA</td>\n",
       "      <td>20.00</td>\n",
       "      <td>0.0</td>\n",
       "      <td>Feb-1996</td>\n",
       "      <td>1.0</td>\n",
       "      <td>10.0</td>\n",
       "      <td>0.0</td>\n",
       "      <td>5598.0</td>\n",
       "      <td>21%</td>\n",
       "      <td>37.0</td>\n",
       "      <td>f</td>\n",
       "      <td>Apr-2016</td>\n",
       "      <td>0.0</td>\n",
       "      <td>1.0</td>\n",
       "      <td>Individual</td>\n",
       "      <td>0.0</td>\n",
       "      <td>0.0</td>\n",
       "      <td>0.0</td>\n",
       "      <td>0.0</td>\n",
       "      <td>0.0</td>\n",
       "      <td>N</td>\n",
       "      <td>Cash</td>\n",
       "    </tr>\n",
       "    <tr>\n",
       "      <th>4</th>\n",
       "      <td>3000.0</td>\n",
       "      <td>60 months</td>\n",
       "      <td>12.69%</td>\n",
       "      <td>67.79</td>\n",
       "      <td>1 year</td>\n",
       "      <td>RENT</td>\n",
       "      <td>80000.0</td>\n",
       "      <td>Source Verified</td>\n",
       "      <td>Fully Paid</td>\n",
       "      <td>n</td>\n",
       "      <td>other</td>\n",
       "      <td>Personal</td>\n",
       "      <td>OR</td>\n",
       "      <td>17.94</td>\n",
       "      <td>0.0</td>\n",
       "      <td>Jan-1996</td>\n",
       "      <td>0.0</td>\n",
       "      <td>15.0</td>\n",
       "      <td>0.0</td>\n",
       "      <td>27783.0</td>\n",
       "      <td>53.9%</td>\n",
       "      <td>38.0</td>\n",
       "      <td>f</td>\n",
       "      <td>Apr-2018</td>\n",
       "      <td>0.0</td>\n",
       "      <td>1.0</td>\n",
       "      <td>Individual</td>\n",
       "      <td>0.0</td>\n",
       "      <td>0.0</td>\n",
       "      <td>0.0</td>\n",
       "      <td>0.0</td>\n",
       "      <td>0.0</td>\n",
       "      <td>N</td>\n",
       "      <td>Cash</td>\n",
       "    </tr>\n",
       "  </tbody>\n",
       "</table>\n",
       "</div>"
      ],
      "text/plain": [
       "   loan_amnt        term int_rate  installment emp_length home_ownership  \\\n",
       "0     5000.0   36 months   10.65%       162.87  10+ years           RENT   \n",
       "1     2500.0   60 months   15.27%        59.83   < 1 year           RENT   \n",
       "2     2400.0   36 months   15.96%        84.33  10+ years           RENT   \n",
       "3    10000.0   36 months   13.49%       339.31  10+ years           RENT   \n",
       "4     3000.0   60 months   12.69%        67.79     1 year           RENT   \n",
       "\n",
       "   annual_inc verification_status  loan_status pymnt_plan         purpose  \\\n",
       "0     24000.0            Verified   Fully Paid          n     credit_card   \n",
       "1     30000.0     Source Verified  Charged Off          n             car   \n",
       "2     12252.0        Not Verified   Fully Paid          n  small_business   \n",
       "3     49200.0     Source Verified   Fully Paid          n           other   \n",
       "4     80000.0     Source Verified   Fully Paid          n           other   \n",
       "\n",
       "                  title addr_state    dti  delinq_2yrs earliest_cr_line  \\\n",
       "0              Computer         AZ  27.65          0.0         Jan-1985   \n",
       "1                  bike         GA   1.00          0.0         Apr-1999   \n",
       "2  real estate business         IL   8.72          0.0         Nov-2001   \n",
       "3              personel         CA  20.00          0.0         Feb-1996   \n",
       "4              Personal         OR  17.94          0.0         Jan-1996   \n",
       "\n",
       "   inq_last_6mths  open_acc  pub_rec  revol_bal revol_util  total_acc  \\\n",
       "0             1.0       3.0      0.0    13648.0      83.7%        9.0   \n",
       "1             5.0       3.0      0.0     1687.0       9.4%        4.0   \n",
       "2             2.0       2.0      0.0     2956.0      98.5%       10.0   \n",
       "3             1.0      10.0      0.0     5598.0        21%       37.0   \n",
       "4             0.0      15.0      0.0    27783.0      53.9%       38.0   \n",
       "\n",
       "  initial_list_status last_credit_pull_d  collections_12_mths_ex_med  \\\n",
       "0                   f           Dec-2018                         0.0   \n",
       "1                   f           Oct-2016                         0.0   \n",
       "2                   f           Jun-2017                         0.0   \n",
       "3                   f           Apr-2016                         0.0   \n",
       "4                   f           Apr-2018                         0.0   \n",
       "\n",
       "   policy_code application_type  acc_now_delinq  chargeoff_within_12_mths  \\\n",
       "0          1.0       Individual             0.0                       0.0   \n",
       "1          1.0       Individual             0.0                       0.0   \n",
       "2          1.0       Individual             0.0                       0.0   \n",
       "3          1.0       Individual             0.0                       0.0   \n",
       "4          1.0       Individual             0.0                       0.0   \n",
       "\n",
       "   delinq_amnt  pub_rec_bankruptcies  tax_liens hardship_flag  \\\n",
       "0          0.0                   0.0        0.0             N   \n",
       "1          0.0                   0.0        0.0             N   \n",
       "2          0.0                   0.0        0.0             N   \n",
       "3          0.0                   0.0        0.0             N   \n",
       "4          0.0                   0.0        0.0             N   \n",
       "\n",
       "  disbursement_method  \n",
       "0                Cash  \n",
       "1                Cash  \n",
       "2                Cash  \n",
       "3                Cash  \n",
       "4                Cash  "
      ]
     },
     "execution_count": 8,
     "metadata": {},
     "output_type": "execute_result"
    }
   ],
   "source": [
    "loans_2007.head(5)"
   ]
  },
  {
   "cell_type": "code",
   "execution_count": 9,
   "metadata": {},
   "outputs": [
    {
     "data": {
      "text/plain": [
       "Fully Paid                                             34116\n",
       "Charged Off                                             5670\n",
       "Does not meet the credit policy. Status:Fully Paid      1988\n",
       "Does not meet the credit policy. Status:Charged Off      761\n",
       "Name: loan_status, dtype: int64"
      ]
     },
     "execution_count": 9,
     "metadata": {},
     "output_type": "execute_result"
    }
   ],
   "source": [
    "loans_2007['loan_status'].value_counts()"
   ]
  },
  {
   "cell_type": "markdown",
   "metadata": {},
   "source": [
    "#### Filtering Labels of Interest\n",
    "* Only interested in binary classification of `Fully Paid` or `Charged Off`"
   ]
  },
  {
   "cell_type": "code",
   "execution_count": 10,
   "metadata": {},
   "outputs": [
    {
     "data": {
      "text/plain": [
       "(42538, 34)"
      ]
     },
     "execution_count": 10,
     "metadata": {},
     "output_type": "execute_result"
    }
   ],
   "source": [
    "loans_2007.shape"
   ]
  },
  {
   "cell_type": "code",
   "execution_count": 11,
   "metadata": {
    "collapsed": true
   },
   "outputs": [],
   "source": [
    "loans_2007_bin = loans_2007[(loans_2007['loan_status']=='Fully Paid') | (loans_2007['loan_status']=='Charged Off')]"
   ]
  },
  {
   "cell_type": "code",
   "execution_count": 12,
   "metadata": {},
   "outputs": [
    {
     "data": {
      "text/plain": [
       "(39786, 34)"
      ]
     },
     "execution_count": 12,
     "metadata": {},
     "output_type": "execute_result"
    }
   ],
   "source": [
    "loans_2007_bin.shape"
   ]
  },
  {
   "cell_type": "markdown",
   "metadata": {},
   "source": [
    "#### Remapping to Binary Labels"
   ]
  },
  {
   "cell_type": "code",
   "execution_count": 13,
   "metadata": {
    "scrolled": true
   },
   "outputs": [
    {
     "data": {
      "text/plain": [
       "Fully Paid     34116\n",
       "Charged Off     5670\n",
       "Name: loan_status, dtype: int64"
      ]
     },
     "execution_count": 13,
     "metadata": {},
     "output_type": "execute_result"
    }
   ],
   "source": [
    "loans_2007_bin[\"loan_status\"].value_counts()"
   ]
  },
  {
   "cell_type": "code",
   "execution_count": 14,
   "metadata": {
    "collapsed": true
   },
   "outputs": [],
   "source": [
    "mapping = {\n",
    "    \"loan_status\": {\n",
    "        \"Fully Paid\": 1,\n",
    "        \"Charged Off\": 0,\n",
    "    }\n",
    "}\n",
    "\n",
    "loans_2007_bin = loans_2007_bin.replace(mapping)"
   ]
  },
  {
   "cell_type": "code",
   "execution_count": 15,
   "metadata": {
    "scrolled": true
   },
   "outputs": [
    {
     "data": {
      "text/plain": [
       "1    34116\n",
       "0     5670\n",
       "Name: loan_status, dtype: int64"
      ]
     },
     "execution_count": 15,
     "metadata": {},
     "output_type": "execute_result"
    }
   ],
   "source": [
    "loans_2007_bin[\"loan_status\"].value_counts()"
   ]
  },
  {
   "cell_type": "markdown",
   "metadata": {},
   "source": [
    "#### Removing Columns with only one Unique Value ( Excluding NAs )"
   ]
  },
  {
   "cell_type": "code",
   "execution_count": 16,
   "metadata": {},
   "outputs": [
    {
     "name": "stdout",
     "output_type": "stream",
     "text": [
      "Columns with only one Unique Value:\n",
      " ['pymnt_plan', 'initial_list_status', 'collections_12_mths_ex_med', 'policy_code', 'application_type', 'acc_now_delinq', 'chargeoff_within_12_mths', 'delinq_amnt', 'tax_liens', 'hardship_flag', 'disbursement_method']\n"
     ]
    }
   ],
   "source": [
    "drop_columns = []\n",
    "\n",
    "for col in loans_2007_bin.columns:\n",
    "    col_series = loans_2007_bin[col]\n",
    "    non_null = col_series.dropna()\n",
    "    vc = non_null.unique()\n",
    "    num_true_unique = len(vc)\n",
    "    if num_true_unique == 1:\n",
    "        drop_columns.append(col)\n",
    "\n",
    "loans_df = loans_2007_bin.drop(drop_columns, axis=1)\n",
    "        \n",
    "print(\"Columns with only one Unique Value:\\n\", drop_columns)"
   ]
  },
  {
   "cell_type": "code",
   "execution_count": 17,
   "metadata": {},
   "outputs": [
    {
     "name": "stdout",
     "output_type": "stream",
     "text": [
      "(39786, 23)\n",
      "Index(['loan_amnt', 'term', 'int_rate', 'installment', 'emp_length',\n",
      "       'home_ownership', 'annual_inc', 'verification_status', 'loan_status',\n",
      "       'purpose', 'title', 'addr_state', 'dti', 'delinq_2yrs',\n",
      "       'earliest_cr_line', 'inq_last_6mths', 'open_acc', 'pub_rec',\n",
      "       'revol_bal', 'revol_util', 'total_acc', 'last_credit_pull_d',\n",
      "       'pub_rec_bankruptcies'],\n",
      "      dtype='object')\n"
     ]
    }
   ],
   "source": [
    "print(loans_df.shape)\n",
    "print(loans_df.columns)"
   ]
  },
  {
   "cell_type": "markdown",
   "metadata": {},
   "source": [
    "#### Missing Values"
   ]
  },
  {
   "cell_type": "code",
   "execution_count": 18,
   "metadata": {},
   "outputs": [
    {
     "data": {
      "text/plain": [
       "loan_amnt                 0\n",
       "term                      0\n",
       "int_rate                  0\n",
       "installment               0\n",
       "emp_length                0\n",
       "home_ownership            0\n",
       "annual_inc                0\n",
       "verification_status       0\n",
       "loan_status               0\n",
       "purpose                   0\n",
       "title                    10\n",
       "addr_state                0\n",
       "dti                       0\n",
       "delinq_2yrs               0\n",
       "earliest_cr_line          0\n",
       "inq_last_6mths            0\n",
       "open_acc                  0\n",
       "pub_rec                   0\n",
       "revol_bal                 0\n",
       "revol_util               50\n",
       "total_acc                 0\n",
       "last_credit_pull_d        2\n",
       "pub_rec_bankruptcies    697\n",
       "dtype: int64"
      ]
     },
     "execution_count": 18,
     "metadata": {},
     "output_type": "execute_result"
    }
   ],
   "source": [
    "loans_df.isnull().sum()"
   ]
  },
  {
   "cell_type": "code",
   "execution_count": 19,
   "metadata": {
    "collapsed": true
   },
   "outputs": [],
   "source": [
    "# Drop pub_rec_bankruptcies - Too Many NAs\n",
    "loans_df = loans_df.drop([\"pub_rec_bankruptcies\"], axis=1)\n",
    "\n",
    "# Drop Remaining Rows with NA values\n",
    "loans_df = loans_df.dropna(axis=0)"
   ]
  },
  {
   "cell_type": "code",
   "execution_count": 20,
   "metadata": {},
   "outputs": [
    {
     "data": {
      "text/plain": [
       "loan_amnt              0\n",
       "term                   0\n",
       "int_rate               0\n",
       "installment            0\n",
       "emp_length             0\n",
       "home_ownership         0\n",
       "annual_inc             0\n",
       "verification_status    0\n",
       "loan_status            0\n",
       "purpose                0\n",
       "title                  0\n",
       "addr_state             0\n",
       "dti                    0\n",
       "delinq_2yrs            0\n",
       "earliest_cr_line       0\n",
       "inq_last_6mths         0\n",
       "open_acc               0\n",
       "pub_rec                0\n",
       "revol_bal              0\n",
       "revol_util             0\n",
       "total_acc              0\n",
       "last_credit_pull_d     0\n",
       "dtype: int64"
      ]
     },
     "execution_count": 20,
     "metadata": {},
     "output_type": "execute_result"
    }
   ],
   "source": [
    "loans_df.isnull().sum()"
   ]
  },
  {
   "cell_type": "markdown",
   "metadata": {},
   "source": [
    "#### Column dtype Conversion to Numeric"
   ]
  },
  {
   "cell_type": "code",
   "execution_count": 21,
   "metadata": {},
   "outputs": [
    {
     "data": {
      "text/plain": [
       "loan_amnt              float64\n",
       "term                    object\n",
       "int_rate                object\n",
       "installment            float64\n",
       "emp_length              object\n",
       "home_ownership          object\n",
       "annual_inc             float64\n",
       "verification_status     object\n",
       "loan_status              int64\n",
       "purpose                 object\n",
       "title                   object\n",
       "addr_state              object\n",
       "dti                    float64\n",
       "delinq_2yrs            float64\n",
       "earliest_cr_line        object\n",
       "inq_last_6mths         float64\n",
       "open_acc               float64\n",
       "pub_rec                float64\n",
       "revol_bal              float64\n",
       "revol_util              object\n",
       "total_acc              float64\n",
       "last_credit_pull_d      object\n",
       "dtype: object"
      ]
     },
     "execution_count": 21,
     "metadata": {},
     "output_type": "execute_result"
    }
   ],
   "source": [
    "loans_df.dtypes"
   ]
  },
  {
   "cell_type": "code",
   "execution_count": 22,
   "metadata": {},
   "outputs": [
    {
     "data": {
      "text/html": [
       "<div>\n",
       "<style>\n",
       "    .dataframe thead tr:only-child th {\n",
       "        text-align: right;\n",
       "    }\n",
       "\n",
       "    .dataframe thead th {\n",
       "        text-align: left;\n",
       "    }\n",
       "\n",
       "    .dataframe tbody tr th {\n",
       "        vertical-align: top;\n",
       "    }\n",
       "</style>\n",
       "<table border=\"1\" class=\"dataframe\">\n",
       "  <thead>\n",
       "    <tr style=\"text-align: right;\">\n",
       "      <th></th>\n",
       "      <th>term</th>\n",
       "      <th>int_rate</th>\n",
       "      <th>emp_length</th>\n",
       "      <th>home_ownership</th>\n",
       "      <th>verification_status</th>\n",
       "      <th>purpose</th>\n",
       "      <th>title</th>\n",
       "      <th>addr_state</th>\n",
       "      <th>earliest_cr_line</th>\n",
       "      <th>revol_util</th>\n",
       "      <th>last_credit_pull_d</th>\n",
       "    </tr>\n",
       "  </thead>\n",
       "  <tbody>\n",
       "    <tr>\n",
       "      <th>count</th>\n",
       "      <td>39724</td>\n",
       "      <td>39724</td>\n",
       "      <td>39724</td>\n",
       "      <td>39724</td>\n",
       "      <td>39724</td>\n",
       "      <td>39724</td>\n",
       "      <td>39724</td>\n",
       "      <td>39724</td>\n",
       "      <td>39724</td>\n",
       "      <td>39724</td>\n",
       "      <td>39724</td>\n",
       "    </tr>\n",
       "    <tr>\n",
       "      <th>unique</th>\n",
       "      <td>2</td>\n",
       "      <td>371</td>\n",
       "      <td>12</td>\n",
       "      <td>5</td>\n",
       "      <td>3</td>\n",
       "      <td>14</td>\n",
       "      <td>19610</td>\n",
       "      <td>50</td>\n",
       "      <td>526</td>\n",
       "      <td>1089</td>\n",
       "      <td>136</td>\n",
       "    </tr>\n",
       "    <tr>\n",
       "      <th>top</th>\n",
       "      <td>36 months</td>\n",
       "      <td>10.99%</td>\n",
       "      <td>10+ years</td>\n",
       "      <td>RENT</td>\n",
       "      <td>Not Verified</td>\n",
       "      <td>debt_consolidation</td>\n",
       "      <td>Debt Consolidation</td>\n",
       "      <td>CA</td>\n",
       "      <td>Nov-1998</td>\n",
       "      <td>0%</td>\n",
       "      <td>Dec-2018</td>\n",
       "    </tr>\n",
       "    <tr>\n",
       "      <th>freq</th>\n",
       "      <td>29041</td>\n",
       "      <td>958</td>\n",
       "      <td>8897</td>\n",
       "      <td>18881</td>\n",
       "      <td>16890</td>\n",
       "      <td>18661</td>\n",
       "      <td>2189</td>\n",
       "      <td>7095</td>\n",
       "      <td>371</td>\n",
       "      <td>980</td>\n",
       "      <td>8020</td>\n",
       "    </tr>\n",
       "  </tbody>\n",
       "</table>\n",
       "</div>"
      ],
      "text/plain": [
       "              term int_rate emp_length home_ownership verification_status  \\\n",
       "count        39724    39724      39724          39724               39724   \n",
       "unique           2      371         12              5                   3   \n",
       "top      36 months   10.99%  10+ years           RENT        Not Verified   \n",
       "freq         29041      958       8897          18881               16890   \n",
       "\n",
       "                   purpose               title addr_state earliest_cr_line  \\\n",
       "count                39724               39724      39724            39724   \n",
       "unique                  14               19610         50              526   \n",
       "top     debt_consolidation  Debt Consolidation         CA         Nov-1998   \n",
       "freq                 18661                2189       7095              371   \n",
       "\n",
       "       revol_util last_credit_pull_d  \n",
       "count       39724              39724  \n",
       "unique       1089                136  \n",
       "top            0%           Dec-2018  \n",
       "freq          980               8020  "
      ]
     },
     "execution_count": 22,
     "metadata": {},
     "output_type": "execute_result"
    }
   ],
   "source": [
    "object_loans = loans_df.select_dtypes(include=[\"object\"])\n",
    "object_loans.describe()"
   ]
  },
  {
   "cell_type": "code",
   "execution_count": 23,
   "metadata": {},
   "outputs": [
    {
     "name": "stdout",
     "output_type": "stream",
     "text": [
      "No. of Unique Labels:\n",
      "term                       2\n",
      "verification_status        3\n",
      "home_ownership             5\n",
      "emp_length                12\n",
      "purpose                   14\n",
      "addr_state                50\n",
      "last_credit_pull_d       136\n",
      "int_rate                 371\n",
      "earliest_cr_line         526\n",
      "revol_util              1089\n",
      "title                  19610\n",
      "Name: unique, dtype: object\n"
     ]
    }
   ],
   "source": [
    "print(\"No. of Unique Labels:\")\n",
    "print(object_loans.describe().iloc[1].sort_values())\n",
    "\n",
    "\n",
    "# No . of Unique Labels:\n",
    "\n",
    "# term                        2  ->  CONVERT TO CATEGORICAL\n",
    "# debt_settlement_flag        2  ->  CONVERT TO CATEGORICAL\n",
    "# verification_status         3  ->  CONVERT TO CATEGORICAL\n",
    "# home_ownership              5  ->  CONVERT TO CATEGORICAL\n",
    "# emp_length                 12  ->  CONVERT TO NUMERIC\n",
    "# purpose                    14  ->  CONVERT TO CATEGORICAL\n",
    "# addr_state                 50  ->  DROP ( TOO MANY )\n",
    "# last_credit_pull_d        136  ->  DROP ( TOO COMPLEX )\n",
    "# int_rate                  371  ->  CONVERT TO NUMERIC\n",
    "# earliest_cr_line          526  ->  DROP ( TOO COMPLEX )\n",
    "# revol_util               1089  ->  CONVERT TO NUMERIC\n",
    "# title                   19610  ->  DROP ( TOO MANY )\n"
   ]
  },
  {
   "cell_type": "code",
   "execution_count": 24,
   "metadata": {
    "scrolled": false
   },
   "outputs": [
    {
     "name": "stdout",
     "output_type": "stream",
     "text": [
      " 36 months    29041\n",
      " 60 months    10683\n",
      "Name: term, dtype: int64 \n",
      "\n",
      "Not Verified       16890\n",
      "Verified           12833\n",
      "Source Verified    10001\n",
      "Name: verification_status, dtype: int64 \n",
      "\n",
      "RENT        18881\n",
      "MORTGAGE    17688\n",
      "OWN          3056\n",
      "OTHER          96\n",
      "NONE            3\n",
      "Name: home_ownership, dtype: int64 \n",
      "\n",
      "10+ years    8897\n",
      "< 1 year     4576\n",
      "2 years      4389\n",
      "3 years      4094\n",
      "4 years      3435\n",
      "5 years      3279\n",
      "1 year       3240\n",
      "6 years      2227\n",
      "7 years      1771\n",
      "8 years      1483\n",
      "9 years      1259\n",
      "n/a          1074\n",
      "Name: emp_length, dtype: int64 \n",
      "\n",
      "debt_consolidation    18661\n",
      "credit_card            5134\n",
      "other                  3985\n",
      "home_improvement       2980\n",
      "major_purchase         2182\n",
      "small_business         1827\n",
      "car                    1549\n",
      "wedding                 947\n",
      "medical                 693\n",
      "moving                  581\n",
      "house                   382\n",
      "vacation                380\n",
      "educational             320\n",
      "renewable_energy        103\n",
      "Name: purpose, dtype: int64 \n",
      "\n",
      "CA    7095\n",
      "NY    3815\n",
      "FL    2869\n",
      "TX    2729\n",
      "NJ    1850\n",
      "IL    1524\n",
      "PA    1515\n",
      "VA    1407\n",
      "GA    1399\n",
      "MA    1343\n",
      "OH    1221\n",
      "MD    1053\n",
      "AZ     878\n",
      "WA     841\n",
      "CO     791\n",
      "NC     788\n",
      "CT     754\n",
      "MI     722\n",
      "MO     685\n",
      "MN     613\n",
      "NV     497\n",
      "SC     472\n",
      "WI     459\n",
      "AL     451\n",
      "OR     450\n",
      "LA     436\n",
      "KY     327\n",
      "OK     299\n",
      "KS     271\n",
      "UT     259\n",
      "AR     245\n",
      "DC     212\n",
      "RI     199\n",
      "NM     190\n",
      "WV     177\n",
      "HI     173\n",
      "NH     172\n",
      "DE     113\n",
      "MT      85\n",
      "WY      83\n",
      "AK      81\n",
      "SD      63\n",
      "VT      54\n",
      "MS      19\n",
      "TN      17\n",
      "IN       9\n",
      "ID       6\n",
      "NE       5\n",
      "IA       5\n",
      "ME       3\n",
      "Name: addr_state, dtype: int64 \n",
      "\n"
     ]
    }
   ],
   "source": [
    "# Categorical Columns\n",
    "cat_cols = ['term', 'verification_status', 'home_ownership',\n",
    "            'emp_length', 'purpose', 'addr_state'\n",
    "           ]\n",
    "for col in cat_cols:\n",
    "    print(object_loans[col].value_counts(),\"\\n\")"
   ]
  },
  {
   "cell_type": "code",
   "execution_count": 25,
   "metadata": {
    "collapsed": true
   },
   "outputs": [],
   "source": [
    "# Dropping columns\n",
    "loans_df = loans_df.drop([\"last_credit_pull_d\", \"addr_state\",\"title\",\"earliest_cr_line\"],axis=1)"
   ]
  },
  {
   "cell_type": "code",
   "execution_count": 26,
   "metadata": {
    "scrolled": false
   },
   "outputs": [
    {
     "name": "stdout",
     "output_type": "stream",
     "text": [
      "10    8897\n",
      "0     5650\n",
      "2     4389\n",
      "3     4094\n",
      "4     3435\n",
      "5     3279\n",
      "1     3240\n",
      "6     2227\n",
      "7     1771\n",
      "8     1483\n",
      "9     1259\n",
      "Name: emp_length, dtype: int64\n"
     ]
    }
   ],
   "source": [
    "# Remapping Employment Length\n",
    "emp_len_mapping = {\n",
    "    \"emp_length\": {\n",
    "        \"10+ years\": 10,\n",
    "        \"9 years\": 9,\n",
    "        \"8 years\": 8,\n",
    "        \"7 years\": 7,\n",
    "        \"6 years\": 6,\n",
    "        \"5 years\": 5,\n",
    "        \"4 years\": 4,\n",
    "        \"3 years\": 3,\n",
    "        \"2 years\": 2,\n",
    "        \"1 year\": 1,\n",
    "        \"< 1 year\": 0,\n",
    "        \"n/a\": 0\n",
    "    }\n",
    "}\n",
    "\n",
    "loans_df = loans_df.replace(emp_len_mapping)\n",
    "print(loans_df[\"emp_length\"].value_counts())"
   ]
  },
  {
   "cell_type": "code",
   "execution_count": 27,
   "metadata": {
    "collapsed": true
   },
   "outputs": [],
   "source": [
    "# Convert object columns to float columns\n",
    "loans_df[\"int_rate\"] = loans_df[\"int_rate\"].str.rstrip('%').astype('float')\n",
    "loans_df[\"revol_util\"] = loans_df[\"revol_util\"].str.rstrip('%').astype('float')"
   ]
  },
  {
   "cell_type": "code",
   "execution_count": 28,
   "metadata": {},
   "outputs": [
    {
     "data": {
      "text/plain": [
       "loan_amnt              float64\n",
       "term                    object\n",
       "int_rate               float64\n",
       "installment            float64\n",
       "emp_length               int64\n",
       "home_ownership          object\n",
       "annual_inc             float64\n",
       "verification_status     object\n",
       "loan_status              int64\n",
       "purpose                 object\n",
       "dti                    float64\n",
       "delinq_2yrs            float64\n",
       "inq_last_6mths         float64\n",
       "open_acc               float64\n",
       "pub_rec                float64\n",
       "revol_bal              float64\n",
       "revol_util             float64\n",
       "total_acc              float64\n",
       "dtype: object"
      ]
     },
     "execution_count": 28,
     "metadata": {},
     "output_type": "execute_result"
    }
   ],
   "source": [
    "loans_df.dtypes"
   ]
  },
  {
   "cell_type": "code",
   "execution_count": 29,
   "metadata": {
    "collapsed": true
   },
   "outputs": [],
   "source": [
    "# Convert object columns to categorical Dummy columns\n",
    "cols_to_convert = [\"home_ownership\", \"verification_status\", \"purpose\", \"term\"]\n",
    "dummy_loans = pd.get_dummies(loans_df[cols_to_convert])\n",
    "loans_df = pd.concat([loans_df, dummy_loans], axis=1)\n",
    "loans_df = loans_df.drop(cols_to_convert, axis=1)"
   ]
  },
  {
   "cell_type": "code",
   "execution_count": 30,
   "metadata": {
    "scrolled": false
   },
   "outputs": [
    {
     "data": {
      "text/plain": [
       "loan_amnt                              float64\n",
       "int_rate                               float64\n",
       "installment                            float64\n",
       "emp_length                               int64\n",
       "annual_inc                             float64\n",
       "loan_status                              int64\n",
       "dti                                    float64\n",
       "delinq_2yrs                            float64\n",
       "inq_last_6mths                         float64\n",
       "open_acc                               float64\n",
       "pub_rec                                float64\n",
       "revol_bal                              float64\n",
       "revol_util                             float64\n",
       "total_acc                              float64\n",
       "home_ownership_MORTGAGE                  uint8\n",
       "home_ownership_NONE                      uint8\n",
       "home_ownership_OTHER                     uint8\n",
       "home_ownership_OWN                       uint8\n",
       "home_ownership_RENT                      uint8\n",
       "verification_status_Not Verified         uint8\n",
       "verification_status_Source Verified      uint8\n",
       "verification_status_Verified             uint8\n",
       "purpose_car                              uint8\n",
       "purpose_credit_card                      uint8\n",
       "purpose_debt_consolidation               uint8\n",
       "purpose_educational                      uint8\n",
       "purpose_home_improvement                 uint8\n",
       "purpose_house                            uint8\n",
       "purpose_major_purchase                   uint8\n",
       "purpose_medical                          uint8\n",
       "purpose_moving                           uint8\n",
       "purpose_other                            uint8\n",
       "purpose_renewable_energy                 uint8\n",
       "purpose_small_business                   uint8\n",
       "purpose_vacation                         uint8\n",
       "purpose_wedding                          uint8\n",
       "term_ 36 months                          uint8\n",
       "term_ 60 months                          uint8\n",
       "dtype: object"
      ]
     },
     "execution_count": 30,
     "metadata": {},
     "output_type": "execute_result"
    }
   ],
   "source": [
    "loans_df.dtypes"
   ]
  },
  {
   "cell_type": "markdown",
   "metadata": {},
   "source": [
    "# Data Preparation"
   ]
  },
  {
   "cell_type": "code",
   "execution_count": 31,
   "metadata": {},
   "outputs": [
    {
     "data": {
      "text/plain": [
       "(39724, 38)"
      ]
     },
     "execution_count": 31,
     "metadata": {},
     "output_type": "execute_result"
    }
   ],
   "source": [
    "data = loans_df.copy()\n",
    "data.shape"
   ]
  },
  {
   "cell_type": "code",
   "execution_count": 32,
   "metadata": {},
   "outputs": [
    {
     "name": "stdout",
     "output_type": "stream",
     "text": [
      "<class 'pandas.core.frame.DataFrame'>\n",
      "Int64Index: 39724 entries, 0 to 39785\n",
      "Data columns (total 38 columns):\n",
      "loan_amnt                              39724 non-null float64\n",
      "int_rate                               39724 non-null float64\n",
      "installment                            39724 non-null float64\n",
      "emp_length                             39724 non-null int64\n",
      "annual_inc                             39724 non-null float64\n",
      "loan_status                            39724 non-null int64\n",
      "dti                                    39724 non-null float64\n",
      "delinq_2yrs                            39724 non-null float64\n",
      "inq_last_6mths                         39724 non-null float64\n",
      "open_acc                               39724 non-null float64\n",
      "pub_rec                                39724 non-null float64\n",
      "revol_bal                              39724 non-null float64\n",
      "revol_util                             39724 non-null float64\n",
      "total_acc                              39724 non-null float64\n",
      "home_ownership_MORTGAGE                39724 non-null uint8\n",
      "home_ownership_NONE                    39724 non-null uint8\n",
      "home_ownership_OTHER                   39724 non-null uint8\n",
      "home_ownership_OWN                     39724 non-null uint8\n",
      "home_ownership_RENT                    39724 non-null uint8\n",
      "verification_status_Not Verified       39724 non-null uint8\n",
      "verification_status_Source Verified    39724 non-null uint8\n",
      "verification_status_Verified           39724 non-null uint8\n",
      "purpose_car                            39724 non-null uint8\n",
      "purpose_credit_card                    39724 non-null uint8\n",
      "purpose_debt_consolidation             39724 non-null uint8\n",
      "purpose_educational                    39724 non-null uint8\n",
      "purpose_home_improvement               39724 non-null uint8\n",
      "purpose_house                          39724 non-null uint8\n",
      "purpose_major_purchase                 39724 non-null uint8\n",
      "purpose_medical                        39724 non-null uint8\n",
      "purpose_moving                         39724 non-null uint8\n",
      "purpose_other                          39724 non-null uint8\n",
      "purpose_renewable_energy               39724 non-null uint8\n",
      "purpose_small_business                 39724 non-null uint8\n",
      "purpose_vacation                       39724 non-null uint8\n",
      "purpose_wedding                        39724 non-null uint8\n",
      "term_ 36 months                        39724 non-null uint8\n",
      "term_ 60 months                        39724 non-null uint8\n",
      "dtypes: float64(12), int64(2), uint8(24)\n",
      "memory usage: 5.5 MB\n"
     ]
    }
   ],
   "source": [
    "data.info()"
   ]
  },
  {
   "cell_type": "markdown",
   "metadata": {},
   "source": [
    "#### Shuffle, Split and Format"
   ]
  },
  {
   "cell_type": "code",
   "execution_count": 33,
   "metadata": {},
   "outputs": [
    {
     "name": "stdout",
     "output_type": "stream",
     "text": [
      "(31779, 37) (7945, 37)\n",
      "(31779,) (7945,)\n"
     ]
    }
   ],
   "source": [
    "# Splitting the Data Set\n",
    "train = data.sample(frac=0.8, random_state=1)\n",
    "test = data[~data.index.isin(train.index)]\n",
    "\n",
    "features = data.columns.drop(['loan_status'])\n",
    "target = 'loan_status'\n",
    "\n",
    "# Formatting\n",
    "X_train, X_test = train[features], test[features]\n",
    "y_train, y_test = train[target], test[target]\n",
    "\n",
    "print(X_train.shape, X_test.shape)\n",
    "print(y_train.shape, y_test.shape)"
   ]
  },
  {
   "cell_type": "markdown",
   "metadata": {},
   "source": [
    "#### Error Metric of Interest : Minimize False Positives\n",
    "* As a conservative investor, we would prefer to see as few False Positives (approved risky investments) as possible.\n",
    "    * __FP__ : ( Predicted = 1, Actual = 0 )"
   ]
  },
  {
   "cell_type": "code",
   "execution_count": 34,
   "metadata": {
    "collapsed": true
   },
   "outputs": [],
   "source": [
    "# tn = predictions[(predictions==0)&(df[\"label\"]==0)].shape[0]\n",
    "# tp = predictions[(predictions==1)&(df[\"label\"]==1)].shape[0]\n",
    "# fp = predictions[(predictions==1)&(df[\"label\"]==0)].shape[0]\n",
    "# fn = predictions[(predictions==0)&(df[\"label\"]==1)].shape[0]\n",
    "\n",
    "# fpr = fp/(fp+tn)\n",
    "# tpr = tp/(tp+fn)\n",
    "# fnr = fn/(tp+fn)\n",
    "# tnr = tn/(fp+tn)"
   ]
  },
  {
   "cell_type": "markdown",
   "metadata": {},
   "source": [
    "$FPR=\\dfrac{\\text{False Positives}}{\\text{False Positives} + \\text{True Negatives}}$ : % of Approved Loans that Would be Charged Off  \n",
    "  \n",
    "$TPR=\\dfrac{\\text{True Positives}}{\\text{True Positives} + \\text{False Negatives}}$ : % of Rejected Loans that Would have been Repaid\n",
    "\n",
    "$PPV=\\dfrac{\\text{True Positives}}{\\text{True Positives} + \\text{False Positives}}$ : % of Approved Loans that Would have been Repaid"
   ]
  },
  {
   "cell_type": "markdown",
   "metadata": {},
   "source": [
    "# Making a Prediction"
   ]
  },
  {
   "cell_type": "markdown",
   "metadata": {},
   "source": [
    "### 1. Logistic Regression with class_weight=Default"
   ]
  },
  {
   "cell_type": "code",
   "execution_count": 118,
   "metadata": {
    "scrolled": true
   },
   "outputs": [
    {
     "name": "stdout",
     "output_type": "stream",
     "text": [
      "False Positive Rate: 0.9991128853404303\n",
      "True Positive Rate: 0.9993399339933994\n",
      "Positive Predictive Value: 0.8581415121075668\n"
     ]
    }
   ],
   "source": [
    "from sklearn.linear_model import LogisticRegression\n",
    "from sklearn.model_selection import cross_val_predict\n",
    "\n",
    "lr = LogisticRegression()\n",
    "\n",
    "predictions = cross_val_predict(lr, X_train, y_train, cv=3)\n",
    "\n",
    "tn = predictions[(predictions==0)&(y_train==0)].shape[0]\n",
    "tp = predictions[(predictions==1)&(y_train==1)].shape[0]\n",
    "fn = predictions[(predictions==0)&(y_train==1)].shape[0]\n",
    "fp = predictions[(predictions==1)&(y_train==0)].shape[0]\n",
    "\n",
    "fpr = fp/(tn+fp)\n",
    "tpr = tp/(tp+fn)\n",
    "ppv = tp/(tp+fp)\n",
    "\n",
    "print(\"False Positive Rate:\",fpr)\n",
    "print(\"True Positive Rate:\",tpr)\n",
    "print(\"Positive Predictive Value:\",ppv)"
   ]
  },
  {
   "cell_type": "markdown",
   "metadata": {},
   "source": [
    "* Model has a high bias for Positive Predictions, since dataset is made of mostly positive labels\n",
    "* Currently predicting for: __0.0692% Predicted Negatives__ as compared to __14% Actual Negatives__"
   ]
  },
  {
   "cell_type": "code",
   "execution_count": 36,
   "metadata": {},
   "outputs": [
    {
     "data": {
      "text/plain": [
       "1    0.999308\n",
       "0    0.000692\n",
       "dtype: float64"
      ]
     },
     "execution_count": 36,
     "metadata": {},
     "output_type": "execute_result"
    }
   ],
   "source": [
    "# Predictions Beakdown\n",
    "predictions = pd.Series(predictions)\n",
    "predictions.value_counts()/predictions.shape[0]"
   ]
  },
  {
   "cell_type": "code",
   "execution_count": 37,
   "metadata": {},
   "outputs": [
    {
     "data": {
      "text/plain": [
       "1    0.858114\n",
       "0    0.141886\n",
       "Name: loan_status, dtype: float64"
      ]
     },
     "execution_count": 37,
     "metadata": {},
     "output_type": "execute_result"
    }
   ],
   "source": [
    "# Training Breakdown\n",
    "y_train.value_counts()/y_train.shape[0]"
   ]
  },
  {
   "cell_type": "markdown",
   "metadata": {},
   "source": [
    "### 2. Logistic Regression with class_weight=balanced\n",
    "* Penalize inversely proportional to class frequencies"
   ]
  },
  {
   "cell_type": "code",
   "execution_count": 119,
   "metadata": {
    "scrolled": true
   },
   "outputs": [
    {
     "name": "stdout",
     "output_type": "stream",
     "text": [
      "False Positive Rate: 0.3734752716788645\n",
      "True Positive Rate: 0.6483314998166483\n",
      "Positive Predictive Value: 0.913034497004751\n"
     ]
    }
   ],
   "source": [
    "from sklearn.linear_model import LogisticRegression\n",
    "from sklearn.model_selection import cross_val_predict\n",
    "\n",
    "lr = LogisticRegression(class_weight=\"balanced\")\n",
    "\n",
    "predictions = cross_val_predict(lr, X_train, y_train, cv=3)\n",
    "\n",
    "tn = predictions[(predictions==0)&(y_train==0)].shape[0]\n",
    "tp = predictions[(predictions==1)&(y_train==1)].shape[0]\n",
    "fn = predictions[(predictions==0)&(y_train==1)].shape[0]\n",
    "fp = predictions[(predictions==1)&(y_train==0)].shape[0]\n",
    "\n",
    "fpr = fp/(tn+fp)\n",
    "tpr = tp/(tp+fn)\n",
    "ppv = tp/(tp+fp)\n",
    "\n",
    "print(\"False Positive Rate:\",fpr)\n",
    "print(\"True Positive Rate:\",tpr)\n",
    "print(\"Positive Predictive Value:\",ppv)"
   ]
  },
  {
   "cell_type": "markdown",
   "metadata": {},
   "source": [
    "* Balanced model has a lower bias for Positive Predictions, since dataset new penalized more for incorrectly predicting actual negatives\n",
    "* Currently predicting for: __39.1% Predicted Negatives__ as compared to __14.1% Actual Negatives__"
   ]
  },
  {
   "cell_type": "code",
   "execution_count": 39,
   "metadata": {},
   "outputs": [
    {
     "data": {
      "text/plain": [
       "1    0.609333\n",
       "0    0.390667\n",
       "dtype: float64"
      ]
     },
     "execution_count": 39,
     "metadata": {},
     "output_type": "execute_result"
    }
   ],
   "source": [
    "# Predictions Beakdown\n",
    "predictions = pd.Series(predictions)\n",
    "predictions.value_counts()/predictions.shape[0]"
   ]
  },
  {
   "cell_type": "code",
   "execution_count": 40,
   "metadata": {},
   "outputs": [
    {
     "data": {
      "text/plain": [
       "1    0.858114\n",
       "0    0.141886\n",
       "Name: loan_status, dtype: float64"
      ]
     },
     "execution_count": 40,
     "metadata": {},
     "output_type": "execute_result"
    }
   ],
   "source": [
    "# Training Breakdown\n",
    "y_train.value_counts()/y_train.shape[0]"
   ]
  },
  {
   "cell_type": "markdown",
   "metadata": {},
   "source": [
    "### 3. Logistic Regression with class_weight=penalty\n",
    "* Penalize False Negatives 10x more than False Posititives"
   ]
  },
  {
   "cell_type": "code",
   "execution_count": 120,
   "metadata": {
    "scrolled": true
   },
   "outputs": [
    {
     "name": "stdout",
     "output_type": "stream",
     "text": [
      "False Positive Rate: 0.07873142603681525\n",
      "True Positive Rate: 0.2273927392739274\n",
      "Positive Predictive Value: 0.9458511287370348\n"
     ]
    }
   ],
   "source": [
    "from sklearn.linear_model import LogisticRegression\n",
    "from sklearn.model_selection import cross_val_predict\n",
    "\n",
    "penalty = {\n",
    "    0: 10,\n",
    "    1: 1\n",
    "}\n",
    "\n",
    "lr = LogisticRegression(class_weight=penalty)\n",
    "\n",
    "predictions = cross_val_predict(lr, X_train, y_train, cv=3)\n",
    "\n",
    "tn = predictions[(predictions==0)&(y_train==0)].shape[0]\n",
    "tp = predictions[(predictions==1)&(y_train==1)].shape[0]\n",
    "fn = predictions[(predictions==0)&(y_train==1)].shape[0]\n",
    "fp = predictions[(predictions==1)&(y_train==0)].shape[0]\n",
    "\n",
    "fpr = fp/(tn+fp)\n",
    "tpr = tp/(tp+fn)\n",
    "ppv = tp/(tp+fp)\n",
    "\n",
    "print(\"False Positive Rate:\",fpr)\n",
    "print(\"True Positive Rate:\",tpr)\n",
    "print(\"Positive Predictive Value:\",ppv)"
   ]
  },
  {
   "cell_type": "markdown",
   "metadata": {},
   "source": [
    "* Balanced model has a lower bias for Positive Predictions, since dataset new penalized more for incorrectly predicting actual negatives\n",
    "* Currently predicting for: __20.6% Predicted Negatives__ as compared to __14.1% Actual Negatives__"
   ]
  },
  {
   "cell_type": "code",
   "execution_count": 42,
   "metadata": {},
   "outputs": [
    {
     "data": {
      "text/plain": [
       "0    0.7937\n",
       "1    0.2063\n",
       "dtype: float64"
      ]
     },
     "execution_count": 42,
     "metadata": {},
     "output_type": "execute_result"
    }
   ],
   "source": [
    "# Predictions Beakdown\n",
    "predictions = pd.Series(predictions)\n",
    "predictions.value_counts()/predictions.shape[0]"
   ]
  },
  {
   "cell_type": "code",
   "execution_count": 43,
   "metadata": {},
   "outputs": [
    {
     "data": {
      "text/plain": [
       "1    0.858114\n",
       "0    0.141886\n",
       "Name: loan_status, dtype: float64"
      ]
     },
     "execution_count": 43,
     "metadata": {},
     "output_type": "execute_result"
    }
   ],
   "source": [
    "# Training Breakdown\n",
    "y_train.value_counts()/y_train.shape[0]"
   ]
  },
  {
   "cell_type": "markdown",
   "metadata": {},
   "source": [
    "### 4. Making a Prediction - RandomForest with class_weight=balanced\n",
    "* Penalize inversely proportional to class frequencies"
   ]
  },
  {
   "cell_type": "code",
   "execution_count": 121,
   "metadata": {},
   "outputs": [
    {
     "name": "stdout",
     "output_type": "stream",
     "text": [
      "False Positive Rate: 0.9447771124417831\n",
      "True Positive Rate: 0.9754308764209755\n",
      "Positive Predictive Value: 0.8619572261827608\n"
     ]
    }
   ],
   "source": [
    "from sklearn.ensemble import RandomForestClassifier\n",
    "from sklearn.model_selection import cross_val_predict\n",
    "\n",
    "rf = RandomForestClassifier(random_state=1, class_weight=\"balanced\")\n",
    "\n",
    "predictions = cross_val_predict(rf, X_train, y_train, cv=3)\n",
    "\n",
    "tn = predictions[(predictions==0)&(y_train==0)].shape[0]\n",
    "tp = predictions[(predictions==1)&(y_train==1)].shape[0]\n",
    "fn = predictions[(predictions==0)&(y_train==1)].shape[0]\n",
    "fp = predictions[(predictions==1)&(y_train==0)].shape[0]\n",
    "\n",
    "fpr = fp/(tn+fp)\n",
    "tpr = tp/(tp+fn)\n",
    "ppv = tp/(tp+fp)\n",
    "\n",
    "print(\"False Positive Rate:\",fpr)\n",
    "print(\"True Positive Rate:\",tpr)\n",
    "print(\"Positive Predictive Value:\",ppv)"
   ]
  },
  {
   "cell_type": "markdown",
   "metadata": {},
   "source": [
    "* Balanced RF model continues to have a high bias for Positive Predictions\n",
    "* Currently predicting for: __2.9% Predicted Negatives__ as compared to __14.1% Actual Negatives__"
   ]
  },
  {
   "cell_type": "code",
   "execution_count": 45,
   "metadata": {},
   "outputs": [
    {
     "data": {
      "text/plain": [
       "1    0.971082\n",
       "0    0.028918\n",
       "dtype: float64"
      ]
     },
     "execution_count": 45,
     "metadata": {},
     "output_type": "execute_result"
    }
   ],
   "source": [
    "# Predictions Beakdown\n",
    "predictions = pd.Series(predictions)\n",
    "predictions.value_counts()/predictions.shape[0]"
   ]
  },
  {
   "cell_type": "code",
   "execution_count": 46,
   "metadata": {},
   "outputs": [
    {
     "data": {
      "text/plain": [
       "1    0.858114\n",
       "0    0.141886\n",
       "Name: loan_status, dtype: float64"
      ]
     },
     "execution_count": 46,
     "metadata": {},
     "output_type": "execute_result"
    }
   ],
   "source": [
    "# Training Breakdown\n",
    "y_train.value_counts()/y_train.shape[0]"
   ]
  },
  {
   "cell_type": "markdown",
   "metadata": {},
   "source": [
    "### 5. RandomForest with class_weight=penalty\n",
    "* Penalize False Negatives 10x more than False Posititives"
   ]
  },
  {
   "cell_type": "code",
   "execution_count": 122,
   "metadata": {},
   "outputs": [
    {
     "name": "stdout",
     "output_type": "stream",
     "text": [
      "False Positive Rate: 0.9536482590374806\n",
      "True Positive Rate: 0.9783645031169783\n",
      "Positive Predictive Value: 0.8612007746933505\n"
     ]
    }
   ],
   "source": [
    "from sklearn.ensemble import RandomForestClassifier\n",
    "from sklearn.model_selection import cross_val_predict\n",
    "\n",
    "penalty = {\n",
    "    0: 100,\n",
    "    1: 1\n",
    "}\n",
    "\n",
    "rf = RandomForestClassifier(random_state=1, class_weight=penalty)\n",
    "\n",
    "predictions = cross_val_predict(rf, X_train, y_train, cv=3)\n",
    "\n",
    "tn = predictions[(predictions==0)&(y_train==0)].shape[0]\n",
    "tp = predictions[(predictions==1)&(y_train==1)].shape[0]\n",
    "fn = predictions[(predictions==0)&(y_train==1)].shape[0]\n",
    "fp = predictions[(predictions==1)&(y_train==0)].shape[0]\n",
    "\n",
    "fpr = fp/(tn+fp)\n",
    "tpr = tp/(tp+fn)\n",
    "ppv = tp/(tp+fp)\n",
    "\n",
    "print(\"False Positive Rate:\",fpr)\n",
    "print(\"True Positive Rate:\",tpr)\n",
    "print(\"Positive Predictive Value:\",ppv)"
   ]
  },
  {
   "cell_type": "markdown",
   "metadata": {},
   "source": [
    "* Even penalizing False Negatives 100x more than False Positives,the RF model continues to have a bias for Positive Predictions\n",
    "* Currently predicting for: __2.5% Predicted Negatives__ as compared to __14.1% Actual Negatives__"
   ]
  },
  {
   "cell_type": "code",
   "execution_count": 63,
   "metadata": {},
   "outputs": [
    {
     "data": {
      "text/plain": [
       "1    0.974858\n",
       "0    0.025142\n",
       "dtype: float64"
      ]
     },
     "execution_count": 63,
     "metadata": {},
     "output_type": "execute_result"
    }
   ],
   "source": [
    "# Predictions Beakdown\n",
    "predictions = pd.Series(predictions)\n",
    "predictions.value_counts()/predictions.shape[0]"
   ]
  },
  {
   "cell_type": "code",
   "execution_count": 64,
   "metadata": {
    "scrolled": true
   },
   "outputs": [
    {
     "data": {
      "text/plain": [
       "1    0.858114\n",
       "0    0.141886\n",
       "Name: loan_status, dtype: float64"
      ]
     },
     "execution_count": 64,
     "metadata": {},
     "output_type": "execute_result"
    }
   ],
   "source": [
    "# Training Breakdown\n",
    "y_train.value_counts()/y_train.shape[0]"
   ]
  },
  {
   "cell_type": "markdown",
   "metadata": {},
   "source": [
    "### 6. Making a Prediction - Multi-Layer Neural Network"
   ]
  },
  {
   "cell_type": "code",
   "execution_count": 123,
   "metadata": {
    "scrolled": true
   },
   "outputs": [
    {
     "name": "stdout",
     "output_type": "stream",
     "text": [
      "False Positive Rate: 0.9693945442448436\n",
      "True Positive Rate: 0.9836450311697836\n",
      "Positive Predictive Value: 0.8598813912485975\n"
     ]
    }
   ],
   "source": [
    "from sklearn.neural_network import MLPClassifier\n",
    "from sklearn.model_selection import cross_val_predict\n",
    "\n",
    "\n",
    "nn = MLPClassifier(hidden_layer_sizes=(16,16),random_state=1 )\n",
    "\n",
    "predictions = cross_val_predict(nn, X_train, y_train, cv=3)\n",
    "\n",
    "tn = predictions[(predictions==0)&(y_train==0)].shape[0]\n",
    "tp = predictions[(predictions==1)&(y_train==1)].shape[0]\n",
    "fn = predictions[(predictions==0)&(y_train==1)].shape[0]\n",
    "fp = predictions[(predictions==1)&(y_train==0)].shape[0]\n",
    "\n",
    "fpr = fp/(tn+fp)\n",
    "tpr = tp/(tp+fn)\n",
    "ppv = tp/(tp+fp)\n",
    "\n",
    "print(\"False Positive Rate:\",fpr)\n",
    "print(\"True Positive Rate:\",tpr)\n",
    "print(\"Positive Predictive Value:\",ppv)"
   ]
  },
  {
   "cell_type": "markdown",
   "metadata": {},
   "source": [
    "* A MLPClassifier also maintains a bias for Positive Predictions\n",
    "* Currently predicting for: __1.8% Predicted Negatives__ as compared to __14.1% Actual Negatives__"
   ]
  },
  {
   "cell_type": "code",
   "execution_count": 89,
   "metadata": {},
   "outputs": [
    {
     "data": {
      "text/plain": [
       "1    0.981623\n",
       "0    0.018377\n",
       "dtype: float64"
      ]
     },
     "execution_count": 89,
     "metadata": {},
     "output_type": "execute_result"
    }
   ],
   "source": [
    "# Predictions Beakdown\n",
    "predictions = pd.Series(predictions)\n",
    "predictions.value_counts()/predictions.shape[0]"
   ]
  },
  {
   "cell_type": "code",
   "execution_count": 90,
   "metadata": {
    "scrolled": true
   },
   "outputs": [
    {
     "data": {
      "text/plain": [
       "1    0.858114\n",
       "0    0.141886\n",
       "Name: loan_status, dtype: float64"
      ]
     },
     "execution_count": 90,
     "metadata": {},
     "output_type": "execute_result"
    }
   ],
   "source": [
    "# Training Breakdown\n",
    "y_train.value_counts()/y_train.shape[0]"
   ]
  },
  {
   "cell_type": "markdown",
   "metadata": {},
   "source": [
    "# Conclusion\n",
    "* Logistic Regression penalizing False Negatives 10 times more that False Positives is the most effective at minimizing False Positives. With a __7% FPR__ and __94.6 PPV__, it is better the base case if 85.8% of loans would be randomly approved (FPR 14.1%).\n",
    "\n",
    "| Model     \t| Actual \t| 1. LogR - def \t| 2. LogR - bal \t| 3. LogR - penalty \t| 4. RF - bal \t| 5. RF - penalty \t| 6. MLP \t|\n",
    "|-----------\t|--------\t|---------------\t|---------------\t|-------------------\t|-------------\t|-----------------\t|--------\t|\n",
    "| FPR       \t| -      \t| 0.999         \t| 0.373         \t| 0.07              \t| 0.945       \t| 0.954           \t| 0.969  \t|\n",
    "| TPR       \t| -      \t| 0.999         \t| 0.648         \t| 0.22              \t| 0.975       \t| 0.978           \t| 0.984  \t|\n",
    "| PPV       \t| -      \t| 0.858         \t| 0.913         \t| __0.946__           \t| 0.862       \t| 0.861           \t| 0.860  \t|\n",
    "| Negatives \t| 14.1%  \t| 0.0692%       \t| 39.1%         \t| 20.6%             \t| 2.9%        \t| 2.5%            \t| 1.8%   \t|"
   ]
  },
  {
   "cell_type": "code",
   "execution_count": 128,
   "metadata": {},
   "outputs": [
    {
     "name": "stdout",
     "output_type": "stream",
     "text": [
      "False Positive Rate: 0.8618318917720116\n",
      "True Positive Rate: 0.8625962596259626\n",
      "Positive Predictive Value: 0.8582217519792769\n"
     ]
    }
   ],
   "source": [
    "import numpy as np\n",
    "predictions = np.random.choice([1,0],p=[0.858,0.142],size=y_train.shape[0])\n",
    "\n",
    "tn = predictions[(predictions==0)&(y_train==0)].shape[0]\n",
    "tp = predictions[(predictions==1)&(y_train==1)].shape[0]\n",
    "fn = predictions[(predictions==0)&(y_train==1)].shape[0]\n",
    "fp = predictions[(predictions==1)&(y_train==0)].shape[0]\n",
    "\n",
    "fpr = fp/(tn+fp)\n",
    "tpr = tp/(tp+fn)\n",
    "ppv = tp/(tp+fp)\n",
    "\n",
    "print(\"False Positive Rate:\",fpr)\n",
    "print(\"True Positive Rate:\",tpr)\n",
    "print(\"Positive Predictive Value:\",ppv)"
   ]
  },
  {
   "cell_type": "code",
   "execution_count": 129,
   "metadata": {},
   "outputs": [
    {
     "data": {
      "text/plain": [
       "1    0.862488\n",
       "0    0.137512\n",
       "dtype: float64"
      ]
     },
     "execution_count": 129,
     "metadata": {},
     "output_type": "execute_result"
    }
   ],
   "source": [
    "# Predictions Beakdown\n",
    "predictions = pd.Series(predictions)\n",
    "predictions.value_counts()/predictions.shape[0]"
   ]
  },
  {
   "cell_type": "code",
   "execution_count": 130,
   "metadata": {},
   "outputs": [
    {
     "data": {
      "text/plain": [
       "1    0.856262\n",
       "0    0.143738\n",
       "Name: loan_status, dtype: float64"
      ]
     },
     "execution_count": 130,
     "metadata": {},
     "output_type": "execute_result"
    }
   ],
   "source": [
    "# Training Breakdown\n",
    "y_test.value_counts()/y_test.shape[0]"
   ]
  },
  {
   "cell_type": "code",
   "execution_count": null,
   "metadata": {
    "collapsed": true
   },
   "outputs": [],
   "source": []
  }
 ],
 "metadata": {
  "kernelspec": {
   "display_name": "Python [conda root]",
   "language": "python",
   "name": "conda-root-py"
  },
  "language_info": {
   "codemirror_mode": {
    "name": "ipython",
    "version": 3
   },
   "file_extension": ".py",
   "mimetype": "text/x-python",
   "name": "python",
   "nbconvert_exporter": "python",
   "pygments_lexer": "ipython3",
   "version": "3.5.3"
  }
 },
 "nbformat": 4,
 "nbformat_minor": 2
}
