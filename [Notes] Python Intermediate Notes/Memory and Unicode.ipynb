{
 "cells": [
  {
   "cell_type": "markdown",
   "metadata": {},
   "source": [
    "# Memory and Unicode"
   ]
  },
  {
   "cell_type": "markdown",
   "metadata": {},
   "source": [
    "### Binary - Integers"
   ]
  },
  {
   "cell_type": "code",
   "execution_count": 1,
   "metadata": {},
   "outputs": [
    {
     "name": "stdout",
     "output_type": "stream",
     "text": [
      "4\n"
     ]
    }
   ],
   "source": [
    "num_base_2 = \"100\"\n",
    "num_base_10 = int(num_base_2,2)\n",
    "print(num_base_10)"
   ]
  },
  {
   "cell_type": "code",
   "execution_count": 6,
   "metadata": {},
   "outputs": [
    {
     "name": "stdout",
     "output_type": "stream",
     "text": [
      "1011\n"
     ]
    }
   ],
   "source": [
    "def binary_addition(a, b):\n",
    "    return bin(int(a, 2) + int(b, 2))[2:]\n",
    "\n",
    "a = \"100\" # = 4 + 0 + 0 = 4\n",
    "b = \"111\" # = 4 + 2 + 1 = 7\n",
    "\n",
    "c = binary_addition(a,b)\n",
    "print(c) # \"1011\" = 8 + 0 + 2 + 1 = 11 = 4 + 7"
   ]
  },
  {
   "cell_type": "markdown",
   "metadata": {},
   "source": [
    "### Binary - ASCII Strings\n",
    "* ASCII is a subset of Unicode"
   ]
  },
  {
   "cell_type": "code",
   "execution_count": 10,
   "metadata": {},
   "outputs": [
    {
     "data": {
      "text/plain": [
       "97"
      ]
     },
     "execution_count": 10,
     "metadata": {},
     "output_type": "execute_result"
    }
   ],
   "source": [
    "# ASCII character integer\n",
    "ord('a')"
   ]
  },
  {
   "cell_type": "code",
   "execution_count": 14,
   "metadata": {},
   "outputs": [
    {
     "data": {
      "text/plain": [
       "'0b1100001'"
      ]
     },
     "execution_count": 14,
     "metadata": {},
     "output_type": "execute_result"
    }
   ],
   "source": [
    "# ASCII character binary\n",
    "# ( includes '0b' prefix to indicate binary )\n",
    "\n",
    "bin(ord('a'))"
   ]
  },
  {
   "cell_type": "markdown",
   "metadata": {},
   "source": [
    "### Binary - Unicode Strings / Code Points"
   ]
  },
  {
   "cell_type": "code",
   "execution_count": 19,
   "metadata": {},
   "outputs": [
    {
     "name": "stdout",
     "output_type": "stream",
     "text": [
      "⟶\n"
     ]
    }
   ],
   "source": [
    "# Code Points\n",
    "code_point = \"\\u27F6\"\n",
    "print(code_point)"
   ]
  },
  {
   "cell_type": "code",
   "execution_count": 20,
   "metadata": {},
   "outputs": [
    {
     "data": {
      "text/plain": [
       "10230"
      ]
     },
     "execution_count": 20,
     "metadata": {},
     "output_type": "execute_result"
    }
   ],
   "source": [
    "# Code Point Integer\n",
    "ord(code_point)"
   ]
  },
  {
   "cell_type": "code",
   "execution_count": 23,
   "metadata": {},
   "outputs": [
    {
     "data": {
      "text/plain": [
       "'0b10011111110110'"
      ]
     },
     "execution_count": 23,
     "metadata": {},
     "output_type": "execute_result"
    }
   ],
   "source": [
    "# Code Point in Binary\n",
    "bin(ord(code_point))"
   ]
  },
  {
   "cell_type": "code",
   "execution_count": 31,
   "metadata": {},
   "outputs": [
    {
     "name": "stdout",
     "output_type": "stream",
     "text": [
      "café café True\n"
     ]
    }
   ],
   "source": [
    "# Unicode Code Points\n",
    "# ( includes '\\u' prefix to indicate that the next four digits are a Unicode code point )\n",
    "\n",
    "s1 = \"café\"\n",
    "s2 = \"caf\\u00e9\" \n",
    "print(s1,s2,(s1==s2))"
   ]
  },
  {
   "cell_type": "markdown",
   "metadata": {},
   "source": [
    "### Bytes ( A byte is 8 bits )"
   ]
  },
  {
   "cell_type": "code",
   "execution_count": 33,
   "metadata": {},
   "outputs": [
    {
     "name": "stdout",
     "output_type": "stream",
     "text": [
      "s3_bytes: b'What\\xe2\\x90\\xa6'\n",
      "s4_bytes: b'Going\\xe2\\x9f\\xb6'\n"
     ]
    }
   ],
   "source": [
    "# Unicode string --- UTF-8 encoding ---> Sequence of bytes\n",
    "# ( includes '\\x' prefix to indicate the next two \"digits\" are in hexadecimal )\n",
    "\n",
    "s3 = \"What␦\"\n",
    "s3_bytes = \"What␦\".encode(\"utf-8\")\n",
    "print(\"s3_bytes:\",s3_bytes)\n",
    "\n",
    "s4 = \"Going\\u27F6\"\n",
    "s4_bytes = s4.encode(\"utf-8\")\n",
    "print(\"s4_bytes:\", s4_bytes)"
   ]
  },
  {
   "cell_type": "markdown",
   "metadata": {},
   "source": [
    "### Decimal, Binary and Hexadecimal\n",
    "* A byte is represented as a Hexadecimal number because it best represents an 8 bits, $2^8 = 256$ numbers going from 0 to 255"
   ]
  },
  {
   "cell_type": "markdown",
   "metadata": {},
   "source": [
    "|   Decimal   | Base 10 |     0    |     1    |     2    |     3    | ... |    14    |    15    |    16    | ... | 31       |    32    | 33       | ... |    254   |    255   |\n",
    "|:-----------:|:-------:|:--------:|:--------:|:--------:|:--------:|:---:|:--------:|:--------:|:--------:|:---:|----------|:--------:|----------|:---:|:--------:|:--------:|\n",
    "|    Binary   |  Base 2 | 00000000 | 00000001 | 00000010 | 00000011 | ... | 00001110 | 00001111 | 00010000 | ... | 00011111 | 00100000 | 00100001 | ... | 11111110 | 11111111 |\n",
    "| Hexadecimal | Base 16 |     0    |     1    |     2    |     3    | ... |     E    |     F    |    10    | ... | 1F       |    20    | 21       | ... |    FE    |    FF    |"
   ]
  },
  {
   "cell_type": "code",
   "execution_count": 42,
   "metadata": {},
   "outputs": [
    {
     "data": {
      "text/plain": [
       "'â'"
      ]
     },
     "execution_count": 42,
     "metadata": {},
     "output_type": "execute_result"
    }
   ],
   "source": [
    "# Hexadecimal\n",
    "hex_byte = \"\\xe2\" # 'â'\n",
    "hex_byte"
   ]
  },
  {
   "cell_type": "code",
   "execution_count": 43,
   "metadata": {},
   "outputs": [
    {
     "data": {
      "text/plain": [
       "226"
      ]
     },
     "execution_count": 43,
     "metadata": {},
     "output_type": "execute_result"
    }
   ],
   "source": [
    "# Decimal\n",
    "ord(hex_byte) # 22"
   ]
  },
  {
   "cell_type": "code",
   "execution_count": 44,
   "metadata": {},
   "outputs": [
    {
     "data": {
      "text/plain": [
       "'0b11100010'"
      ]
     },
     "execution_count": 44,
     "metadata": {},
     "output_type": "execute_result"
    }
   ],
   "source": [
    "# Binary\n",
    "bin(ord(hex_byte))"
   ]
  },
  {
   "cell_type": "code",
   "execution_count": 46,
   "metadata": {},
   "outputs": [
    {
     "data": {
      "text/plain": [
       "bytes"
      ]
     },
     "execution_count": 46,
     "metadata": {},
     "output_type": "execute_result"
    }
   ],
   "source": [
    "# Creating a bytes type object\n",
    "type(b'Bytes Object')"
   ]
  },
  {
   "cell_type": "code",
   "execution_count": 49,
   "metadata": {},
   "outputs": [
    {
     "data": {
      "text/plain": [
       "str"
      ]
     },
     "execution_count": 49,
     "metadata": {},
     "output_type": "execute_result"
    }
   ],
   "source": [
    "# Decoding a bytes type object\n",
    "decoded_bytes = b'Bytes Object'.decode('utf-8')\n",
    "type(decoded_bytes)"
   ]
  },
  {
   "cell_type": "markdown",
   "metadata": {},
   "source": [
    "# Example - CIA Sentences"
   ]
  },
  {
   "cell_type": "code",
   "execution_count": 62,
   "metadata": {},
   "outputs": [
    {
     "data": {
      "text/html": [
       "<div>\n",
       "<style>\n",
       "    .dataframe thead tr:only-child th {\n",
       "        text-align: right;\n",
       "    }\n",
       "\n",
       "    .dataframe thead th {\n",
       "        text-align: left;\n",
       "    }\n",
       "\n",
       "    .dataframe tbody tr th {\n",
       "        vertical-align: top;\n",
       "    }\n",
       "</style>\n",
       "<table border=\"1\" class=\"dataframe\">\n",
       "  <thead>\n",
       "    <tr style=\"text-align: right;\">\n",
       "      <th></th>\n",
       "      <th>year</th>\n",
       "      <th>statement</th>\n",
       "      <th>Unnamed: 2</th>\n",
       "      <th>Unnamed: 3</th>\n",
       "      <th>Unnamed: 4</th>\n",
       "    </tr>\n",
       "  </thead>\n",
       "  <tbody>\n",
       "    <tr>\n",
       "      <th>0</th>\n",
       "      <td>1997</td>\n",
       "      <td>The FBI information included that al-Mairi's b...</td>\n",
       "      <td>NaN</td>\n",
       "      <td>NaN</td>\n",
       "      <td>NaN</td>\n",
       "    </tr>\n",
       "    <tr>\n",
       "      <th>1</th>\n",
       "      <td>1997</td>\n",
       "      <td>The FBI information included that al-Mairi's b...</td>\n",
       "      <td>NaN</td>\n",
       "      <td>NaN</td>\n",
       "      <td>NaN</td>\n",
       "    </tr>\n",
       "    <tr>\n",
       "      <th>2</th>\n",
       "      <td>1997</td>\n",
       "      <td>For example, on October 12, 2004, another CIA ...</td>\n",
       "      <td>NaN</td>\n",
       "      <td>NaN</td>\n",
       "      <td>NaN</td>\n",
       "    </tr>\n",
       "    <tr>\n",
       "      <th>3</th>\n",
       "      <td>1997</td>\n",
       "      <td>On October 16, 2001, an email from a CTC offic...</td>\n",
       "      <td>NaN</td>\n",
       "      <td>NaN</td>\n",
       "      <td>NaN</td>\n",
       "    </tr>\n",
       "    <tr>\n",
       "      <th>4</th>\n",
       "      <td>1997</td>\n",
       "      <td>For example, on October 12, 2004, another CIA ...</td>\n",
       "      <td>NaN</td>\n",
       "      <td>NaN</td>\n",
       "      <td>NaN</td>\n",
       "    </tr>\n",
       "    <tr>\n",
       "      <th>5</th>\n",
       "      <td>1997</td>\n",
       "      <td>On October 16, 2001, an email from a CTC offic...</td>\n",
       "      <td>NaN</td>\n",
       "      <td>NaN</td>\n",
       "      <td>NaN</td>\n",
       "    </tr>\n",
       "    <tr>\n",
       "      <th>6</th>\n",
       "      <td>1998</td>\n",
       "      <td>CIA Interrogators Disagree with CIA Headquarte...</td>\n",
       "      <td>NaN</td>\n",
       "      <td>NaN</td>\n",
       "      <td>NaN</td>\n",
       "    </tr>\n",
       "    <tr>\n",
       "      <th>7</th>\n",
       "      <td>1998</td>\n",
       "      <td>\"^^''^ There was also CIA reporting in 1998 th...</td>\n",
       "      <td>NaN</td>\n",
       "      <td>NaN</td>\n",
       "      <td>NaN</td>\n",
       "    </tr>\n",
       "    <tr>\n",
       "      <th>8</th>\n",
       "      <td>1998</td>\n",
       "      <td>'^^^ Prior to Abu Zubaydah's capture, the CIA ...</td>\n",
       "      <td>NaN</td>\n",
       "      <td>NaN</td>\n",
       "      <td>NaN</td>\n",
       "    </tr>\n",
       "    <tr>\n",
       "      <th>9</th>\n",
       "      <td>1998</td>\n",
       "      <td>• • • • 1759 (0213I9ZQCT04);HEADQUARTERSl|^Hm4...</td>\n",
       "      <td>NaN</td>\n",
       "      <td>NaN</td>\n",
       "      <td>NaN</td>\n",
       "    </tr>\n",
       "    <tr>\n",
       "      <th>10</th>\n",
       "      <td>1998</td>\n",
       "      <td>Reportingfrom1998indicatedthat\"SheikhKhalid\"(K...</td>\n",
       "      <td>NaN</td>\n",
       "      <td>NaN</td>\n",
       "      <td>NaN</td>\n",
       "    </tr>\n",
       "  </tbody>\n",
       "</table>\n",
       "</div>"
      ],
      "text/plain": [
       "    year                                          statement  Unnamed: 2  \\\n",
       "0   1997  The FBI information included that al-Mairi's b...         NaN   \n",
       "1   1997  The FBI information included that al-Mairi's b...         NaN   \n",
       "2   1997  For example, on October 12, 2004, another CIA ...         NaN   \n",
       "3   1997  On October 16, 2001, an email from a CTC offic...         NaN   \n",
       "4   1997  For example, on October 12, 2004, another CIA ...         NaN   \n",
       "5   1997  On October 16, 2001, an email from a CTC offic...         NaN   \n",
       "6   1998  CIA Interrogators Disagree with CIA Headquarte...         NaN   \n",
       "7   1998  \"^^''^ There was also CIA reporting in 1998 th...         NaN   \n",
       "8   1998  '^^^ Prior to Abu Zubaydah's capture, the CIA ...         NaN   \n",
       "9   1998  • • • • 1759 (0213I9ZQCT04);HEADQUARTERSl|^Hm4...         NaN   \n",
       "10  1998  Reportingfrom1998indicatedthat\"SheikhKhalid\"(K...         NaN   \n",
       "\n",
       "    Unnamed: 3  Unnamed: 4  \n",
       "0          NaN         NaN  \n",
       "1          NaN         NaN  \n",
       "2          NaN         NaN  \n",
       "3          NaN         NaN  \n",
       "4          NaN         NaN  \n",
       "5          NaN         NaN  \n",
       "6          NaN         NaN  \n",
       "7          NaN         NaN  \n",
       "8          NaN         NaN  \n",
       "9          NaN         NaN  \n",
       "10         NaN         NaN  "
      ]
     },
     "execution_count": 62,
     "metadata": {},
     "output_type": "execute_result"
    }
   ],
   "source": [
    "import pandas as pd\n",
    "\n",
    "sentences_cia = pd.read_csv(\"sentences_cia.csv\", encoding=\"utf-8\")\n",
    "sentences_cia.head(11)"
   ]
  },
  {
   "cell_type": "code",
   "execution_count": 77,
   "metadata": {
    "scrolled": true
   },
   "outputs": [
    {
     "data": {
      "text/plain": [
       "'• • • • 1759 (0213I9ZQCT04);HEADQUARTERSl|^Hm40023ZNOV05);| (171225Z NOV 04); (140915Z NOV 04); (06I620Z DEC 04); 2207(1113I9Z APR 05)I^^^Hl2210a^7Z APR05)~|^|H2535 (051805Z JUL05); ^ ^ • • ^ 9 (120857ZJUL05)n^^^|2830 (29I304Z AUG 05); 1890 (171225Z NOV 040r^^B^^^^893^00831Z NOV 04); CIA document entitled, \"Detainee Talking Points for ICRC Rebuttal, 12 April2007T||^BIB2210(141507Z APR 05); •^^••25^(051805Z JUL 05); 2210 (141507Z APR05)r^H|||[B225 (051805Z J U L 0 5 ) I ^ B | | 2830 (291304Z AUG 05); 1930 (061620Z DEC 2210 (141507Z APR 05) 2210(141507Z APR 05); 1691 (081609Z SEP04); 05); 2023 (151735Z JAN 05); (282019Z NOV 03) 1029 (291750Z JUN 06); 17I6(180742Z SEP 04); 2535 (051805ZJUL05); 1_716(180742Z SEP 04); 2515 (301946Z JUN 05); 1_142 (041358Z AUG 06); 3051 (301235Z SEP 05); 2830 (29i304Z AUG 1998 (020752Z JAN 1150 1543 (111600Z AUG04); 1029 (291750Z JUN 06) 1959 (111700Z DEC 04); 2038 (211558ZJAN05)^^^BPHIHi 1091 (031835Z NOV 03); 1266 (052309Z JAN 04); ^••••|^HT63?'"
      ]
     },
     "execution_count": 77,
     "metadata": {},
     "output_type": "execute_result"
    }
   ],
   "source": [
    "sentences_cia.iloc[9][\"statement\"]"
   ]
  },
  {
   "cell_type": "code",
   "execution_count": 78,
   "metadata": {
    "collapsed": true
   },
   "outputs": [],
   "source": [
    "# The integer codes for all the characters we want to keep\n",
    "good_characters = [48, 49, 50, 51, 52, 53, 54, 55, 56, 57, 65, 66, 67, 68, 69, 70, 71, 72, 73, 74, 75, 76, 77, 78, 79, 80, 81, 82, 83, 84, 85, 86, 87, 88, 89, 90, 97, 98, 99, 100, 101, 102, 103, 104, 105, 106, 107, 108, 109, 110, 111, 112, 113, 114, 115, 116, 117, 118, 119, 120, 121, 122, 32]\n",
    "\n",
    "def clean_statement(row):\n",
    "    statement = row[\"statement\"]\n",
    "    clean_statement_list = [char for char in statement if ord(char) in good_characters]\n",
    "    clean_statement = \"\".join(clean_statement_list)\n",
    "    return clean_statement\n",
    "\n",
    "sentences_cia[\"cleaned_statement\"] = sentences_cia.apply(clean_statement, axis=1)"
   ]
  },
  {
   "cell_type": "code",
   "execution_count": 79,
   "metadata": {},
   "outputs": [
    {
     "data": {
      "text/plain": [
       "statement            • • • • 1759 (0213I9ZQCT04);HEADQUARTERSl|^Hm4...\n",
       "cleaned_statement        1759 0213I9ZQCT04HEADQUARTERSlHm40023ZNOV0...\n",
       "Name: 9, dtype: object"
      ]
     },
     "execution_count": 79,
     "metadata": {},
     "output_type": "execute_result"
    }
   ],
   "source": [
    "sentences_cia.iloc[9][[\"statement\",\"cleaned_statement\"]]"
   ]
  },
  {
   "cell_type": "code",
   "execution_count": 80,
   "metadata": {
    "collapsed": true
   },
   "outputs": [],
   "source": [
    "# Join all statments together and tokenize on spacing\n",
    "combined_statements = \" \".join(sentences_cia[\"cleaned_statement\"])\n",
    "statement_tokens = combined_statements.split(sep=\" \")"
   ]
  },
  {
   "cell_type": "code",
   "execution_count": 81,
   "metadata": {
    "collapsed": true
   },
   "outputs": [],
   "source": [
    "# Filter tokens at least 5 characters long\n",
    "statement_tokens_series = pd.Series(statement_tokens)\n",
    "statement_tokens_series = statement_tokens_series[statement_tokens_series.str.len()>4]\n",
    "filtered_tokens = list(statement_tokens_series)"
   ]
  },
  {
   "cell_type": "code",
   "execution_count": 82,
   "metadata": {},
   "outputs": [
    {
     "data": {
      "text/plain": [
       "interrogation                                    391\n",
       "information                                      375\n",
       "REDACTED                                         375\n",
       "Zubaydah                                         328\n",
       "Committee                                        327\n",
       "techniques                                       322\n",
       "August                                           307\n",
       "September                                        299\n",
       "provided                                         241\n",
       "enhanced                                         241\n",
       "Response                                         237\n",
       "Ahmad                                            229\n",
       "detainees                                        224\n",
       "UNCLASSIFIED                                     221\n",
       "reporting                                        209\n",
       "Interrogation                                    207\n",
       "December                                         189\n",
       "Intelligence                                     188\n",
       "alKuwaiti                                        177\n",
       "states                                           176\n",
       "General                                          175\n",
       "April                                            175\n",
       "intelligence                                     169\n",
       "custody                                          156\n",
       "subject                                          147\n",
       "Detention                                        147\n",
       "prior                                            145\n",
       "October                                          138\n",
       "which                                            131\n",
       "Memorandum                                       131\n",
       "                                                ... \n",
       "HEADQUARTHIHHI                                     1\n",
       "Planner                                            1\n",
       "RahmaiUikelr                                       1\n",
       "professional                                       1\n",
       "Zacaiias                                           1\n",
       "risks                                              1\n",
       "expenditures                                       1\n",
       "nominal                                            1\n",
       "WazLr                                              1\n",
       "WithinafewhoursAbuZubaydahagain                    1\n",
       "Ineffective                                        1\n",
       "facilityThose                                      1\n",
       "reimbursed                                         1\n",
       "traveler                                           1\n",
       "Calls                                              1\n",
       "regularly                                          1\n",
       "numberonetargetinSoutheastAsia                     1\n",
       "check                                              1\n",
       "violations                                         1\n",
       "wellknownassociatefteMhnit                         1\n",
       "History                                            1\n",
       "10900                                              1\n",
       "creamultipleongoingdifficultiesbetweenCountry      1\n",
       "mHHHHtheweknown                                    1\n",
       "InitsJune2013ResponsetheCIAstates                  1\n",
       "Yusif                                              1\n",
       "preventing                                         1\n",
       "refused                                            1\n",
       "associatewhich                                     1\n",
       "useofthewaterboardJ                                1\n",
       "Length: 6024, dtype: int64"
      ]
     },
     "execution_count": 82,
     "metadata": {},
     "output_type": "execute_result"
    }
   ],
   "source": [
    "# Token Counts\n",
    "pd.Series(filtered_tokens).value_counts()"
   ]
  },
  {
   "cell_type": "code",
   "execution_count": 84,
   "metadata": {},
   "outputs": [
    {
     "data": {
      "text/plain": [
       "interrogation    391\n",
       "information      375\n",
       "REDACTED         375\n",
       "dtype: int64"
      ]
     },
     "execution_count": 84,
     "metadata": {},
     "output_type": "execute_result"
    }
   ],
   "source": [
    "# Most Counts are\n",
    "# Token Counts\n",
    "pd.Series(filtered_tokens).value_counts()[:3]"
   ]
  },
  {
   "cell_type": "code",
   "execution_count": null,
   "metadata": {
    "collapsed": true
   },
   "outputs": [],
   "source": []
  }
 ],
 "metadata": {
  "kernelspec": {
   "display_name": "Python [conda root]",
   "language": "python",
   "name": "conda-root-py"
  },
  "language_info": {
   "codemirror_mode": {
    "name": "ipython",
    "version": 3
   },
   "file_extension": ".py",
   "mimetype": "text/x-python",
   "name": "python",
   "nbconvert_exporter": "python",
   "pygments_lexer": "ipython3",
   "version": "3.5.3"
  }
 },
 "nbformat": 4,
 "nbformat_minor": 2
}
